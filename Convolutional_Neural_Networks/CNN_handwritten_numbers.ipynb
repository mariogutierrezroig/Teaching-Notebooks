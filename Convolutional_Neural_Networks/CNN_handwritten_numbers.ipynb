{
 "cells": [
  {
   "cell_type": "markdown",
   "metadata": {},
   "source": [
    "# __Convolutional Neural Networks: Handwriting Recognition__\n",
    "---\n",
    "\n",
    "In this session we will learn how to create and train from scratch a [Convolutional Neural Network (CNN)](https://en.wikipedia.org/wiki/Convolutional_neural_network) that is able to recognize handwritten numbers. This is a typical problem in Handwriting Recognition (HWR) that has many applications in our current society, from being able to transcript text from phones and tablets to quickly scan and digitize old documents. HWR software is also widely used in all kind of administrative procedures, for example when we are asked to fill a from manually writing the letters and numbers in single-letter boxes, so the information in the document can be effectively and quickly gathered.\n",
    "\n",
    "The HWR is a problem that has been studied for decades. Back in 1974 [Ray Kurzweil](https://en.wikipedia.org/wiki/Ray_Kurzweil) commercialised the first software able to recognize characters in multiple fonts. That pioneer software hardcoded the extraction of manually selected features of the different symbols. But in 1989 [Yann LeCun](https://en.wikipedia.org/wiki/Yann_LeCun) applied the back-propagation algorithm to the recently conceived CNNs, thus creating the [LeNet](https://en.wikipedia.org/wiki/LeNet). This new CNN, trained on the [MNIST](http://yann.lecun.com/exdb/mnist/) database, automated the process of the feature extraction increasing substantially the performance for recognising handwritten digits. The software, with an incredible error rate of only 1%, would ended up being used by the US Postal Service ([here](https://www.youtube.com/watch?v=FwFduRA_L6Q) is a nice demo at the time). In 2011 [a team of computer scientists achieved an astonoshing 99.73% accuracy rate](https://ieeexplore.ieee.org/document/6065487), comparable to human performance. Read [this](https://towardsdatascience.com/https-medium-com-rachelwiles-have-we-solved-the-problem-of-handwriting-recognition-712e279f373b) interesting post from \"towards data science\" blog for more details.\n",
    "\n",
    "In this lab, we are going to use the very same old MNIST dataset to recognise handwritten digits, but with nowadays much faster computers. The theoretical concepts we are going to manage here are on the [Deep Learning section](https://moodle.essex.ac.uk/course/view.php?id=15076&section=7) of the Moodle page. Make sure you are familiar with them.\n"
   ]
  },
  {
   "cell_type": "markdown",
   "metadata": {},
   "source": [
    "## The Dataset\n",
    "---\n",
    "The MNIST dataset is one of the built-in datasets in keras library that we can easily import without having to download and structure the dataset. We can split the content in four variables for easily handling the data throughout our code."
   ]
  },
  {
   "cell_type": "code",
   "execution_count": 1,
   "metadata": {},
   "outputs": [],
   "source": [
    "from keras.datasets import mnist\n",
    "(trainX, trainY), (testX, testY) = mnist.load_data()"
   ]
  },
  {
   "cell_type": "markdown",
   "metadata": {},
   "source": [
    "trainX and testX contain the 60000 images for training and 10000 for testing respectively, and trainy and testy contain its corresponding labels, 0-9 integers, in a vector. We can observe the specific format of the variables by checking its .shape attribute. "
   ]
  },
  {
   "cell_type": "code",
   "execution_count": 2,
   "metadata": {},
   "outputs": [
    {
     "name": "stdout",
     "output_type": "stream",
     "text": [
      "Train: X=(60000, 28, 28), y=(60000,)\n",
      "Test: X=(10000, 28, 28), y=(10000,)\n"
     ]
    }
   ],
   "source": [
    "print('Train: X=%s, y=%s' % (trainX.shape, trainY.shape))\n",
    "print('Test: X=%s, y=%s' % (testX.shape, testY.shape))"
   ]
  },
  {
   "cell_type": "markdown",
   "metadata": {},
   "source": [
    "It is important that we understand that we are operating with images of 28x28 pixels. As anything inside computers, images are a collection of numbers structured in a particular way. Normally each pixel has three values from 0 to 255 for each RGB channel. However, in this case as the images are greyscaled for each pixels we have one value from 0 (black) to 255 (white). For one image, we have a 28x28 tuple, i.e. a vector of 28 vectors where each inner vector represents a row of pixels. We can see the whole object by printing the first element."
   ]
  },
  {
   "cell_type": "code",
   "execution_count": 3,
   "metadata": {},
   "outputs": [
    {
     "name": "stdout",
     "output_type": "stream",
     "text": [
      "[[  0   0   0   0   0   0   0   0   0   0   0   0   0   0   0   0   0   0\n",
      "    0   0   0   0   0   0   0   0   0   0]\n",
      " [  0   0   0   0   0   0   0   0   0   0   0   0   0   0   0   0   0   0\n",
      "    0   0   0   0   0   0   0   0   0   0]\n",
      " [  0   0   0   0   0   0   0   0   0   0   0   0   0   0   0   0   0   0\n",
      "    0   0   0   0   0   0   0   0   0   0]\n",
      " [  0   0   0   0   0   0   0   0   0   0   0   0   0   0   0   0   0   0\n",
      "    0   0   0   0   0   0   0   0   0   0]\n",
      " [  0   0   0   0   0   0   0   0   0   0   0   0   0   0   0   0   0   0\n",
      "    0   0   0   0   0   0   0   0   0   0]\n",
      " [  0   0   0   0   0   0   0   0   0   0   0   0   3  18  18  18 126 136\n",
      "  175  26 166 255 247 127   0   0   0   0]\n",
      " [  0   0   0   0   0   0   0   0  30  36  94 154 170 253 253 253 253 253\n",
      "  225 172 253 242 195  64   0   0   0   0]\n",
      " [  0   0   0   0   0   0   0  49 238 253 253 253 253 253 253 253 253 251\n",
      "   93  82  82  56  39   0   0   0   0   0]\n",
      " [  0   0   0   0   0   0   0  18 219 253 253 253 253 253 198 182 247 241\n",
      "    0   0   0   0   0   0   0   0   0   0]\n",
      " [  0   0   0   0   0   0   0   0  80 156 107 253 253 205  11   0  43 154\n",
      "    0   0   0   0   0   0   0   0   0   0]\n",
      " [  0   0   0   0   0   0   0   0   0  14   1 154 253  90   0   0   0   0\n",
      "    0   0   0   0   0   0   0   0   0   0]\n",
      " [  0   0   0   0   0   0   0   0   0   0   0 139 253 190   2   0   0   0\n",
      "    0   0   0   0   0   0   0   0   0   0]\n",
      " [  0   0   0   0   0   0   0   0   0   0   0  11 190 253  70   0   0   0\n",
      "    0   0   0   0   0   0   0   0   0   0]\n",
      " [  0   0   0   0   0   0   0   0   0   0   0   0  35 241 225 160 108   1\n",
      "    0   0   0   0   0   0   0   0   0   0]\n",
      " [  0   0   0   0   0   0   0   0   0   0   0   0   0  81 240 253 253 119\n",
      "   25   0   0   0   0   0   0   0   0   0]\n",
      " [  0   0   0   0   0   0   0   0   0   0   0   0   0   0  45 186 253 253\n",
      "  150  27   0   0   0   0   0   0   0   0]\n",
      " [  0   0   0   0   0   0   0   0   0   0   0   0   0   0   0  16  93 252\n",
      "  253 187   0   0   0   0   0   0   0   0]\n",
      " [  0   0   0   0   0   0   0   0   0   0   0   0   0   0   0   0   0 249\n",
      "  253 249  64   0   0   0   0   0   0   0]\n",
      " [  0   0   0   0   0   0   0   0   0   0   0   0   0   0  46 130 183 253\n",
      "  253 207   2   0   0   0   0   0   0   0]\n",
      " [  0   0   0   0   0   0   0   0   0   0   0   0  39 148 229 253 253 253\n",
      "  250 182   0   0   0   0   0   0   0   0]\n",
      " [  0   0   0   0   0   0   0   0   0   0  24 114 221 253 253 253 253 201\n",
      "   78   0   0   0   0   0   0   0   0   0]\n",
      " [  0   0   0   0   0   0   0   0  23  66 213 253 253 253 253 198  81   2\n",
      "    0   0   0   0   0   0   0   0   0   0]\n",
      " [  0   0   0   0   0   0  18 171 219 253 253 253 253 195  80   9   0   0\n",
      "    0   0   0   0   0   0   0   0   0   0]\n",
      " [  0   0   0   0  55 172 226 253 253 253 253 244 133  11   0   0   0   0\n",
      "    0   0   0   0   0   0   0   0   0   0]\n",
      " [  0   0   0   0 136 253 253 253 212 135 132  16   0   0   0   0   0   0\n",
      "    0   0   0   0   0   0   0   0   0   0]\n",
      " [  0   0   0   0   0   0   0   0   0   0   0   0   0   0   0   0   0   0\n",
      "    0   0   0   0   0   0   0   0   0   0]\n",
      " [  0   0   0   0   0   0   0   0   0   0   0   0   0   0   0   0   0   0\n",
      "    0   0   0   0   0   0   0   0   0   0]\n",
      " [  0   0   0   0   0   0   0   0   0   0   0   0   0   0   0   0   0   0\n",
      "    0   0   0   0   0   0   0   0   0   0]]\n"
     ]
    }
   ],
   "source": [
    "print(trainX[0])"
   ]
  },
  {
   "cell_type": "markdown",
   "metadata": {},
   "source": [
    "In case we want to see the corresponding image we can directly use the imshow() function from the matplotlib library. Let's have a look to the first nine images of the training dataset `trainX`:"
   ]
  },
  {
   "cell_type": "code",
   "execution_count": 4,
   "metadata": {},
   "outputs": [
    {
     "data": {
      "image/png": "[encoded data removed]",
      "text/plain": [
       "<Figure size 432x288 with 9 Axes>"
      ]
     },
     "metadata": {
      "needs_background": "light"
     },
     "output_type": "display_data"
    }
   ],
   "source": [
    "import matplotlib.pyplot as plt\n",
    "for i in range(9):\n",
    "    # define subplot\n",
    "    plt.subplot(330 + 1 + i)\n",
    "    # plot raw pixel data\n",
    "    plt.imshow(trainX[i], cmap=plt.get_cmap('gray'))\n",
    "# show the figure\n",
    "plt.show()"
   ]
  },
  {
   "cell_type": "markdown",
   "metadata": {},
   "source": [
    "And its corresponding labels in the `trainY` variable,"
   ]
  },
  {
   "cell_type": "code",
   "execution_count": 5,
   "metadata": {},
   "outputs": [
    {
     "name": "stdout",
     "output_type": "stream",
     "text": [
      "[5 0 4 1 9 2 1 3 1]\n"
     ]
    }
   ],
   "source": [
    "print(trainY[:9])"
   ]
  },
  {
   "cell_type": "markdown",
   "metadata": {},
   "source": [
    "Now let's do the same, plotting the images and printing its corresponding labels, for the first nine numbers in the test dataset."
   ]
  },
  {
   "cell_type": "code",
   "execution_count": 6,
   "metadata": {},
   "outputs": [
    {
     "data": {
      "image/png": "[encoded data removed]",
      "text/plain": [
       "<Figure size 432x288 with 9 Axes>"
      ]
     },
     "metadata": {
      "needs_background": "light"
     },
     "output_type": "display_data"
    },
    {
     "name": "stdout",
     "output_type": "stream",
     "text": [
      "[7 2 1 0 4 1 4 9 5]\n"
     ]
    }
   ],
   "source": [
    "# FOR loop to print the first 9 images of the testX dataset\n",
    "for i in range(9):\n",
    "    plt.subplot(330 + 1 + i)\n",
    "    plt.imshow(testX[i], cmap=plt.get_cmap('gray'))\n",
    "plt.show()\n",
    "# print the first 9 lables of the testy variable\n",
    "print(testY[:9])"
   ]
  },
  {
   "cell_type": "markdown",
   "metadata": {},
   "source": [
    "## Pre-processing\n",
    "---\n",
    "\n",
    "In the MNIST dataset al the numbers are already nicely pre-processed, the numbers are scaled to 28x28 pixels, centred and greyscaled. This of course is very convenient for training our data. However, it still needs some adjustments. The first one is explicitly specifying that the images have only one channel, so the algorithm does not get confused when reading the images. To do so, we need to re-shape our 28x28 tuples and converting it to 28 x 28 x 1, indicating that in each pixel position we have one single value instead of the usual 3 for RGB (28 x 28 x 3). The numbers will be exactly the same, only the format will slightly change. We can use the `.reshape()` method to do that."
   ]
  },
  {
   "cell_type": "code",
   "execution_count": 7,
   "metadata": {},
   "outputs": [],
   "source": [
    "# reshape dataset to have a single channel\n",
    "trainX = trainX.reshape((trainX.shape[0], 28, 28, 1))\n",
    "testX = testX.reshape((testX.shape[0], 28, 28, 1))"
   ]
  },
  {
   "cell_type": "markdown",
   "metadata": {},
   "source": [
    "Another typical pre-processing method that must be followed when dealing with images is to scale pixel values. There are three options here:\n",
    "* __Pixel Normalisation:__ Scale pixel values to the 0-1 range.\n",
    "* __Pixel Centring:__ Scale pixel values to zero mean, with negative and positive values.\n",
    "* __Pixel Standarisation:__ Scale pixel values to zero mean and unit variance.\n",
    "\n",
    "In this case we are going to use pixel normalisation, so we need to rescale the value range from 0-255 to 0-1."
   ]
  },
  {
   "cell_type": "code",
   "execution_count": 8,
   "metadata": {},
   "outputs": [],
   "source": [
    "#Normalise pixel values\n",
    "trainX = trainX / 255.0\n",
    "testX = testX / 255.0"
   ]
  },
  {
   "cell_type": "markdown",
   "metadata": {},
   "source": [
    "The target datasets vectors also need some readjustment. The MNIST dataset provides integer numbers from 0 to 9, but here the real machine learning problem type is a __classification problem__ (categorical) rather than a regression problem (numerical). Thus, the error from predicting 3 instead of 2 is not smaller than predicting 8 instead of 2. Failing the prediction counts the same no matter how close those numbers are, we have to treat them like labels. In order to frame the problem correctly we need to convert the numbers in the test variables, from integers to categories. As there are 10 mutually exclusive categories, we will represent this by a vector with 10 position where everything will be zeros except the position that indicates the number, that will be filled with a 1. For example, the number 3 will then be encoded as a vector of zeros except a 1 in the fourth position (the first position is for the 0): `[0 0 0 1 0 0 0 0 0 0]`. Fortunately, keras library provides the `to_categorical()` function that does this job efficiently. "
   ]
  },
  {
   "cell_type": "code",
   "execution_count": 9,
   "metadata": {},
   "outputs": [
    {
     "name": "stdout",
     "output_type": "stream",
     "text": [
      "First 9 Train Y values before conversion:\n",
      "[5 0 4 1 9 2 1 3 1]\n",
      "First 9 Train Y values after conversion:\n",
      "[[0. 0. 0. 0. 0. 1. 0. 0. 0. 0.]\n",
      " [1. 0. 0. 0. 0. 0. 0. 0. 0. 0.]\n",
      " [0. 0. 0. 0. 1. 0. 0. 0. 0. 0.]\n",
      " [0. 1. 0. 0. 0. 0. 0. 0. 0. 0.]\n",
      " [0. 0. 0. 0. 0. 0. 0. 0. 0. 1.]\n",
      " [0. 0. 1. 0. 0. 0. 0. 0. 0. 0.]\n",
      " [0. 1. 0. 0. 0. 0. 0. 0. 0. 0.]\n",
      " [0. 0. 0. 1. 0. 0. 0. 0. 0. 0.]\n",
      " [0. 1. 0. 0. 0. 0. 0. 0. 0. 0.]]\n"
     ]
    }
   ],
   "source": [
    "from keras.utils import to_categorical\n",
    "\n",
    "print(\"First 9 Train Y values before conversion:\")\n",
    "print(trainY[:9])\n",
    "\n",
    "# Convert labels from a 0-9 integer to a category (vector)\n",
    "trainY = to_categorical(trainY)\n",
    "testY = to_categorical(testY)\n",
    "\n",
    "print(\"First 9 Train Y values after conversion:\")\n",
    "print(trainY[:9])"
   ]
  },
  {
   "cell_type": "markdown",
   "metadata": {},
   "source": [
    "Let's create a convenient function that we can name `load_dataset()` for loading and preprocessing the MNIST data. The function outputs the four variables, `trainX`, `trainY`, `testX` and `testY` with the data treated as explained in this section. "
   ]
  },
  {
   "cell_type": "code",
   "execution_count": 10,
   "metadata": {},
   "outputs": [],
   "source": [
    "from keras.utils import to_categorical\n",
    "\n",
    "# Function to load and prepare the dataset\n",
    "def load_dataset():\n",
    "    # load dataset\n",
    "    (trainX, trainY), (testX, testY) = mnist.load_data()\n",
    "    # reshape dataset to have a single channel\n",
    "    trainX = trainX.reshape((trainX.shape[0], 28, 28, 1))\n",
    "    testX = testX.reshape((testX.shape[0], 28, 28, 1))\n",
    "    # normalize the pixel value from 0-255 to 0-1\n",
    "    trainX = trainX.astype('float32') / 255.0\n",
    "    testX = testX.astype('float32') / 255.0\n",
    "    # one hot encode target values\n",
    "    trainY = to_categorical(trainY)\n",
    "    testY = to_categorical(testY)\n",
    "    return trainX, trainY, testX, testY"
   ]
  },
  {
   "cell_type": "markdown",
   "metadata": {},
   "source": [
    "## Defining the architecture\n",
    "---\n",
    "\n",
    "When processing data to predict a class, a Convolutional Neural Network has to resolve two different tasks at the same time. The first one (front-end) is to extract the relevant patterns and features from the image, based on a combination of kernel and pooling operations. The second task (back-end) is to use those extracted features to classify the image as one of the possible classes. This will be achieved by the back-end classifier layers, usually a fully connected layers.\n",
    "\n",
    "Deciding the specific architecture of a neural network is a process that requires a lot of trial and error, and sometimes a little bit of intuition. Many different architectures and training configurations can lead to good results, so there is no one single right answer. In our case we are going to start with a very simple CNN, enough to do the job relatively well. In case we want to expand this model further we can always add more layers and see how the accuracy improves.\n",
    "\n",
    "For the front-end, we will use only one __2D convolutional layer__ with __16 filters__(features) and a small __kernel size (3,3)__. This will be followed by a __2x2__ __max pooling layer__. The __flatten layer__ will connect the front-end with the back-end, passing 3136 inputs (14 x 14 x 16) to the classifier. The fully connected layer will be a __dense layer__ with __100 nodes__. All neurons will use __ReLU activation functions__ and weights will be initialised uniformally. The last __output layer__ has to contain __10 nodes__, we are predicting 10 different numbers, with __softmax activation__ to determine the category. \n",
    "\n",
    "For the learning configuration we will use a __stochastic gradient descent__ (SGD) optimizer with a __learning rate of 0.01__ and a __momentum of 0.9__. The __categorical cross-entropy loss__ function will be optimized, usual choice when dealing with classification problems, and we also speciy that we will monitor the classification __accuracy__ metric.\n",
    "\n",
    "The model described here will be built in a function called `define_model()` that will output the model configuration ready for training.\n"
   ]
  },
  {
   "cell_type": "code",
   "execution_count": 11,
   "metadata": {},
   "outputs": [
    {
     "name": "stdout",
     "output_type": "stream",
     "text": [
      "Model: \"sequential\"\n",
      "_________________________________________________________________\n",
      "Layer (type)                 Output Shape              Param #   \n",
      "=================================================================\n",
      "conv2d (Conv2D)              (None, 26, 26, 16)        160       \n",
      "_________________________________________________________________\n",
      "max_pooling2d (MaxPooling2D) (None, 13, 13, 16)        0         \n",
      "_________________________________________________________________\n",
      "flatten (Flatten)            (None, 2704)              0         \n",
      "_________________________________________________________________\n",
      "dense (Dense)                (None, 100)               270500    \n",
      "_________________________________________________________________\n",
      "dense_1 (Dense)              (None, 10)                1010      \n",
      "=================================================================\n",
      "Total params: 271,670\n",
      "Trainable params: 271,670\n",
      "Non-trainable params: 0\n",
      "_________________________________________________________________\n"
     ]
    }
   ],
   "source": [
    "from keras.models import Sequential\n",
    "from keras.layers import Conv2D, MaxPooling2D, Dense, Flatten\n",
    "from keras.optimizers import SGD\n",
    "\n",
    "def define_model_simple():\n",
    "    # Define the Sequential model class for our case\n",
    "    model = Sequential()\n",
    "    # Define the layers of our network\n",
    "    model.add(Conv2D(filters=16, kernel_size=(3, 3), activation='relu', kernel_initializer='he_uniform', input_shape=(28, 28, 1)))\n",
    "    model.add(MaxPooling2D(pool_size=(2, 2)))\n",
    "    model.add(Flatten())\n",
    "    model.add(Dense(100, activation='relu', kernel_initializer='he_uniform'))\n",
    "    model.add(Dense(10, activation='softmax'))\n",
    "    \n",
    "    # compile model and training configuration\n",
    "    opt = SGD(lr=0.01, momentum=0.9)\n",
    "    model.compile(optimizer=opt, loss='categorical_crossentropy', metrics=['accuracy'])\n",
    "    \n",
    "    return model\n",
    "\n",
    "simple_model = define_model_simple()\n",
    "simple_model.summary()"
   ]
  },
  {
   "cell_type": "markdown",
   "metadata": {},
   "source": [
    "<div class=\"alert alert-block alert-info\"><b>Exercise 1:</b><br>Create a function called define_model_advanced() that builds the architecture for a slighlty more advanced CNN corresponding to the following image:<br><br><img src=\"https://raw.githubusercontent.com/mariogutierrezroig/Teaching-Notebooks/main/Convolutional_Neural_Networks/CNN_architecture_advanced.png\" style=\"width: 600px\"></div>"
   ]
  },
  {
   "cell_type": "code",
   "execution_count": null,
   "metadata": {},
   "outputs": [],
   "source": [
    "### EXERCISE 1 SOLUTION ###\n",
    "\n"
   ]
  },
  {
   "cell_type": "markdown",
   "metadata": {},
   "source": [
    "## Training the model\n",
    "---\n",
    "Everything is now ready to train our CNN with the MNIST dataset. Because we have defined the preliminary steps as functions, `load_dataset()` and `define_model()`, we can actually run the training process in very few lines.   The most convenient way to do it is by creating a function named `run()`, that contains all the previous steps before training, then training and evaluating the network and finally plotting some of the results. Including a line for saving the model it is always a good idea. This creates a 4.4MB file that we can load and use for predicting new numbers as explain below.\n",
    "\n",
    "__Note__: Training a CNN such as the one here with a dataset of 70,000 different instances can take quite a while. Of course this will depend on your hardware setup and whether you are running it in a machine with GPU or CPU only. As a reference, it took my laptop, an intel core i7 with 16GB of RAM, several minutes to complete the training. "
   ]
  },
  {
   "cell_type": "code",
   "execution_count": 13,
   "metadata": {},
   "outputs": [
    {
     "name": "stdout",
     "output_type": "stream",
     "text": [
      "Epoch 1/12\n",
      "118/118 [==============================] - 9s 74ms/step - loss: 0.8251 - accuracy: 0.7427 - val_loss: 0.2355 - val_accuracy: 0.9321\n",
      "Epoch 2/12\n",
      "118/118 [==============================] - 8s 71ms/step - loss: 0.2326 - accuracy: 0.9309 - val_loss: 0.1858 - val_accuracy: 0.9462\n",
      "Epoch 3/12\n",
      "118/118 [==============================] - 8s 69ms/step - loss: 0.1871 - accuracy: 0.9445 - val_loss: 0.1474 - val_accuracy: 0.9572\n",
      "Epoch 4/12\n",
      "118/118 [==============================] - 8s 64ms/step - loss: 0.1547 - accuracy: 0.9537 - val_loss: 0.1267 - val_accuracy: 0.9628\n",
      "Epoch 5/12\n",
      "118/118 [==============================] - 8s 67ms/step - loss: 0.1307 - accuracy: 0.9617 - val_loss: 0.1128 - val_accuracy: 0.9661\n",
      "Epoch 6/12\n",
      "118/118 [==============================] - 8s 69ms/step - loss: 0.1141 - accuracy: 0.9664 - val_loss: 0.1005 - val_accuracy: 0.9705\n",
      "Epoch 7/12\n",
      "118/118 [==============================] - 8s 71ms/step - loss: 0.1001 - accuracy: 0.9712 - val_loss: 0.0945 - val_accuracy: 0.9707\n",
      "Epoch 8/12\n",
      "118/118 [==============================] - 8s 71ms/step - loss: 0.0898 - accuracy: 0.9747 - val_loss: 0.0933 - val_accuracy: 0.9718\n",
      "Epoch 9/12\n",
      "118/118 [==============================] - 8s 71ms/step - loss: 0.0804 - accuracy: 0.9768 - val_loss: 0.0863 - val_accuracy: 0.9736\n",
      "Epoch 10/12\n",
      "118/118 [==============================] - 8s 67ms/step - loss: 0.0750 - accuracy: 0.9783 - val_loss: 0.0791 - val_accuracy: 0.9756\n",
      "Epoch 11/12\n",
      "118/118 [==============================] - 8s 70ms/step - loss: 0.0668 - accuracy: 0.9812 - val_loss: 0.0775 - val_accuracy: 0.9767\n",
      "Epoch 12/12\n",
      "118/118 [==============================] - 8s 72ms/step - loss: 0.0640 - accuracy: 0.9815 - val_loss: 0.0738 - val_accuracy: 0.9781\n"
     ]
    }
   ],
   "source": [
    "# load dataset\n",
    "trainX, trainY, testX, testY = load_dataset()\n",
    "# fit model\n",
    "history = simple_model.fit(trainX, trainY, epochs=12, batch_size=512, validation_data=(testX, testY), verbose=True)\n",
    "# save the model to file\n",
    "simple_model.save('handwritten_numbers_classification_model.h5')"
   ]
  },
  {
   "cell_type": "markdown",
   "metadata": {},
   "source": [
    "The model is already trained, but before using it we might want to check that there is no overfitting. Observing how the accuracy and entropy loss metrics evolve over the training epochs will help us to asses that. Thus we can create a handy function called `diagnostics()` that makes a couple of plots using the information available in the variable `history`, which is the output variable of the training process."
   ]
  },
  {
   "cell_type": "code",
   "execution_count": 14,
   "metadata": {},
   "outputs": [
    {
     "data": {
      "image/png": "[encoded data removed]",
      "text/plain": [
       "<Figure size 432x288 with 2 Axes>"
      ]
     },
     "metadata": {
      "needs_background": "light"
     },
     "output_type": "display_data"
    }
   ],
   "source": [
    "def diagnostics(history, filename=None):\n",
    "       \n",
    "    # Entropy Loss plot\n",
    "    plt.subplot(211)\n",
    "    plt.subplots_adjust(hspace=0.4)\n",
    "    plt.title('Cross Entropy Loss')\n",
    "    plt.plot(history.history['loss'], color='blue', label='train')\n",
    "    plt.plot(history.history['val_loss'], color='orange', label='test')\n",
    "    \n",
    "    # Accuracy plot\n",
    "    plt.subplot(212)\n",
    "    plt.title('Classification Accuracy')\n",
    "    plt.plot(history.history['accuracy'], color='blue', label='train')\n",
    "    plt.plot(history.history['val_accuracy'], color='orange', label='test')\n",
    "    \n",
    "    # Save plot if filename provided\n",
    "    if filename is not None:\n",
    "        plt.savefig(filename)\n",
    "        plt.close()\n",
    "\n",
    "diagnostics(history)"
   ]
  },
  {
   "cell_type": "markdown",
   "metadata": {},
   "source": [
    "We can see in the above image that both curves nicely converge accross time. This means that the results achieved on the training dataset (blue) and the test dataset (orange) are quite similar, which means no signs of overfitting. Another remarkable fact is that the results seem to not be saturated at the end of 12 epochs and some improvement can still be observed. If we let the CNN training for longer we could expect slightly better results."
   ]
  },
  {
   "cell_type": "markdown",
   "metadata": {},
   "source": [
    "Finally, we can get the overall accuracy by evaluating the model on the training dataset, whose data points our model has never seen during the training process. "
   ]
  },
  {
   "cell_type": "code",
   "execution_count": 15,
   "metadata": {},
   "outputs": [
    {
     "name": "stdout",
     "output_type": "stream",
     "text": [
      "Cross Entropy Loss: 0.08\n",
      "Accuracy: 97.77%\n"
     ]
    }
   ],
   "source": [
    "# evaluate model\n",
    "loss, acc = simple_model.evaluate(testX, testY, verbose=0)\n",
    "# Print final accuracy\n",
    "print('Cross Entropy Loss: %.2f' % loss)\n",
    "print('Accuracy: %.2f%%' % (acc * 100.0))"
   ]
  },
  {
   "cell_type": "markdown",
   "metadata": {},
   "source": [
    "The result printed on the screen should show a value close to 98% accuracy. That is quite striking! With a relatively simple convolutional neural network we are getting very high accuracy rates. This shows why CNNs are very powerful when it comes to HWR problems."
   ]
  },
  {
   "cell_type": "markdown",
   "metadata": {},
   "source": [
    "<div class=\"alert alert-block alert-info\"><b>Exercise 2:</b><br>Run the advanced CNN designed in the Exercise 1 and compare the results.</div>"
   ]
  },
  {
   "cell_type": "code",
   "execution_count": null,
   "metadata": {},
   "outputs": [],
   "source": [
    "### EXERCISE 2 SOLUTION ###\n",
    "\n"
   ]
  },
  {
   "cell_type": "markdown",
   "metadata": {},
   "source": [
    "## Looking into the CNN\n",
    "---\n",
    "\n",
    "One of the main drawbacks of Neural Networks in general is that we use them as black boxes where we input some data and most of the times we get a good prediction out of it, but the models are so complex and with so many parameters that we do not really understand what is happening inside. In the case of CNNs, it is dificult to grasp what kind of features and patterns they are picking up from the image.\n",
    "\n",
    "If we want to give it a go, and try to understand what's happening inside the black box, one way is to look at the values of the weights after the neural network has been trained. In particular, if we want to know the values of the 16 different 3x3 kernels in our `simple_model` we can do it using the `get_weights()` function pointing at the selected layer as shown below."
   ]
  },
  {
   "cell_type": "code",
   "execution_count": 14,
   "metadata": {},
   "outputs": [
    {
     "data": {
      "text/plain": [
       "array([[[[ 0.72097707,  0.40058085, -0.72086686,  0.13204624,\n",
       "          -0.15050143,  0.12832692, -0.37374708, -0.96401423,\n",
       "          -0.20598707, -0.18082212,  0.7101312 , -0.18978786,\n",
       "           0.387725  , -0.5534955 ,  0.32621273,  0.9995394 ]],\n",
       "\n",
       "        [[-0.03709399, -0.50354403,  0.08029832, -0.76667553,\n",
       "          -0.31515592,  0.893514  , -0.80165035,  0.667319  ,\n",
       "          -0.8112842 ,  0.08841027,  0.4703979 , -0.6425925 ,\n",
       "           0.81719095,  0.8341233 ,  0.7943504 ,  0.7015657 ]],\n",
       "\n",
       "        [[-0.74237096, -1.0021458 , -0.08680318,  0.4990801 ,\n",
       "           0.3096794 , -0.56960183,  0.36708453,  0.9378664 ,\n",
       "           0.74065804, -0.10556953,  0.8274332 ,  0.38982037,\n",
       "           0.3326378 , -0.06629711, -0.9254536 , -0.57393086]]],\n",
       "\n",
       "\n",
       "       [[[ 0.7316247 , -0.29198518, -0.3917331 ,  0.89619416,\n",
       "          -0.65946805, -0.45614064, -0.07348655,  0.21499532,\n",
       "          -0.6247927 ,  0.48812094,  0.49448267,  0.72367036,\n",
       "          -0.5915835 ,  0.18471427,  0.47279853,  0.83723736]],\n",
       "\n",
       "        [[-0.42798695,  0.70980686,  0.9054857 ,  0.3546077 ,\n",
       "          -0.62161565, -0.46290928, -0.4809961 ,  1.0065728 ,\n",
       "          -0.3717593 , -0.6924549 , -0.6146552 , -0.7191372 ,\n",
       "          -0.14894181, -0.5210303 , -0.16245785,  1.0594851 ]],\n",
       "\n",
       "        [[-0.41175184,  0.6186234 ,  0.597448  ,  0.06907132,\n",
       "           0.9472627 ,  0.6431695 ,  0.5438381 ,  0.8860486 ,\n",
       "           1.0557059 ,  0.24360026,  0.710252  , -0.12566759,\n",
       "           0.409259  , -0.33840504, -0.29563233,  0.46766812]]],\n",
       "\n",
       "\n",
       "       [[[ 0.08973777,  0.675376  ,  0.20492007,  0.7794734 ,\n",
       "          -0.03914694,  0.09003962,  0.3870352 , -0.20374572,\n",
       "          -0.2692426 ,  0.01804788, -0.296797  ,  0.07567509,\n",
       "           0.6183788 , -0.2464304 ,  0.0582321 ,  0.255353  ]],\n",
       "\n",
       "        [[ 0.83126575, -0.29727176, -0.2748573 ,  0.88198596,\n",
       "           0.12815274, -0.77143854, -0.771493  ,  0.5941519 ,\n",
       "          -0.6808171 , -0.11354782,  0.20776956,  0.45022622,\n",
       "           0.7330251 , -0.19656765, -0.1651621 ,  0.3871284 ]],\n",
       "\n",
       "        [[-0.509951  ,  0.6014406 ,  0.8084775 ,  0.9385111 ,\n",
       "           0.44859204, -0.442277  , -0.24920784,  0.64895225,\n",
       "           0.64129084, -0.12396221, -0.6755726 , -0.21995993,\n",
       "           0.23488343, -0.1655417 , -0.36903346,  0.8899476 ]]]],\n",
       "      dtype=float32)"
      ]
     },
     "execution_count": 14,
     "metadata": {},
     "output_type": "execute_result"
    }
   ],
   "source": [
    "# get wieghts of first convolutional layer\n",
    "weights, bias = simple_model.layers[0].get_weights()\n",
    "weights"
   ]
  },
  {
   "cell_type": "markdown",
   "metadata": {},
   "source": [
    "This bunch of numbers do not say much to us, but we can easily plot them in 3x3 kernel units to try shed more light in it."
   ]
  },
  {
   "cell_type": "code",
   "execution_count": 15,
   "metadata": {},
   "outputs": [
    {
     "data": {
      "image/png": "[encoded data removed]",
      "text/plain": [
       "<Figure size 432x288 with 16 Axes>"
      ]
     },
     "metadata": {},
     "output_type": "display_data"
    }
   ],
   "source": [
    "#normalize filter values between  0 and 1 for visualization\n",
    "f_min, f_max = weights.min(), weights.max()\n",
    "filters = (weights - f_min) / (f_max - f_min)  \n",
    "\n",
    "# Counter for filters\n",
    "counter = 1\n",
    "# Get the number of filters \n",
    "num_filters = filters.shape[3]\n",
    "\n",
    "#plotting all the filters\n",
    "for i in range(num_filters):\n",
    "    #get the filter values\n",
    "    filt=filters[:,:,:, i]\n",
    "    # Display the filters in a 4 x 4 arrangement\n",
    "    ax= plt.subplot(4, 4, counter )\n",
    "    ax.set_xticks([])\n",
    "    ax.set_yticks([])\n",
    "    plt.imshow(filt[:,:, 0], cmap='gray')\n",
    "    counter += 1\n",
    "plt.show()"
   ]
  },
  {
   "cell_type": "markdown",
   "metadata": {},
   "source": [
    "## Load the model for applications\n",
    "---\n",
    "When running the function that builds and trains the model we also export the model in a file named `\"handwritten_numbers_classification_model.h5\"`. This file contains all the parameters of the CNN resulting from the training process. Therefore, we can use this network for predicting new instances. This section explains how we can make use of this already trained network.\n",
    "\n",
    "Imagine that we want to classify a new image, like the one you see below.\n",
    "\n",
    "<img src=\"https://raw.githubusercontent.com/mariogutierrezroig/Teaching-Notebooks/main/Convolutional_Neural_Networks/sample_image.png\" alt=\"sample_image\" width=\"100\">\n",
    "\n",
    "The first thing we need to do is to pre-process the image in the same way that we have pre-processed the images in the `trainX` and `testX` datasets. We create a function that does this job given a filename (which should correspond to an image stored in the same working directory than the jupyter notebook). Unlike with the MNIST dataset, now we are loading the image from an external source rather than importing it from a package. The functions `load_img()` and `img_to_array()` will be particularly useful here (check its [documentation page](https://keras.io/api/preprocessing/image/))."
   ]
  },
  {
   "cell_type": "code",
   "execution_count": 16,
   "metadata": {},
   "outputs": [],
   "source": [
    "from keras.preprocessing.image import load_img, img_to_array\n",
    "import numpy as np\n",
    "\n",
    "def load_image(filename):\n",
    "    # load the image\n",
    "    img = load_img(filename, color_mode = \"grayscale\", target_size=(28, 28))\n",
    "    # convert to array\n",
    "    img = img_to_array(img)\n",
    "    # reshape into a single sample with 1 channel\n",
    "    img = img.reshape(1, 28, 28, 1)\n",
    "    # prepare pixel data\n",
    "    img = img.astype('float32')\n",
    "    # Pixel normalisation; only values between 0 and 1\n",
    "    img = (img - np.min(img)) / (np.max(img) - np.min(img))\n",
    "    return img"
   ]
  },
  {
   "cell_type": "markdown",
   "metadata": {},
   "source": [
    "This function will give us the image in the format we need. Then we only need to load our model, using `load_model()`, and predict the class for that image, the attribute `model.predict_classes()` will work for this particular CNN. "
   ]
  },
  {
   "cell_type": "code",
   "execution_count": 17,
   "metadata": {},
   "outputs": [
    {
     "name": "stdout",
     "output_type": "stream",
     "text": [
      "7\n"
     ]
    }
   ],
   "source": [
    "from keras.models import load_model\n",
    "\n",
    "def new_prediction(filename):\n",
    "    # load the image\n",
    "    img = load_image(filename)\n",
    "    # load model\n",
    "    model = load_model('handwritten_numbers_classification_model.h5')\n",
    "    # make the prediction, this outputs the probability for each category\n",
    "    digit = model.predict(img)\n",
    "    # print the category using argmax\n",
    "    print(np.argmax(digit))\n",
    "\n",
    "new_prediction('sample_image.png')"
   ]
  },
  {
   "cell_type": "markdown",
   "metadata": {},
   "source": [
    "As you can see, our model should correctly guess it most of the times. __Congratulations! You have successfully train a Convolutional Neural Network that is able to predict handwritten numbers!__\n",
    "\n",
    "If you really want to test the model by yourselves, you can also use 28 x 28 pixel images with a number drawn in it using Photoshop or equivalent software. Alternatively, you can draw digit numbers in a piece of paper, take a picture, shrink the image to a 28 x 28 picture and convert it to a greyscale where the background is black. Your network should also be able to produce good predictions on your own handwritten numbers. In fact, there are many [online websites](http://www.ccom.ucsd.edu/~cdeotte/programs/MNIST.html) that provide a front-end to draw a number and use a CNN to classify it. This is not far from your own skills right now!"
   ]
  },
  {
   "cell_type": "markdown",
   "metadata": {},
   "source": [
    "<div class=\"alert alert-block alert-info\"><b>Exercise 3:</b><br>I have written a bunch of numbers on my notebook and taken a picture:<br><br><img src=\"https://raw.githubusercontent.com/mariogutierrezroig/Teaching-Notebooks/main/Convolutional_Neural_Networks/numbers_in_a_notebook.png\" style=\"width: 400px\"><br><br>Can you make an algorithm able to read them?<br><br><i>Hints: The python pillow (PIL) library will be useful here. You will need to <a href=\"https://pillow.readthedocs.io/en/stable/reference/Image.html#PIL.Image.Image.crop\">crop</a> the original image multiple times in order to extract each digit individually. Then you will also need to <a href=\"https://pillow.readthedocs.io/en/stable/reference/Image.html#PIL.Image.Image.thumbnail\">resize</a> the cropped image, so it has the same 28x28 pixel proportion than the training data, and <a href=\"https://stackoverflow.com/questions/2498875/how-to-invert-colors-of-image-with-pil-python-imaging\">invert its colors</a> before saving it as a separate file. You can then use the load_image() function we created before and run the normal prediction.</i></div>"
   ]
  },
  {
   "cell_type": "code",
   "execution_count": null,
   "metadata": {},
   "outputs": [],
   "source": [
    "### EXERCISE 3 SOLUTION ###\n",
    "\n"
   ]
  },
  {
   "cell_type": "markdown",
   "metadata": {},
   "source": [
    "<div class=\"alert alert-block alert-info\"><b>Exercise 4: (Optional)</b><br>So far we have used the MNIST dataset only for digits. However, there is and extended version of the dataset called <a href=\"https://www.nist.gov/itl/products-and-services/emnist-dataset\">EMNIST</a> that constains characters as well as numbers. Use this dataset, <a href=\"https://moodle.essex.ac.uk/course/view.php?id=15076&section=13\">available to download in Moodle</a>, to train a CNN and successfully read (with at least 70% success) the following photo from a handwritten text:<br><br> <img src=\"DATASCIENCEISFUN.png\" style=\"width: 600px\"><br><br>Alternatively, you can also try to handwrite something on your own, take a picture, and make the CNN read your own words.<br><br><i>Hints: There are several things you should consider for such an endeavour.\n",
    "<ol>\n",
    "  <li>First, is that loading the EMNIST dataset is going to be different than with MNIST since it is not part of the keras built-in datasets. Use the function below to load and pre-process (basically flip and rotate) the EMNIST training and testing datasets, so that you end up with objects of the exact same format than in MNIST. Please, be aware that you need to download the \".zip\" file and decompress it in the same directory than the jupyter notebook.</li>\n",
    "  <li>In the decompressed folder called \"emnist-balanced\" you will find the CSVs with the train and test datasets, alongside the mapping.txt file, which contains the categories for the characters. Once a class is predicted, use chr(mapping(predicted_class)) in order to obtain the actual predicted character.</li>\n",
    "  <li>As for the architecture of the CNN, you are very welcome to try your own ideas, but it is always worth to <a href=\"https://www.kaggle.com/crawford/emnist/code?datasetId=7160&sortBy=voteCount\">check architectures that have already proved successful when trained on this dataset</a>.</li>\n",
    "  <li>Like in the previous exercise, you will also need to <a href=\"https://pillow.readthedocs.io/en/stable/reference/Image.html#PIL.Image.Image.crop\">crop</a>, <a href=\"https://pillow.readthedocs.io/en/stable/reference/Image.html#PIL.Image.Image.thumbnail\">resize</a>, and <a href=\"https://stackoverflow.com/questions/2498875/how-to-invert-colors-of-image-with-pil-python-imaging\">invert image's colors</a>, before saving each letter in a separated file.</li>\n",
    "  <li>The cropping points for extracting the letters can be adjusted manually. One useful trick for this it is to resize the whole image to 28-pixel height and select only the points along the x-axis. Make sure that only the letter of interest is visible when you crop from the original image.</li>\n",
    "</ol></i></div>"
   ]
  },
  {
   "cell_type": "code",
   "execution_count": 20,
   "metadata": {},
   "outputs": [
    {
     "data": {
      "image/png": "[encoded data removed]",
      "text/plain": [
       "<Figure size 432x288 with 9 Axes>"
      ]
     },
     "metadata": {
      "needs_background": "light"
     },
     "output_type": "display_data"
    }
   ],
   "source": [
    "### USE THIS FOR EXERCISE 4 SOLUTION ###\n",
    "\n",
    "import pandas as pd\n",
    "import numpy as np\n",
    "\n",
    "def load_emnist(show_example=True):\n",
    "    \"\"\"\n",
    "    Loads EMNIST dataset, preprocess the data and splits it\n",
    "    in train_x, train_y, test_x, test_y & mapping.\n",
    "    \"\"\"\n",
    "    \n",
    "    train = pd.read_csv(\"./emnist-balanced/emnist-balanced-train.csv\",delimiter = ',')\n",
    "    test = pd.read_csv(\"./emnist-balanced/emnist-balanced-test.csv\", delimiter = ',')\n",
    "    mapping = pd.read_csv(\"./emnist-balanced/emnist-balanced-mapping.txt\", delimiter = ' ', index_col=0, header=None, squeeze=True)\n",
    "\n",
    "    # Split x and y\n",
    "    train_x = train.iloc[:,1:]\n",
    "    train_y = train.iloc[:,0]\n",
    "    test_x = test.iloc[:,1:]\n",
    "    test_y = test.iloc[:,0]\n",
    "\n",
    "    # Flip and rotate image\n",
    "    def rotate(image):\n",
    "        image = image.reshape([28, 28])\n",
    "        image = np.fliplr(image)\n",
    "        image = np.rot90(image)\n",
    "        return image\n",
    "    \n",
    "    train_x = np.asarray(train_x)\n",
    "    train_x = np.apply_along_axis(rotate, 1, train_x)\n",
    "    test_x = np.asarray(test_x)\n",
    "    test_x = np.apply_along_axis(rotate, 1, test_x)\n",
    "\n",
    "    # Normalise\n",
    "    train_x = train_x.astype('float32')\n",
    "    train_x /= 255\n",
    "    test_x = test_x.astype('float32')\n",
    "    test_x /= 255\n",
    "\n",
    "    if show_example:\n",
    "        for i in range(0,9):\n",
    "            # define subplot\n",
    "            plt.subplot(330 + 1 + i)\n",
    "            # plot raw pixel data\n",
    "            plt.imshow(train_x[i], cmap=plt.get_cmap('gray'))    \n",
    "        # show the figure\n",
    "        plt.show()\n",
    "    \n",
    "    train_x = train_x.reshape((train_x.shape[0], 28, 28, 1))\n",
    "    test_x = test_x.reshape((test_x.shape[0], 28, 28, 1))\n",
    "    train_y = to_categorical(train_y)\n",
    "    test_y = to_categorical(test_y)\n",
    "       \n",
    "    return train_x, train_y, test_x, test_y, mapping\n",
    "\n",
    "# Load the dataset\n",
    "train_x, train_y, test_x, test_y, mapping = load_emnist(show_example=True)"
   ]
  },
  {
   "cell_type": "code",
   "execution_count": null,
   "metadata": {},
   "outputs": [],
   "source": [
    "### EXERCISE 4 SOLUTION ###\n",
    "\n"
   ]
  },
  {
   "cell_type": "markdown",
   "metadata": {},
   "source": [
    "---\n",
    "<div style=\"text-align: right ;font-size: small; color: gray\"> Notebook by <a href=\"http://mariogutierrezroig.net\">Mario Gutiérrez-Roig</a>, Lecturer in Data Science and Statistics at the University of Essex <a href=\"http://creativecommons.org/licenses/by-sa/4.0/\" rel=\"license\"><img src=\"https://i.creativecommons.org/l/by-sa/4.0/88x31.png\" alt=\"Licencia de Creative Commons\" hspace=\"10\" align=\"right\"></a></div>"
   ]
  }
 ],
 "metadata": {
  "kernelspec": {
   "display_name": "Python 3 (ipykernel)",
   "language": "python",
   "name": "python3"
  },
  "language_info": {
   "codemirror_mode": {
    "name": "ipython",
    "version": 3
   },
   "file_extension": ".py",
   "mimetype": "text/x-python",
   "name": "python",
   "nbconvert_exporter": "python",
   "pygments_lexer": "ipython3",
   "version": "3.8.13"
  }
 },
 "nbformat": 4,
 "nbformat_minor": 4
}
