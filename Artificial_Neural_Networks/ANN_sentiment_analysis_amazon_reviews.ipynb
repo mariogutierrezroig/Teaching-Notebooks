{
 "cells": [
  {
   "cell_type": "markdown",
   "metadata": {},
   "source": [
    "# __Artificial Neural Networks: Sentiment Analysis of Amazon Reviews__\n",
    "---\n",
    "\n",
    "[Deep Learning](https://en.wikipedia.org/wiki/Deep_learning) is revolutionising our world as we know it. Several tasks that we thought not long ago could only be performed by humans, now can be performed by machines faster, in a bigger scale and more accurately. These tasks go from recognising recognising all the objects in millions of images to driving cars without the intervention of any human. Another huge revolution has taken place in the field of computational linguistics thanks to the [Natural Language Processing (NLP)](https://en.wikipedia.org/wiki/Natural_language_processing). The ability to learn from the humongous corpus of texts produced by humans over centuries and recently digitised, has allowed the creation of [algorithms able to generate text](https://www.wired.com/story/ai-text-generator-gpt-3-learning-language-fitfully/) with an incredible resemblance to human texts, [translate texts](https://en.wikipedia.org/wiki/Google_Neural_Machine_Translation) from and to multiple languages, or [virtual assistants and chatbots](https://en.wikipedia.org/wiki/Virtual_assistant) that we can interact with by just talking to them rather than pressing buttons.\n",
    "\n",
    "[Sentiment analysis](https://en.wikipedia.org/wiki/Sentiment_analysis), part of the NLP, is a contextual mining of text that is able to extract and quantify subjective information. Monitoring online conversations and using sentiment analysis might be useful for businesses that want to understand the social sentiment of their brand or a particular product. The increasing accessibility to online opinions in platforms such as Twitter, Amazon or Tripadvisor has made this tools to be more and more used in marketing departments.\n",
    "\n",
    "In this lab we are going to use [Artificial Neural Networks (ANN)](https://en.wikipedia.org/wiki/Artificial_neural_network) to perform sentiment analysis on Amazon Reviews. Basically, we will use ANN to implement an algorithm able to determine whether a text review is positive or negative. One might think that such a task seems relatively simple for humans. But, if you think for a moment, humans need years of training before are able to speak a language. And even when we do it, it is impossible for us to read and classify millions of reviews in few minutes. Machines nowadays can.\n"
   ]
  },
  {
   "cell_type": "markdown",
   "metadata": {},
   "source": [
    "## Data Exploration\n",
    "---"
   ]
  },
  {
   "cell_type": "markdown",
   "metadata": {},
   "source": [
    "The dataset we are going to use here is a collection of reviews and ratings on baby products purchased on Amazon.com. The reviews are all in English and consist of a piece of text that can vary in size. Ratings are the usual Amazon's 1 to 5 stars. This dataset is part of a Kaggle challenge available at [this page](https://www.kaggle.com/shyann/amazon-baby-reviews-basics). The format of the data is in a CSV file, which is quite convenient to treat using a `pandas` data frame. Let's first load the dataset and do some exploration."
   ]
  },
  {
   "cell_type": "code",
   "execution_count": 1,
   "metadata": {},
   "outputs": [
    {
     "data": {
      "text/html": [
       "<div>\n",
       "<style scoped>\n",
       "    .dataframe tbody tr th:only-of-type {\n",
       "        vertical-align: middle;\n",
       "    }\n",
       "\n",
       "    .dataframe tbody tr th {\n",
       "        vertical-align: top;\n",
       "    }\n",
       "\n",
       "    .dataframe thead th {\n",
       "        text-align: right;\n",
       "    }\n",
       "</style>\n",
       "<table border=\"1\" class=\"dataframe\">\n",
       "  <thead>\n",
       "    <tr style=\"text-align: right;\">\n",
       "      <th></th>\n",
       "      <th>name</th>\n",
       "      <th>review</th>\n",
       "      <th>rating</th>\n",
       "    </tr>\n",
       "  </thead>\n",
       "  <tbody>\n",
       "    <tr>\n",
       "      <th>0</th>\n",
       "      <td>Planetwise Flannel Wipes</td>\n",
       "      <td>These flannel wipes are OK, but in my opinion ...</td>\n",
       "      <td>3</td>\n",
       "    </tr>\n",
       "    <tr>\n",
       "      <th>1</th>\n",
       "      <td>Planetwise Wipe Pouch</td>\n",
       "      <td>it came early and was not disappointed. i love...</td>\n",
       "      <td>5</td>\n",
       "    </tr>\n",
       "    <tr>\n",
       "      <th>2</th>\n",
       "      <td>Annas Dream Full Quilt with 2 Shams</td>\n",
       "      <td>Very soft and comfortable and warmer than it l...</td>\n",
       "      <td>5</td>\n",
       "    </tr>\n",
       "    <tr>\n",
       "      <th>3</th>\n",
       "      <td>Stop Pacifier Sucking without tears with Thumb...</td>\n",
       "      <td>This is a product well worth the purchase.  I ...</td>\n",
       "      <td>5</td>\n",
       "    </tr>\n",
       "    <tr>\n",
       "      <th>4</th>\n",
       "      <td>Stop Pacifier Sucking without tears with Thumb...</td>\n",
       "      <td>All of my kids have cried non-stop when I trie...</td>\n",
       "      <td>5</td>\n",
       "    </tr>\n",
       "    <tr>\n",
       "      <th>...</th>\n",
       "      <td>...</td>\n",
       "      <td>...</td>\n",
       "      <td>...</td>\n",
       "    </tr>\n",
       "    <tr>\n",
       "      <th>183526</th>\n",
       "      <td>Baby Teething Necklace for Mom Pretty Donut Sh...</td>\n",
       "      <td>Such a great idea! very handy to have and look...</td>\n",
       "      <td>5</td>\n",
       "    </tr>\n",
       "    <tr>\n",
       "      <th>183527</th>\n",
       "      <td>Baby Teething Necklace for Mom Pretty Donut Sh...</td>\n",
       "      <td>This product rocks!  It is a great blend of fu...</td>\n",
       "      <td>5</td>\n",
       "    </tr>\n",
       "    <tr>\n",
       "      <th>183528</th>\n",
       "      <td>Abstract 2 PK Baby / Toddler Training Cup (Pink)</td>\n",
       "      <td>This item looks great and cool for my kids.......</td>\n",
       "      <td>5</td>\n",
       "    </tr>\n",
       "    <tr>\n",
       "      <th>183529</th>\n",
       "      <td>Baby Food Freezer Tray - Bacteria Resistant, B...</td>\n",
       "      <td>I am extremely happy with this product. I have...</td>\n",
       "      <td>5</td>\n",
       "    </tr>\n",
       "    <tr>\n",
       "      <th>183530</th>\n",
       "      <td>Best 2 Pack Baby Car Shade for Kids - Window S...</td>\n",
       "      <td>I love this product very mush . I have bought ...</td>\n",
       "      <td>5</td>\n",
       "    </tr>\n",
       "  </tbody>\n",
       "</table>\n",
       "<p>182384 rows × 3 columns</p>\n",
       "</div>"
      ],
      "text/plain": [
       "                                                     name  \\\n",
       "0                                Planetwise Flannel Wipes   \n",
       "1                                   Planetwise Wipe Pouch   \n",
       "2                     Annas Dream Full Quilt with 2 Shams   \n",
       "3       Stop Pacifier Sucking without tears with Thumb...   \n",
       "4       Stop Pacifier Sucking without tears with Thumb...   \n",
       "...                                                   ...   \n",
       "183526  Baby Teething Necklace for Mom Pretty Donut Sh...   \n",
       "183527  Baby Teething Necklace for Mom Pretty Donut Sh...   \n",
       "183528   Abstract 2 PK Baby / Toddler Training Cup (Pink)   \n",
       "183529  Baby Food Freezer Tray - Bacteria Resistant, B...   \n",
       "183530  Best 2 Pack Baby Car Shade for Kids - Window S...   \n",
       "\n",
       "                                                   review  rating  \n",
       "0       These flannel wipes are OK, but in my opinion ...       3  \n",
       "1       it came early and was not disappointed. i love...       5  \n",
       "2       Very soft and comfortable and warmer than it l...       5  \n",
       "3       This is a product well worth the purchase.  I ...       5  \n",
       "4       All of my kids have cried non-stop when I trie...       5  \n",
       "...                                                   ...     ...  \n",
       "183526  Such a great idea! very handy to have and look...       5  \n",
       "183527  This product rocks!  It is a great blend of fu...       5  \n",
       "183528  This item looks great and cool for my kids.......       5  \n",
       "183529  I am extremely happy with this product. I have...       5  \n",
       "183530  I love this product very mush . I have bought ...       5  \n",
       "\n",
       "[182384 rows x 3 columns]"
      ]
     },
     "execution_count": 1,
     "metadata": {},
     "output_type": "execute_result"
    }
   ],
   "source": [
    "import pandas as pd\n",
    "\n",
    "# Loading a local csv file \n",
    "df = pd.read_csv('Data/amazon_baby.csv')\n",
    "\n",
    "# Loading the csv file from Github (might take some time depending on internet connection)\n",
    "#url = 'https://raw.githubusercontent.com/mariogutierrezroig/Teaching-Notebooks/main/Artificial_Neural_Networks/Data/amazon_baby.csv'\n",
    "#df = pd.read_csv(url)\n",
    "\n",
    "# Drop any rows with NAs\n",
    "df.dropna(inplace=True)\n",
    "df"
   ]
  },
  {
   "cell_type": "markdown",
   "metadata": {},
   "source": [
    "As you can see, we have only three different columns. One for the product name, one for the review and one for the rating provided. In total, there are more than 180,000 reviews with its associated ratings. Big numbers are good for training Artificial Neural Networks, but we also need to consider how many different products we have. Let's do a simple check by counting how many unique values we have in the column `name`."
   ]
  },
  {
   "cell_type": "code",
   "execution_count": 2,
   "metadata": {},
   "outputs": [
    {
     "name": "stdout",
     "output_type": "stream",
     "text": [
      "Number of products:  32315\n",
      "Average reviews per product:  5.64\n"
     ]
    }
   ],
   "source": [
    "# Get the unique values of the column name and compute its length\n",
    "prodnum = len(df[\"name\"].unique())\n",
    "print(\"Number of products: \", prodnum)\n",
    "# Compute the average number of reviews per product\n",
    "ratio = len(df) / prodnum\n",
    "print(\"Average reviews per product: \", round(ratio,2))"
   ]
  },
  {
   "cell_type": "markdown",
   "metadata": {},
   "source": [
    "Indeed, we do have a large number of reviews, but we also many different products. So, the number of reviews per product is not very high. Also, bear in mind that the average sometimes is not very informative, especially if the distribution of reviews is highly heterogeneous (i.e. many products with few reviews and few products with many reviews).  Let's quickly check that distribution. Using `value_counts()` over the column `name` will give us the count for each possible value in that column. Then, we can use `plt.his()` for plotting that. "
   ]
  },
  {
   "cell_type": "code",
   "execution_count": 3,
   "metadata": {},
   "outputs": [
    {
     "data": {
      "image/png": "[encoded data removed]",
      "text/plain": [
       "<Figure size 432x288 with 1 Axes>"
      ]
     },
     "metadata": {
      "needs_background": "light"
     },
     "output_type": "display_data"
    }
   ],
   "source": [
    "import matplotlib.pyplot as plt\n",
    "\n",
    "# Get the review count for each product\n",
    "X = df[\"name\"].value_counts()\n",
    "\n",
    "# Plot the histogram \n",
    "figure=plt.figure(1)\n",
    "plt.hist(X, bins=100, log=True)\n",
    "plt.xlabel('Reviews')\n",
    "plt.ylabel('Products')\n",
    "plt.show()"
   ]
  },
  {
   "cell_type": "markdown",
   "metadata": {},
   "source": [
    "As you can see in the plot, the majority of the products in the first bin (around 8 reviews or less), and then we have one product with almost 800 reviews. Notice that `log=True` shows the distribution with the y-axis in a logarithmic scale. This helps to visualize heterogeneous distributions like this one, where the numbers of reviews across products might change several orders of magnitude.\n",
    "\n",
    "This kind of plots are also very useful for making decisions about filtering the data. For example, if we wanted to perform the analysis only for products with more than 10 reviews, we should be aware that we would be dropping more than a half of our dataset. On one hand this could be useful for improving the predictions for popular products and  where there is disagreement of opinions. On the other hand, we would be missing a lot of data. Because in this case we want to predict how reviews translate to ratings, we are not going to apply such a filter.\n",
    "\n",
    "Next step is to explore the ratings of the products. Are they evenly distributed or is there any bias towards good or bad reviews? As before we can use the `value_counts()` function to get the absolute frequencies for each possible value."
   ]
  },
  {
   "cell_type": "code",
   "execution_count": 4,
   "metadata": {},
   "outputs": [
    {
     "data": {
      "text/plain": [
       "5    106265\n",
       "4     33053\n",
       "3     16705\n",
       "1     15100\n",
       "2     11261\n",
       "Name: rating, dtype: int64"
      ]
     },
     "execution_count": 4,
     "metadata": {},
     "output_type": "execute_result"
    }
   ],
   "source": [
    "# Counting the frequency of each value in rating column\n",
    "df[\"rating\"].value_counts()"
   ]
  },
  {
   "cell_type": "markdown",
   "metadata": {},
   "source": [
    "As you can see above the wide majority of reviews are giving them a rating of 5. Using the same function with `normalize=True` provides the relative frequencies instead of the absolute."
   ]
  },
  {
   "cell_type": "code",
   "execution_count": 5,
   "metadata": {},
   "outputs": [
    {
     "data": {
      "text/plain": [
       "5    0.582644\n",
       "4    0.181228\n",
       "3    0.091592\n",
       "1    0.082792\n",
       "2    0.061743\n",
       "Name: rating, dtype: float64"
      ]
     },
     "execution_count": 5,
     "metadata": {},
     "output_type": "execute_result"
    }
   ],
   "source": [
    "# Counting the frequency of each value in rating column\n",
    "df[\"rating\"].value_counts(normalize=True)"
   ]
  },
  {
   "cell_type": "markdown",
   "metadata": {},
   "source": [
    "Observe that the 58.33% of the reviews are giving a product 5 starts in contrast to 8.27% for 1 star. Thus, we get a huge unbalance in the ratins as well. These kind of effects are quite normal when analysing real data, and we should be aware of it before making any assumptions. This also provides useful information for setting a baseline model. For example, we know that if our null model predicted a rating of 5 without regardless of review text, we would be correct 58.33% of the time, which is quite a lot. Thus, any machine learning model that is really working should beat that percentage."
   ]
  },
  {
   "cell_type": "markdown",
   "metadata": {},
   "source": [
    "## Pre-processing\n",
    "---\n",
    "\n",
    "Discerning from a review what could be a rating of 2 and a rating of 3 can be a difficult task, especially considering the ratings unbalance. So, rather than predicting the actual rating we are going to focus on a more general and simple problem; predicting a \"positive\" or \"negative\" review. This will convert our problem from guessing an integer to guessing a binary status. The way we will define the sentiment it is based on the numerical rating. Ratings with 4 or 5 stars are going to be considered positive (`sentiment=1`), and 1 to 3 star ratings are going to be negative (`sentiment=0`).\n",
    "\n",
    "We can create a new column in the data frame, `df[\"sentiment\"]`, using the command `int(x >= 4)`, which returns 1 or 0 for each instance dependending whether the condition between brackets is met or not."
   ]
  },
  {
   "cell_type": "code",
   "execution_count": 6,
   "metadata": {},
   "outputs": [
    {
     "name": "stdout",
     "output_type": "stream",
     "text": [
      "Positive sentiment:  139318 reviews ( 76.39 % )\n",
      "Negative sentiment:  43066 reviews ( 23.61 % )\n"
     ]
    }
   ],
   "source": [
    "# Associating the sentiment based on the rating and storing in a new column\n",
    "df[\"sentiment\"] = [int(x >= 4) for x in df[\"rating\"].to_list()]\n",
    "# Calculating the percentages of each sentiment \n",
    "pos = len(df[df[\"sentiment\"]==1])\n",
    "neg = len(df[df[\"sentiment\"]==0])\n",
    "tot = len(df)\n",
    "print(\"Positive sentiment: \",str(pos),\"reviews (\",str(round(pos/tot*100,2)),\"% )\")\n",
    "print(\"Negative sentiment: \",str(neg),\"reviews (\",str(round(neg/tot*100,2)),\"% )\")"
   ]
  },
  {
   "cell_type": "markdown",
   "metadata": {},
   "source": [
    "The balance now is around three quarters of the ratings are labelled as positive whereas only one quarter corresponds to a negative sentiment. Still unbalanced, but not as much as with the numerical ratings. As before, if we had a model that always predicted a positive sentiment we would be right 76.39% of the time. So, any algorithm based on the text reviews has to beat that percentage in order to be consider acceptable.\n",
    "\n",
    "Let's now have a look at the text pieces to see how we can process them. As an example, we can take a specific product and print its review texts."
   ]
  },
  {
   "cell_type": "code",
   "execution_count": 7,
   "metadata": {},
   "outputs": [
    {
     "name": "stdout",
     "output_type": "stream",
     "text": [
      "Review #1: Space for monthly photos, info and a lot of useful stickers come with it. It is exactly what I wanted!!\n",
      "Rating #1: 5\n",
      "----------\n",
      "Review #2: I bought this calender for myself for my second son. It is very colorful and has room on each page to write height, weight, and what baby likes to do. There is also room on each page for a photo to be placed. The calender date boxes have room for a sticker and some fine writing. My only complaint is that it does not have as many stickers as I would like, but I just put asterisks before whatever special event happened that day. I bought one for a friend as she found it very useful as well.\n",
      "Rating #2: 4\n",
      "----------\n",
      "Review #3: I love this little calender, you can keep track of all of baby's firsts. I like the illustrations, and the stickers too.\n",
      "Rating #3: 5\n"
     ]
    }
   ],
   "source": [
    "# Select a specific product\n",
    "product = 'Nature\\'s Lullabies First Year Sticker Calendar'\n",
    "# Create a new data frame with only that product\n",
    "dfcalendar = df[df[\"name\"]==product].copy()\n",
    "# Print the first three reviews\n",
    "print(\"Review #1: \" + dfcalendar.iloc[0][\"review\"])\n",
    "print(\"Rating #1: \" + str(dfcalendar.iloc[0][\"rating\"]))\n",
    "print(\"----------\")\n",
    "print(\"Review #2: \" + dfcalendar.iloc[1][\"review\"])\n",
    "print(\"Rating #2: \" + str(dfcalendar.iloc[1][\"rating\"]))\n",
    "print(\"----------\")\n",
    "print(\"Review #3: \" + dfcalendar.iloc[2][\"review\"])\n",
    "print(\"Rating #3: \" + str(dfcalendar.iloc[2][\"rating\"]))"
   ]
  },
  {
   "cell_type": "markdown",
   "metadata": {},
   "source": [
    "As you can observe the texts we obtain are all different in terms of lengths, rating values and even the writing style, words used, etc. However, we can expect some common words to appear in the reviews. Words such as \"like\", \"love\" and \"I\" generally appear quite often in the text reviews and particularly in these three. The word \"stickers\" is another one that appears in all three examples, which makes sense considering the product we selected is actually a sticker calendar. We can also expect that the appearance of some kind of words is going to be linked with a positive sentiment, whereas other kind of words are going to be related with negative sentiment. A common technique in NLP it is literally based on that; defining a set of words and count how many times and in which order they appear.\n",
    "\n",
    "The `keras` library for Python has a preprocessing text suit of tools that are specifically design for those tasks. One of the most popular open-source software for deep learning is [TensorFlow](https://www.tensorflow.org/), developed and widely used by Google. It is quite complicated to learn programming in TensorFlow from scratch, so the `keras` simplifies our lives substantially by providing standard models and machine learning tools that we can use as functions. I basically acts as the intermediate layer between Python and TensorFlow.\n",
    "\n",
    "The object we want to use here is called `Tokenizer`. For a given piece of text, the `Tokenizer` will preprocess the text doing several operations. First, will delete any special character indicated in `filters`. Then will convert all capital letters to correspoinding lower case if the argument `lower=True`. Finally it will split the text in a list of words by the character we indicate in `split`, which is usually a space. Once the text it is split word by word, we can easily obtain `sequences` containing lists of numbers matching the words we manually defined in  the dictionary `work_index`. In these lists of numbers encode the appearance and order of the selected words in the different pieces of text."
   ]
  },
  {
   "cell_type": "code",
   "execution_count": 8,
   "metadata": {},
   "outputs": [
    {
     "data": {
      "text/plain": [
       "[[2, 1], [1, 2, 1, 4, 1, 1], [1, 3, 1, 4, 2]]"
      ]
     },
     "execution_count": 8,
     "metadata": {},
     "output_type": "execute_result"
    }
   ],
   "source": [
    "from tensorflow.keras.preprocessing.text import Tokenizer\n",
    "\n",
    "texts = dfcalendar[\"review\"].to_list()\n",
    "\n",
    "# Define our tokenizer\n",
    "token = Tokenizer(filters='!\"#$%&()*+,-./:;<=>?@[\\\\]^_`{|}~\\t\\n', lower=True, split=' ')\n",
    "# Define our dictionary\n",
    "token.word_index = {\"i\":1, \"stickers\":2, \"love\":3, \"like\":4}\n",
    "# Get the sequences\n",
    "sequences = token.texts_to_sequences(texts)\n",
    "sequences"
   ]
  },
  {
   "cell_type": "markdown",
   "metadata": {},
   "source": [
    "Because we selected three examples, we get a list of three lists, one per each example. The first one is a list with two numbers `[2,1]`. This indicates that the words \"stickers\" and \"i\" - remember everything is converted to lower case first - appear in this particular order in the first review. You can check it out in the examples above. The second list is longer because contains many more occurrences of our 4-word dictionary, including repetitions. These handy sequences encode a lot of information in a compressed format and are much more efficient to deal with when it comes to perform operations such as count occurrences or detecting patterns. "
   ]
  },
  {
   "cell_type": "markdown",
   "metadata": {},
   "source": [
    "## Building a simple classifier\n",
    "----\n",
    "\n",
    "We have now all the data frame ready to build our first sentiment classifier. In this very simple version, we will use a collection of just 6 different words that we can easily associate to a positive or negative sentiment: \"love\", \"like\", \"awful\", \"hate\", \"broken\" and \"delay\". In this case, we will only check whether each the word appears in the review, a method known as [One-Hot Encoding](https://machinelearningmastery.com/why-one-hot-encode-data-in-machine-learning/). Again, we can use the `int()` function to do that."
   ]
  },
  {
   "cell_type": "code",
   "execution_count": 9,
   "metadata": {},
   "outputs": [
    {
     "data": {
      "text/html": [
       "<div>\n",
       "<style scoped>\n",
       "    .dataframe tbody tr th:only-of-type {\n",
       "        vertical-align: middle;\n",
       "    }\n",
       "\n",
       "    .dataframe tbody tr th {\n",
       "        vertical-align: top;\n",
       "    }\n",
       "\n",
       "    .dataframe thead th {\n",
       "        text-align: right;\n",
       "    }\n",
       "</style>\n",
       "<table border=\"1\" class=\"dataframe\">\n",
       "  <thead>\n",
       "    <tr style=\"text-align: right;\">\n",
       "      <th></th>\n",
       "      <th>name</th>\n",
       "      <th>review</th>\n",
       "      <th>rating</th>\n",
       "      <th>sentiment</th>\n",
       "      <th>sequences</th>\n",
       "      <th>love</th>\n",
       "      <th>like</th>\n",
       "      <th>awful</th>\n",
       "      <th>hate</th>\n",
       "      <th>broken</th>\n",
       "      <th>delay</th>\n",
       "    </tr>\n",
       "  </thead>\n",
       "  <tbody>\n",
       "    <tr>\n",
       "      <th>0</th>\n",
       "      <td>Planetwise Flannel Wipes</td>\n",
       "      <td>These flannel wipes are OK, but in my opinion ...</td>\n",
       "      <td>3</td>\n",
       "      <td>0</td>\n",
       "      <td>[]</td>\n",
       "      <td>0</td>\n",
       "      <td>0</td>\n",
       "      <td>0</td>\n",
       "      <td>0</td>\n",
       "      <td>0</td>\n",
       "      <td>0</td>\n",
       "    </tr>\n",
       "    <tr>\n",
       "      <th>1</th>\n",
       "      <td>Planetwise Wipe Pouch</td>\n",
       "      <td>it came early and was not disappointed. i love...</td>\n",
       "      <td>5</td>\n",
       "      <td>1</td>\n",
       "      <td>[1]</td>\n",
       "      <td>1</td>\n",
       "      <td>0</td>\n",
       "      <td>0</td>\n",
       "      <td>0</td>\n",
       "      <td>0</td>\n",
       "      <td>0</td>\n",
       "    </tr>\n",
       "    <tr>\n",
       "      <th>2</th>\n",
       "      <td>Annas Dream Full Quilt with 2 Shams</td>\n",
       "      <td>Very soft and comfortable and warmer than it l...</td>\n",
       "      <td>5</td>\n",
       "      <td>1</td>\n",
       "      <td>[]</td>\n",
       "      <td>0</td>\n",
       "      <td>0</td>\n",
       "      <td>0</td>\n",
       "      <td>0</td>\n",
       "      <td>0</td>\n",
       "      <td>0</td>\n",
       "    </tr>\n",
       "    <tr>\n",
       "      <th>3</th>\n",
       "      <td>Stop Pacifier Sucking without tears with Thumb...</td>\n",
       "      <td>This is a product well worth the purchase.  I ...</td>\n",
       "      <td>5</td>\n",
       "      <td>1</td>\n",
       "      <td>[2, 1, 1]</td>\n",
       "      <td>1</td>\n",
       "      <td>1</td>\n",
       "      <td>0</td>\n",
       "      <td>0</td>\n",
       "      <td>0</td>\n",
       "      <td>0</td>\n",
       "    </tr>\n",
       "    <tr>\n",
       "      <th>4</th>\n",
       "      <td>Stop Pacifier Sucking without tears with Thumb...</td>\n",
       "      <td>All of my kids have cried non-stop when I trie...</td>\n",
       "      <td>5</td>\n",
       "      <td>1</td>\n",
       "      <td>[]</td>\n",
       "      <td>0</td>\n",
       "      <td>0</td>\n",
       "      <td>0</td>\n",
       "      <td>0</td>\n",
       "      <td>0</td>\n",
       "      <td>0</td>\n",
       "    </tr>\n",
       "    <tr>\n",
       "      <th>...</th>\n",
       "      <td>...</td>\n",
       "      <td>...</td>\n",
       "      <td>...</td>\n",
       "      <td>...</td>\n",
       "      <td>...</td>\n",
       "      <td>...</td>\n",
       "      <td>...</td>\n",
       "      <td>...</td>\n",
       "      <td>...</td>\n",
       "      <td>...</td>\n",
       "      <td>...</td>\n",
       "    </tr>\n",
       "    <tr>\n",
       "      <th>183526</th>\n",
       "      <td>Baby Teething Necklace for Mom Pretty Donut Sh...</td>\n",
       "      <td>Such a great idea! very handy to have and look...</td>\n",
       "      <td>5</td>\n",
       "      <td>1</td>\n",
       "      <td>[]</td>\n",
       "      <td>0</td>\n",
       "      <td>0</td>\n",
       "      <td>0</td>\n",
       "      <td>0</td>\n",
       "      <td>0</td>\n",
       "      <td>0</td>\n",
       "    </tr>\n",
       "    <tr>\n",
       "      <th>183527</th>\n",
       "      <td>Baby Teething Necklace for Mom Pretty Donut Sh...</td>\n",
       "      <td>This product rocks!  It is a great blend of fu...</td>\n",
       "      <td>5</td>\n",
       "      <td>1</td>\n",
       "      <td>[2]</td>\n",
       "      <td>0</td>\n",
       "      <td>1</td>\n",
       "      <td>0</td>\n",
       "      <td>0</td>\n",
       "      <td>0</td>\n",
       "      <td>0</td>\n",
       "    </tr>\n",
       "    <tr>\n",
       "      <th>183528</th>\n",
       "      <td>Abstract 2 PK Baby / Toddler Training Cup (Pink)</td>\n",
       "      <td>This item looks great and cool for my kids.......</td>\n",
       "      <td>5</td>\n",
       "      <td>1</td>\n",
       "      <td>[]</td>\n",
       "      <td>0</td>\n",
       "      <td>0</td>\n",
       "      <td>0</td>\n",
       "      <td>0</td>\n",
       "      <td>0</td>\n",
       "      <td>0</td>\n",
       "    </tr>\n",
       "    <tr>\n",
       "      <th>183529</th>\n",
       "      <td>Baby Food Freezer Tray - Bacteria Resistant, B...</td>\n",
       "      <td>I am extremely happy with this product. I have...</td>\n",
       "      <td>5</td>\n",
       "      <td>1</td>\n",
       "      <td>[2, 2]</td>\n",
       "      <td>0</td>\n",
       "      <td>1</td>\n",
       "      <td>0</td>\n",
       "      <td>0</td>\n",
       "      <td>0</td>\n",
       "      <td>0</td>\n",
       "    </tr>\n",
       "    <tr>\n",
       "      <th>183530</th>\n",
       "      <td>Best 2 Pack Baby Car Shade for Kids - Window S...</td>\n",
       "      <td>I love this product very mush . I have bought ...</td>\n",
       "      <td>5</td>\n",
       "      <td>1</td>\n",
       "      <td>[1]</td>\n",
       "      <td>1</td>\n",
       "      <td>0</td>\n",
       "      <td>0</td>\n",
       "      <td>0</td>\n",
       "      <td>0</td>\n",
       "      <td>0</td>\n",
       "    </tr>\n",
       "  </tbody>\n",
       "</table>\n",
       "<p>182384 rows × 11 columns</p>\n",
       "</div>"
      ],
      "text/plain": [
       "                                                     name  \\\n",
       "0                                Planetwise Flannel Wipes   \n",
       "1                                   Planetwise Wipe Pouch   \n",
       "2                     Annas Dream Full Quilt with 2 Shams   \n",
       "3       Stop Pacifier Sucking without tears with Thumb...   \n",
       "4       Stop Pacifier Sucking without tears with Thumb...   \n",
       "...                                                   ...   \n",
       "183526  Baby Teething Necklace for Mom Pretty Donut Sh...   \n",
       "183527  Baby Teething Necklace for Mom Pretty Donut Sh...   \n",
       "183528   Abstract 2 PK Baby / Toddler Training Cup (Pink)   \n",
       "183529  Baby Food Freezer Tray - Bacteria Resistant, B...   \n",
       "183530  Best 2 Pack Baby Car Shade for Kids - Window S...   \n",
       "\n",
       "                                                   review  rating  sentiment  \\\n",
       "0       These flannel wipes are OK, but in my opinion ...       3          0   \n",
       "1       it came early and was not disappointed. i love...       5          1   \n",
       "2       Very soft and comfortable and warmer than it l...       5          1   \n",
       "3       This is a product well worth the purchase.  I ...       5          1   \n",
       "4       All of my kids have cried non-stop when I trie...       5          1   \n",
       "...                                                   ...     ...        ...   \n",
       "183526  Such a great idea! very handy to have and look...       5          1   \n",
       "183527  This product rocks!  It is a great blend of fu...       5          1   \n",
       "183528  This item looks great and cool for my kids.......       5          1   \n",
       "183529  I am extremely happy with this product. I have...       5          1   \n",
       "183530  I love this product very mush . I have bought ...       5          1   \n",
       "\n",
       "        sequences  love  like  awful  hate  broken  delay  \n",
       "0              []     0     0      0     0       0      0  \n",
       "1             [1]     1     0      0     0       0      0  \n",
       "2              []     0     0      0     0       0      0  \n",
       "3       [2, 1, 1]     1     1      0     0       0      0  \n",
       "4              []     0     0      0     0       0      0  \n",
       "...           ...   ...   ...    ...   ...     ...    ...  \n",
       "183526         []     0     0      0     0       0      0  \n",
       "183527        [2]     0     1      0     0       0      0  \n",
       "183528         []     0     0      0     0       0      0  \n",
       "183529     [2, 2]     0     1      0     0       0      0  \n",
       "183530        [1]     1     0      0     0       0      0  \n",
       "\n",
       "[182384 rows x 11 columns]"
      ]
     },
     "execution_count": 9,
     "metadata": {},
     "output_type": "execute_result"
    }
   ],
   "source": [
    "# Copy a new dataframe\n",
    "dfnew = df.copy(deep=True)\n",
    "\n",
    "# Define our dictionary\n",
    "token.word_index = {\"love\":1, \"like\":2, \"awful\":3, \"hate\":4, \"broken\":5, \"delay\":6}\n",
    "# Apply our token to the texts\n",
    "sequences = token.texts_to_sequences(dfnew[\"review\"].astype(str))\n",
    "# Store the sequences of each review in a new column\n",
    "dfnew['sequences'] = sequences\n",
    "# Iterate over elements of dictionary token.word_index\n",
    "for key,val in token.word_index.items():\n",
    "    # for example, key is \"love\" and val is 1\n",
    "    # Create a new column based on that, if val is in the sequence add 1, 0 otherwise\n",
    "    dfnew[key] = [int(val in x) for x in dfnew[\"sequences\"].to_list()]\n",
    "dfnew"
   ]
  },
  {
   "cell_type": "markdown",
   "metadata": {},
   "source": [
    "The last six columns contain the values of interest for the six words selected. An interesting insight on this, is to know how common those words are in the reviews. `token.word_index.keys()` provides the list of words in the tokenizer's dictionary, so we do not have to manually type the whole list.  "
   ]
  },
  {
   "cell_type": "code",
   "execution_count": 10,
   "metadata": {},
   "outputs": [
    {
     "name": "stdout",
     "output_type": "stream",
     "text": [
      "love appears in 35476 reviews ( 19.45 %)\n",
      "like appears in 38911 reviews ( 21.33 %)\n",
      "awful appears in 697 reviews ( 0.38 %)\n",
      "hate appears in 1197 reviews ( 0.66 %)\n",
      "broken appears in 1441 reviews ( 0.79 %)\n",
      "delay appears in 105 reviews ( 0.06 %)\n"
     ]
    }
   ],
   "source": [
    "for key in token.word_index.keys():\n",
    "    # Calculate in how many reviews the word appears.\n",
    "    num = dfnew[key].sum()\n",
    "    # Calculate the percentage\n",
    "    pctg = round(num/len(dfnew[key])*100,2)\n",
    "    print(key,'appears in', num, 'reviews (', pctg, '%)')"
   ]
  },
  {
   "cell_type": "markdown",
   "metadata": {},
   "source": [
    "Again, we see the same kind of unbalance toward the positive sentiment. In fact, this something expected and encouraging, because it means that the collection of words used might be a good representation of the reviews. However, there are some nuances to consider. Remember that the tokenizer first splits the reviews into separated words. If there is a review saying \"I really don't like it.\", the word \"like\" appears in it even though the review is clearly negative. This word, as many others, can actually represent both opinions. Then, how do we know it is useful for predicting? We don't, the machine learning algorithm needs to figure it out.\n",
    "\n",
    "The next step is to do the [train-test split](https://en.wikipedia.org/wiki/Training,_validation,_and_test_sets), that is splitting our dataset in two different parts, one for training and one for testing. If we really want to know whether an algorithm really works, we need to test the algorithm on a dataset that \"has never seen before\". The prediction accuracy over this dataset is going to be considered the final accuracy of the model. It is also obvious that test dataset has to have the exact same format than the training data, so the best way to generate this test data is by splitting the original dataset in two parts. Common percentages for this split are 80%-20% for training and testing respectively. Additionally, the two parts have to be randomly sampled in order to eliminate any possible non-desired effects. The function `train_test_split()` from the machine learning library `sklearn`, is specifically designed to do this task. "
   ]
  },
  {
   "cell_type": "code",
   "execution_count": 11,
   "metadata": {},
   "outputs": [
    {
     "name": "stdout",
     "output_type": "stream",
     "text": [
      "X_train:\n",
      "[[0 1 0 0 0 0]\n",
      " [0 1 0 0 0 0]\n",
      " [1 0 0 0 0 0]\n",
      " ...\n",
      " [0 0 0 0 0 0]\n",
      " [0 0 0 0 0 0]\n",
      " [0 1 0 0 0 0]]\n",
      "y_train:\n",
      "[1 1 1 ... 0 0 1]\n"
     ]
    }
   ],
   "source": [
    "from sklearn.model_selection import train_test_split\n",
    "\n",
    "X = dfnew[list(token.word_index.keys())].values\n",
    "y = dfnew['sentiment'].values\n",
    "\n",
    "X_train, X_test, y_train, y_test = train_test_split(X, y, test_size=0.2, random_state=1000)\n",
    "print(\"X_train:\")\n",
    "print(X_train)\n",
    "print(\"y_train:\")\n",
    "print(y_train)\n"
   ]
  },
  {
   "cell_type": "markdown",
   "metadata": {},
   "source": [
    "The object `X_train` is going to be the input values of our training dataset. As you see above, the inputs are a vector of six elements, with values 0 or 1 depending on whether each specific word appears on each review. The whole object is a $N_{reviews} \\times N_{words}$ matrix, where $N_{reviews}$ is the number of reviews in the training dataset and $N_{words}$ is the number of words used (6 in our case). The `y_train` is the vector for our target variables, that is our sentiment, 0 for negative 1 for positive. The number of elements is equal to $N_{reviews}$. The format of the matrices in the test objects are exactly the same, with the difference that now $N_{reviews}$ indicates the number of elements in the test dataset.\n",
    "\n",
    "In the next section we will learn how to use an Artificial Neural Network to build a classifier using this training and testing sets. However, the nature of this problem we allows us to perform an even more simple classifier based on a [logistic regression](https://en.wikipedia.org/wiki/Logistic_regression) that we can use as a benchmark to compare with ANN later on. The `sklearn` library has the function `LogisticRegression(`) that does not need any further operations. `.fit()` will use the training data and `.score()` returns the accuracy over the test datasets."
   ]
  },
  {
   "cell_type": "code",
   "execution_count": 12,
   "metadata": {},
   "outputs": [
    {
     "name": "stdout",
     "output_type": "stream",
     "text": [
      "Accuracy: 0.7689777119828933\n"
     ]
    }
   ],
   "source": [
    "from sklearn.linear_model import LogisticRegression\n",
    "\n",
    "# Define the Logistic Regression model\n",
    "log_classifier = LogisticRegression()\n",
    "# Train the model on the training dataset\n",
    "log_classifier.fit(X_train, y_train)\n",
    "# Get the accuracy over the test data \n",
    "score = log_classifier.score(X_test, y_test)\n",
    "print(\"Accuracy:\", score)"
   ]
  },
  {
   "cell_type": "markdown",
   "metadata": {},
   "source": [
    "The accuracy of this model, using the 6 words selected is slightly above the 0.7689 we would get if predicted that all reviews were positive. Although technically is a little better, it is not much of an improvement. Will an Artificial Neural Network do better using the same collection of six words? "
   ]
  },
  {
   "cell_type": "code",
   "execution_count": 13,
   "metadata": {},
   "outputs": [
    {
     "data": {
      "image/png": "[encoded data removed]",
      "text/plain": [
       "<Figure size 432x288 with 2 Axes>"
      ]
     },
     "metadata": {
      "needs_background": "light"
     },
     "output_type": "display_data"
    }
   ],
   "source": [
    "from sklearn.metrics import plot_confusion_matrix\n",
    "\n",
    "plot_confusion_matrix(log_classifier, X_test, y_test, cmap=\"Blues\")\n",
    "plt.show()"
   ]
  },
  {
   "cell_type": "markdown",
   "metadata": {},
   "source": [
    "## Classifier based on Artificial Neural Networks\n",
    "---\n",
    "\n",
    "Let's see if we can improve our previous model by using Artificial Neural Networks (ANN). As mentioned above, `keras` library is one of the best for using Artificial Neural Networks in Python. Implementing and training them, once we have the training and testing datasets, it is quite simple and few lines of code. There are three steps we identify in the process:\n",
    "1. __Model Definition__: Where we tell keras the specific architecture of the ANN; how many layers, what type of layers, activation functions for the neurons, etc.   \n",
    "2. __Training (fit)__: Once the ANN architecture is defined, we need to tell keras how the ANN will be learning from the training dataset. Here there are also some values that can be defined; l1_ratio, regularisation, etc.\n",
    "3. __Evaluation__: After all parameters of the network are determined, the ANN model is ready for making predictions. In this phase keras will use the test dataset to assess its performance.\n",
    "\n",
    "Our first ANN will have a very simple architecture, consisting of a [Sequential model](https://keras.io/guides/sequential_model/) with of only one hidden layer of six neurons and one output layer of one neuron. The corresponding chart of the structure would be the following:\n",
    "\n",
    "![title](ANN_structure.png)\n",
    "\n",
    "The input layer consists of six neurons, one for each word, whose values can only be 1 or 0. Thus, the input layer of a review saying *\"I like the product, but the packaging it is awful - it arrived with broken pieces.\"* would be $X_1=0$, $X_2=1$, $X_3=1$, $X_4=0$, $X_5=1$ and $X_6=0$, because it contains the words \"like\", \"awful\" and \"broken\". These values are passed to each of the six neurons in the hidden layer. Each neuron will make an operation using seven weights, one per each link into the neuron plus one for the bias term, then will apply the [ReLU](https://en.wikipedia.org/wiki/Rectifier_(neural_networks)) activation function and pass the result to the output layer. The neuron in the output layer collects the values of each neuron of the last hidden layer and applies the same operations than the neurons in the hidden layer, the result of it will be the prediction. In this case however, instead of using the ReLU activation function the network uses the [sigmoid function](https://en.wikipedia.org/wiki/Sigmoid_function). The reason is because of the binary nature of the output. This variable takes values of 0 or 1, so we want function that converts any possible input into these only two possible values. Sigmoid activation functions or step functions are the go-to for binary choices like this one.\n",
    "\n",
    "That is the main rationale for the structure of the ANN, which is the most difficult part. Now we need to implement these ideas in code. Each type of layer is added into the structure using the `model.add()`. In our current case we only use Dense layers - all neurons connected to all neurons of the previous layer. [Here](https://machinelearningknowledge.ai/different-types-of-keras-layers-explained-for-beginners/) you can find more types of layers you can use and basic explanations. The `model.compile()` function is for selecting the loss functions and metrics, among other things. Because our problem is about guessing a binary choice, setting `loss=binary_crossentropy` and using accuracy for the metrics is a wise decision here. If the ANN was built for solving a regression problem, then other decisions such as `loss=mean_abolute_error` and `metrics=[\"mse\"]` would be better. In [this page](https://machinelearningmastery.com/how-to-choose-loss-functions-when-training-deep-learning-neural-networks/) you have some cases explained."
   ]
  },
  {
   "cell_type": "code",
   "execution_count": 14,
   "metadata": {},
   "outputs": [
    {
     "name": "stdout",
     "output_type": "stream",
     "text": [
      "Model: \"sequential\"\n",
      "_________________________________________________________________\n",
      "Layer (type)                 Output Shape              Param #   \n",
      "=================================================================\n",
      "dense (Dense)                (None, 6)                 42        \n",
      "_________________________________________________________________\n",
      "dense_1 (Dense)              (None, 1)                 7         \n",
      "=================================================================\n",
      "Total params: 49\n",
      "Trainable params: 49\n",
      "Non-trainable params: 0\n",
      "_________________________________________________________________\n"
     ]
    },
    {
     "name": "stderr",
     "output_type": "stream",
     "text": [
      "2022-06-21 13:11:35.839217: I tensorflow/compiler/jit/xla_cpu_device.cc:41] Not creating XLA devices, tf_xla_enable_xla_devices not set\n",
      "2022-06-21 13:11:35.839622: I tensorflow/core/platform/cpu_feature_guard.cc:142] This TensorFlow binary is optimized with oneAPI Deep Neural Network Library (oneDNN) to use the following CPU instructions in performance-critical operations:  SSE4.1 SSE4.2 AVX AVX2 FMA\n",
      "To enable them in other operations, rebuild TensorFlow with the appropriate compiler flags.\n",
      "2022-06-21 13:11:35.841042: I tensorflow/core/common_runtime/process_util.cc:146] Creating new thread pool with default inter op setting: 2. Tune using inter_op_parallelism_threads for best performance.\n"
     ]
    }
   ],
   "source": [
    "### 1. Model Definition ###\n",
    "from tensorflow.keras.models import Sequential\n",
    "from tensorflow.keras import layers\n",
    "from tensorflow.keras.backend import clear_session\n",
    "\n",
    "# Clear data from any ANN previous model\n",
    "clear_session()\n",
    "\n",
    "# Input dimenstion (Number of features)\n",
    "input_dim = X_train.shape[1]\n",
    "\n",
    "model = Sequential()\n",
    "# The input layer is not explicitly added and defined in the input_dim\n",
    "model.add(layers.Dense(6, input_dim=input_dim, activation='relu'))\n",
    "model.add(layers.Dense(1, activation='sigmoid'))\n",
    "# \n",
    "model.compile(loss='binary_crossentropy', optimizer='adam', metrics=['accuracy'])\n",
    "model.summary()"
   ]
  },
  {
   "cell_type": "markdown",
   "metadata": {},
   "source": [
    "`model.summary()` lets us know the structure of the ANN and how many parameters the network needs to fit with the training dataset. Remember, as any fitting problem the ration between the data and the number of parameters is something we should keep an eye on. The more data points per parameter, the better. You can see how if we keep adding layers or neurons, the number of parameters to fit quickly escalates. And this is the main reason why Deep Learning always needs large amounts of data.\n",
    "\n",
    "Let's now train our Artificial Neural Network. This is the step that usually takes longer, especially if you are using a laptop or an old computer. Although we are not training a very large ANN, there is a lot of calculations to make. As a reference, my laptop took 10-15 seconds. If you see that it takes much longer you might want to consider running this notebook within [Google's Colab](https://colab.research.google.com). "
   ]
  },
  {
   "cell_type": "code",
   "execution_count": 15,
   "metadata": {},
   "outputs": [
    {
     "name": "stderr",
     "output_type": "stream",
     "text": [
      "2022-06-21 13:11:37.369357: I tensorflow/compiler/mlir/mlir_graph_optimization_pass.cc:116] None of the MLIR optimization passes are enabled (registered 2)\n",
      "2022-06-21 13:11:37.388605: I tensorflow/core/platform/profile_utils/cpu_utils.cc:112] CPU Frequency: 3099995000 Hz\n"
     ]
    },
    {
     "name": "stdout",
     "output_type": "stream",
     "text": [
      "Epoch 1/12\n",
      "234/234 [==============================] - 1s 4ms/step - loss: 0.7034 - accuracy: 0.5650 - val_loss: 0.6450 - val_accuracy: 0.7619\n",
      "Epoch 2/12\n",
      "234/234 [==============================] - 1s 3ms/step - loss: 0.6329 - accuracy: 0.7629 - val_loss: 0.6065 - val_accuracy: 0.7616\n",
      "Epoch 3/12\n",
      "234/234 [==============================] - 1s 4ms/step - loss: 0.5988 - accuracy: 0.7644 - val_loss: 0.5827 - val_accuracy: 0.7616\n",
      "Epoch 4/12\n",
      "234/234 [==============================] - 1s 2ms/step - loss: 0.5767 - accuracy: 0.7644 - val_loss: 0.5672 - val_accuracy: 0.7616\n",
      "Epoch 5/12\n",
      "234/234 [==============================] - 1s 3ms/step - loss: 0.5633 - accuracy: 0.7635 - val_loss: 0.5575 - val_accuracy: 0.7616\n",
      "Epoch 6/12\n",
      "234/234 [==============================] - 1s 2ms/step - loss: 0.5546 - accuracy: 0.7633 - val_loss: 0.5516 - val_accuracy: 0.7621\n",
      "Epoch 7/12\n",
      "234/234 [==============================] - 1s 3ms/step - loss: 0.5487 - accuracy: 0.7646 - val_loss: 0.5477 - val_accuracy: 0.7636\n",
      "Epoch 8/12\n",
      "234/234 [==============================] - 1s 3ms/step - loss: 0.5435 - accuracy: 0.7669 - val_loss: 0.5451 - val_accuracy: 0.7637\n",
      "Epoch 9/12\n",
      "234/234 [==============================] - 1s 2ms/step - loss: 0.5431 - accuracy: 0.7650 - val_loss: 0.5427 - val_accuracy: 0.7637\n",
      "Epoch 10/12\n",
      "234/234 [==============================] - 1s 3ms/step - loss: 0.5400 - accuracy: 0.7662 - val_loss: 0.5404 - val_accuracy: 0.7637\n",
      "Epoch 11/12\n",
      "234/234 [==============================] - 1s 3ms/step - loss: 0.5377 - accuracy: 0.7657 - val_loss: 0.5382 - val_accuracy: 0.7641\n",
      "Epoch 12/12\n",
      "234/234 [==============================] - 1s 3ms/step - loss: 0.5353 - accuracy: 0.7675 - val_loss: 0.5363 - val_accuracy: 0.7653\n"
     ]
    }
   ],
   "source": [
    "### 2. Training (fit) ###\n",
    "history = model.fit(X_train, y_train, epochs=12, verbose=True, validation_split=0.2, batch_size=500)"
   ]
  },
  {
   "cell_type": "markdown",
   "metadata": {},
   "source": [
    "The network is already trained and all relevant information about how the process evolved is in the `history` object. Particularly, it is very useful to plot the training and validation curves in order to spot any problems such as [overfitting](https://en.wikipedia.org/wiki/Overfitting). The [validation dataset](https://en.wikipedia.org/wiki/Training,_validation,_and_test_sets) is like a test dataset used only during the training process and created from the training dataset that we have input. In our case,  we have defined in `validation_split=0.2` that our validation dataset is 20% of the training dataset. It is important to stress that at this point we haven't still used the test dataset at any moment."
   ]
  },
  {
   "cell_type": "code",
   "execution_count": 16,
   "metadata": {},
   "outputs": [
    {
     "data": {
      "image/png": "[encoded data removed]",
      "text/plain": [
       "<Figure size 864x360 with 2 Axes>"
      ]
     },
     "metadata": {
      "needs_background": "light"
     },
     "output_type": "display_data"
    }
   ],
   "source": [
    "# Function for plotting the training & validation curves\n",
    "def plot_history(history):\n",
    "    acc = history.history['accuracy']\n",
    "    val_acc = history.history['val_accuracy']\n",
    "    loss = history.history['loss']\n",
    "    val_loss = history.history['val_loss']\n",
    "    x = range(1, len(acc) + 1)\n",
    "\n",
    "    plt.figure(figsize=(12, 5))\n",
    "    plt.subplot(1, 2, 1)\n",
    "    plt.plot(x, acc, label='Training acc')\n",
    "    plt.plot(x, val_acc, label='Validation acc')\n",
    "    plt.title('Training and validation accuracy')\n",
    "    plt.legend()\n",
    "    plt.subplot(1, 2, 2)\n",
    "    plt.plot(x, loss, label='Training loss')\n",
    "    plt.plot(x, val_loss, label='Validation loss')\n",
    "    plt.title('Training and validation loss')\n",
    "    plt.legend()\n",
    "    \n",
    "plot_history(history)"
   ]
  },
  {
   "cell_type": "markdown",
   "metadata": {},
   "source": [
    "The curves for both accuracy and loss converge relatively quickly, and the difference between them after 12 epochs is relatively small. These reasons lead us to think that there are no signs of overfitting, so we can proceed with the evaluation. Now we are going to make use of the test dataset and compare the accuracy with the training dataset. We can expect lower performance, since the test data has never been seen by our model, but if everything is fine the difference should not be very big. Otherwise would be an alert that something is not right and we should revise our ANN."
   ]
  },
  {
   "cell_type": "code",
   "execution_count": 17,
   "metadata": {},
   "outputs": [
    {
     "name": "stdout",
     "output_type": "stream",
     "text": [
      "Training Accuracy: 0.7668\n",
      "Testing Accuracy:  0.7683\n"
     ]
    }
   ],
   "source": [
    "### 3. Evaluation ###\n",
    "loss, accuracy = model.evaluate(X_train, y_train, verbose=False)\n",
    "print(\"Training Accuracy: {:.4f}\".format(accuracy))\n",
    "loss, accuracy = model.evaluate(X_test, y_test, verbose=False)\n",
    "print(\"Testing Accuracy:  {:.4f}\".format(accuracy))"
   ]
  },
  {
   "cell_type": "markdown",
   "metadata": {},
   "source": [
    "The conclusion is a little bittersweet. Good news are the accuracy between both datasets is very similar, the ANN is working fine. Bad news are that the model is not really improving significantly the performance with respect to the Logistic Regression model (76.89% vs 76.90%) or the null case were all predictions are positive sentiment (76.39%). Remember that so far we are only using six words in our dictionary for processing the reviews. The vocabulary to express opinions is much more rich in terms of words used. Why don't we try using more words?"
   ]
  },
  {
   "cell_type": "markdown",
   "metadata": {},
   "source": [
    "<div class=\"alert alert-block alert-info\"><b>Exercise 1:</b><br>Now try using the same setup but changing the word selection. Can you get better results? How does the number of parameters change when you change the number of words in the collection?</div>"
   ]
  },
  {
   "cell_type": "code",
   "execution_count": 46,
   "metadata": {},
   "outputs": [],
   "source": [
    "### EXERCISE 1 SOLUTION ####\n",
    "\n"
   ]
  },
  {
   "cell_type": "markdown",
   "metadata": {},
   "source": [
    "<div class=\"alert alert-block alert-info\"><b>Exercise 2: </b><br>Now, try to change the structure of the network by adding more layers or neurons and see whether you can improve the accuracy in the Exercise 1. Do you get any better accuracy? Are you overfitting? What do you think the limitation factor could be?</div>"
   ]
  },
  {
   "cell_type": "code",
   "execution_count": 45,
   "metadata": {},
   "outputs": [],
   "source": [
    "### EXERCISE 2 SOLUTION ####\n",
    "\n",
    "# You can use the same X_train, X_test, y_train, y_test of the Exercise 1\n",
    "\n"
   ]
  },
  {
   "cell_type": "markdown",
   "metadata": {},
   "source": [
    "With the new structure we have not improved the accuracy in the test dataset and there is a greater difference between the training and the validation. This is a sign of a small overfitting, but the curves seem to remain stable over the epochs (it does not get worse)."
   ]
  },
  {
   "cell_type": "markdown",
   "metadata": {},
   "source": [
    "## Using all words\n",
    "-----\n",
    "\n",
    "As we have seen, using only six different words in our dictionary might be limiting the potential of artificial neural networks. They tend to perform better as we increase the number of inputs, so they can detect and use more intricate patterns. However, manually selecting those necessary words can be a bit of a hussle. Fortuntalely, the tokenizer from keras is well equipped for that. It has a function `tokenizer.fit_on_texts()` which allows creating a dictionary of words based on the actual text we want to process. This function sorts the word dictionary by frequency, words that appears more often will be allocated first in the dictionary. When initialising the tokenizer, we can also define the `num_words` parameter that caps the number of words used from the dictonary."
   ]
  },
  {
   "cell_type": "code",
   "execution_count": 21,
   "metadata": {},
   "outputs": [
    {
     "data": {
      "text/html": [
       "<div>\n",
       "<style scoped>\n",
       "    .dataframe tbody tr th:only-of-type {\n",
       "        vertical-align: middle;\n",
       "    }\n",
       "\n",
       "    .dataframe tbody tr th {\n",
       "        vertical-align: top;\n",
       "    }\n",
       "\n",
       "    .dataframe thead th {\n",
       "        text-align: right;\n",
       "    }\n",
       "</style>\n",
       "<table border=\"1\" class=\"dataframe\">\n",
       "  <thead>\n",
       "    <tr style=\"text-align: right;\">\n",
       "      <th></th>\n",
       "      <th>frequency</th>\n",
       "    </tr>\n",
       "  </thead>\n",
       "  <tbody>\n",
       "    <tr>\n",
       "      <th>the</th>\n",
       "      <td>764917</td>\n",
       "    </tr>\n",
       "    <tr>\n",
       "      <th>and</th>\n",
       "      <td>456073</td>\n",
       "    </tr>\n",
       "    <tr>\n",
       "      <th>it</th>\n",
       "      <td>431161</td>\n",
       "    </tr>\n",
       "    <tr>\n",
       "      <th>i</th>\n",
       "      <td>431144</td>\n",
       "    </tr>\n",
       "    <tr>\n",
       "      <th>to</th>\n",
       "      <td>417882</td>\n",
       "    </tr>\n",
       "    <tr>\n",
       "      <th>a</th>\n",
       "      <td>346389</td>\n",
       "    </tr>\n",
       "    <tr>\n",
       "      <th>is</th>\n",
       "      <td>256581</td>\n",
       "    </tr>\n",
       "    <tr>\n",
       "      <th>this</th>\n",
       "      <td>223329</td>\n",
       "    </tr>\n",
       "    <tr>\n",
       "      <th>for</th>\n",
       "      <td>216498</td>\n",
       "    </tr>\n",
       "    <tr>\n",
       "      <th>my</th>\n",
       "      <td>184290</td>\n",
       "    </tr>\n",
       "    <tr>\n",
       "      <th>of</th>\n",
       "      <td>182905</td>\n",
       "    </tr>\n",
       "    <tr>\n",
       "      <th>in</th>\n",
       "      <td>180025</td>\n",
       "    </tr>\n",
       "    <tr>\n",
       "      <th>that</th>\n",
       "      <td>147151</td>\n",
       "    </tr>\n",
       "    <tr>\n",
       "      <th>on</th>\n",
       "      <td>125818</td>\n",
       "    </tr>\n",
       "    <tr>\n",
       "      <th>with</th>\n",
       "      <td>125669</td>\n",
       "    </tr>\n",
       "  </tbody>\n",
       "</table>\n",
       "</div>"
      ],
      "text/plain": [
       "      frequency\n",
       "the      764917\n",
       "and      456073\n",
       "it       431161\n",
       "i        431144\n",
       "to       417882\n",
       "a        346389\n",
       "is       256581\n",
       "this     223329\n",
       "for      216498\n",
       "my       184290\n",
       "of       182905\n",
       "in       180025\n",
       "that     147151\n",
       "on       125818\n",
       "with     125669"
      ]
     },
     "execution_count": 21,
     "metadata": {},
     "output_type": "execute_result"
    }
   ],
   "source": [
    "# Define the tokenizer.\n",
    "tokenizer = Tokenizer(filters='!\"#$%&()*+,-./:;<=>?@[\\\\]^_`{|}~\\t\\n', lower=True, split=' ', num_words = 1000)\n",
    "# Convert the column reviews to a list of texts properly formatted\n",
    "alltext = df[\"review\"].astype(str).to_list()\n",
    "# Extract the dictionary of words from the text\n",
    "tokenizer.fit_on_texts(alltext)\n",
    "# Create a dataframe with the word count\n",
    "dfwords = pd.DataFrame.from_dict(tokenizer.word_counts, orient=\"index\",columns=[\"frequency\"])\n",
    "# Show the top 15 words\n",
    "dfwords.sort_values(by=\"frequency\", ascending=False).head(15)"
   ]
  },
  {
   "cell_type": "markdown",
   "metadata": {},
   "source": [
    "If we create a data frame from the `tokenizer.word_counts` we can easily inspect the occurrences of our words. As you see above the top words correspond more or less to the most common in English language, as expected. However, if we show the words further down, we can see how those are still very frequent and more related to opinions and reviews. "
   ]
  },
  {
   "cell_type": "code",
   "execution_count": 22,
   "metadata": {},
   "outputs": [
    {
     "data": {
      "text/html": [
       "<div>\n",
       "<style scoped>\n",
       "    .dataframe tbody tr th:only-of-type {\n",
       "        vertical-align: middle;\n",
       "    }\n",
       "\n",
       "    .dataframe tbody tr th {\n",
       "        vertical-align: top;\n",
       "    }\n",
       "\n",
       "    .dataframe thead th {\n",
       "        text-align: right;\n",
       "    }\n",
       "</style>\n",
       "<table border=\"1\" class=\"dataframe\">\n",
       "  <thead>\n",
       "    <tr style=\"text-align: right;\">\n",
       "      <th></th>\n",
       "      <th>frequency</th>\n",
       "    </tr>\n",
       "  </thead>\n",
       "  <tbody>\n",
       "    <tr>\n",
       "      <th>nicely</th>\n",
       "      <td>3010</td>\n",
       "    </tr>\n",
       "    <tr>\n",
       "      <th>option</th>\n",
       "      <td>3004</td>\n",
       "    </tr>\n",
       "    <tr>\n",
       "      <th>beautiful</th>\n",
       "      <td>3004</td>\n",
       "    </tr>\n",
       "    <tr>\n",
       "      <th>camera</th>\n",
       "      <td>2988</td>\n",
       "    </tr>\n",
       "    <tr>\n",
       "      <th>extremely</th>\n",
       "      <td>2986</td>\n",
       "    </tr>\n",
       "    <tr>\n",
       "      <th>leave</th>\n",
       "      <td>2968</td>\n",
       "    </tr>\n",
       "    <tr>\n",
       "      <th>medela</th>\n",
       "      <td>2967</td>\n",
       "    </tr>\n",
       "    <tr>\n",
       "      <th>uses</th>\n",
       "      <td>2944</td>\n",
       "    </tr>\n",
       "    <tr>\n",
       "      <th>held</th>\n",
       "      <td>2943</td>\n",
       "    </tr>\n",
       "    <tr>\n",
       "      <th>waste</th>\n",
       "      <td>2923</td>\n",
       "    </tr>\n",
       "    <tr>\n",
       "      <th>wide</th>\n",
       "      <td>2911</td>\n",
       "    </tr>\n",
       "    <tr>\n",
       "      <th>adorable</th>\n",
       "      <td>2899</td>\n",
       "    </tr>\n",
       "    <tr>\n",
       "      <th>pain</th>\n",
       "      <td>2892</td>\n",
       "    </tr>\n",
       "    <tr>\n",
       "      <th>stand</th>\n",
       "      <td>2889</td>\n",
       "    </tr>\n",
       "    <tr>\n",
       "      <th>ok</th>\n",
       "      <td>2878</td>\n",
       "    </tr>\n",
       "    <tr>\n",
       "      <th>area</th>\n",
       "      <td>2874</td>\n",
       "    </tr>\n",
       "    <tr>\n",
       "      <th>complaint</th>\n",
       "      <td>2869</td>\n",
       "    </tr>\n",
       "    <tr>\n",
       "      <th>service</th>\n",
       "      <td>2863</td>\n",
       "    </tr>\n",
       "    <tr>\n",
       "      <th>replacement</th>\n",
       "      <td>2857</td>\n",
       "    </tr>\n",
       "    <tr>\n",
       "      <th>sounds</th>\n",
       "      <td>2853</td>\n",
       "    </tr>\n",
       "  </tbody>\n",
       "</table>\n",
       "</div>"
      ],
      "text/plain": [
       "             frequency\n",
       "nicely            3010\n",
       "option            3004\n",
       "beautiful         3004\n",
       "camera            2988\n",
       "extremely         2986\n",
       "leave             2968\n",
       "medela            2967\n",
       "uses              2944\n",
       "held              2943\n",
       "waste             2923\n",
       "wide              2911\n",
       "adorable          2899\n",
       "pain              2892\n",
       "stand             2889\n",
       "ok                2878\n",
       "area              2874\n",
       "complaint         2869\n",
       "service           2863\n",
       "replacement       2857\n",
       "sounds            2853"
      ]
     },
     "execution_count": 22,
     "metadata": {},
     "output_type": "execute_result"
    }
   ],
   "source": [
    "# Show the words between the 600th and 620th position.\n",
    "dfwords.sort_values(by=\"frequency\", ascending=False).iloc[600:620,:]"
   ]
  },
  {
   "cell_type": "markdown",
   "metadata": {},
   "source": [
    "Another change we are introducing here is the way we process the sequences after the tokenizer being fit in the text. Rather than counting the occurrence of words in the text, we are going to use directly the sequence vector. This allows to consider further complexities in the natural language. For example, before the subsets \"really like\" and \"don't like\" were difficult to classify. Both have the word like in it but one is clearly positive whereas the other is clearly negative. The tokenizer we have fit has de following words encoded in its dictionary: `{\"like\":38, \"really\":64, \"dont\": 891}` - remember the tokenizer removes the special characters. Thus, the first subset will be converted as the pair `[64,38]` whereas the second as `[891,38]`. The ANN will now be able to distinguish that when the first pair appears in the sequence it will associate a positive sentiment, whereas if it finds the second pair it will associate a negative sentiment. This can increase substantially the performance of our classifier.\n",
    "\n",
    "There is one problem to consider though. The lengths of the sequences will vary from one review to the other, but the vector we have to input into the ANN has to be of a fixed size for all reviews. In order to homogenize all these vectors of different lengths, `pad_sequences()` allows keep only the first `maxlen` values and truncate the rest, or if the sequence is shorter, keep all values and fill the rest with zeros. This way all reviews will have the same sequence length. You can read more about this pre-processing method in [here](https://towardsdatascience.com/nlp-preparing-text-for-deep-learning-model-using-tensorflow2-461428138657)."
   ]
  },
  {
   "cell_type": "code",
   "execution_count": 23,
   "metadata": {},
   "outputs": [
    {
     "data": {
      "text/html": [
       "<div>\n",
       "<style scoped>\n",
       "    .dataframe tbody tr th:only-of-type {\n",
       "        vertical-align: middle;\n",
       "    }\n",
       "\n",
       "    .dataframe tbody tr th {\n",
       "        vertical-align: top;\n",
       "    }\n",
       "\n",
       "    .dataframe thead th {\n",
       "        text-align: right;\n",
       "    }\n",
       "</style>\n",
       "<table border=\"1\" class=\"dataframe\">\n",
       "  <thead>\n",
       "    <tr style=\"text-align: right;\">\n",
       "      <th></th>\n",
       "      <th>name</th>\n",
       "      <th>review</th>\n",
       "      <th>rating</th>\n",
       "      <th>sentiment</th>\n",
       "      <th>sequences</th>\n",
       "    </tr>\n",
       "  </thead>\n",
       "  <tbody>\n",
       "    <tr>\n",
       "      <th>0</th>\n",
       "      <td>Planetwise Flannel Wipes</td>\n",
       "      <td>These flannel wipes are OK, but in my opinion ...</td>\n",
       "      <td>3</td>\n",
       "      <td>0</td>\n",
       "      <td>[42, 457, 23, 615, 17, 12, 10, 21, 220, 690, 4...</td>\n",
       "    </tr>\n",
       "    <tr>\n",
       "      <th>1</th>\n",
       "      <td>Planetwise Wipe Pouch</td>\n",
       "      <td>it came early and was not disappointed. i love...</td>\n",
       "      <td>5</td>\n",
       "      <td>1</td>\n",
       "      <td>[3, 262, 2, 16, 21, 447, 4, 52, 367, 2, 78, 10...</td>\n",
       "    </tr>\n",
       "    <tr>\n",
       "      <th>2</th>\n",
       "      <td>Annas Dream Full Quilt with 2 Shams</td>\n",
       "      <td>Very soft and comfortable and warmer than it l...</td>\n",
       "      <td>5</td>\n",
       "      <td>1</td>\n",
       "      <td>[28, 157, 2, 207, 2, 828, 73, 3, 216, 114, 1, ...</td>\n",
       "    </tr>\n",
       "    <tr>\n",
       "      <th>3</th>\n",
       "      <td>Stop Pacifier Sucking without tears with Thumb...</td>\n",
       "      <td>This is a product well worth the purchase.  I ...</td>\n",
       "      <td>5</td>\n",
       "      <td>1</td>\n",
       "      <td>[8, 7, 6, 66, 59, 220, 1, 236, 4, 18, 21, 227,...</td>\n",
       "    </tr>\n",
       "    <tr>\n",
       "      <th>4</th>\n",
       "      <td>Stop Pacifier Sucking without tears with Thumb...</td>\n",
       "      <td>All of my kids have cried non-stop when I trie...</td>\n",
       "      <td>5</td>\n",
       "      <td>1</td>\n",
       "      <td>[41, 11, 10, 211, 18, 953, 897, 29, 4, 214, 5,...</td>\n",
       "    </tr>\n",
       "    <tr>\n",
       "      <th>...</th>\n",
       "      <td>...</td>\n",
       "      <td>...</td>\n",
       "      <td>...</td>\n",
       "      <td>...</td>\n",
       "      <td>...</td>\n",
       "    </tr>\n",
       "    <tr>\n",
       "      <th>183526</th>\n",
       "      <td>Baby Teething Necklace for Mom Pretty Donut Sh...</td>\n",
       "      <td>Such a great idea! very handy to have and look...</td>\n",
       "      <td>5</td>\n",
       "      <td>1</td>\n",
       "      <td>[423, 6, 31, 463, 28, 709, 5, 18, 2, 242, 64, ...</td>\n",
       "    </tr>\n",
       "    <tr>\n",
       "      <th>183527</th>\n",
       "      <td>Baby Teething Necklace for Mom Pretty Donut Sh...</td>\n",
       "      <td>This product rocks!  It is a great blend of fu...</td>\n",
       "      <td>5</td>\n",
       "      <td>1</td>\n",
       "      <td>[8, 66, 3, 7, 6, 31, 11, 2, 58, 1, 11, 240, 20...</td>\n",
       "    </tr>\n",
       "    <tr>\n",
       "      <th>183528</th>\n",
       "      <td>Abstract 2 PK Baby / Toddler Training Cup (Pink)</td>\n",
       "      <td>This item looks great and cool for my kids.......</td>\n",
       "      <td>5</td>\n",
       "      <td>1</td>\n",
       "      <td>[8, 241, 216, 31, 2, 811, 9, 10, 211, 4, 203, ...</td>\n",
       "    </tr>\n",
       "    <tr>\n",
       "      <th>183529</th>\n",
       "      <td>Baby Food Freezer Tray - Bacteria Resistant, B...</td>\n",
       "      <td>I am extremely happy with this product. I have...</td>\n",
       "      <td>5</td>\n",
       "      <td>1</td>\n",
       "      <td>[4, 102, 605, 195, 15, 8, 66, 4, 18, 109, 9, 6...</td>\n",
       "    </tr>\n",
       "    <tr>\n",
       "      <th>183530</th>\n",
       "      <td>Best 2 Pack Baby Car Shade for Kids - Window S...</td>\n",
       "      <td>I love this product very mush . I have bought ...</td>\n",
       "      <td>5</td>\n",
       "      <td>1</td>\n",
       "      <td>[4, 52, 8, 66, 28, 4, 18, 70, 210, 97, 17, 27,...</td>\n",
       "    </tr>\n",
       "  </tbody>\n",
       "</table>\n",
       "<p>182384 rows × 5 columns</p>\n",
       "</div>"
      ],
      "text/plain": [
       "                                                     name  \\\n",
       "0                                Planetwise Flannel Wipes   \n",
       "1                                   Planetwise Wipe Pouch   \n",
       "2                     Annas Dream Full Quilt with 2 Shams   \n",
       "3       Stop Pacifier Sucking without tears with Thumb...   \n",
       "4       Stop Pacifier Sucking without tears with Thumb...   \n",
       "...                                                   ...   \n",
       "183526  Baby Teething Necklace for Mom Pretty Donut Sh...   \n",
       "183527  Baby Teething Necklace for Mom Pretty Donut Sh...   \n",
       "183528   Abstract 2 PK Baby / Toddler Training Cup (Pink)   \n",
       "183529  Baby Food Freezer Tray - Bacteria Resistant, B...   \n",
       "183530  Best 2 Pack Baby Car Shade for Kids - Window S...   \n",
       "\n",
       "                                                   review  rating  sentiment  \\\n",
       "0       These flannel wipes are OK, but in my opinion ...       3          0   \n",
       "1       it came early and was not disappointed. i love...       5          1   \n",
       "2       Very soft and comfortable and warmer than it l...       5          1   \n",
       "3       This is a product well worth the purchase.  I ...       5          1   \n",
       "4       All of my kids have cried non-stop when I trie...       5          1   \n",
       "...                                                   ...     ...        ...   \n",
       "183526  Such a great idea! very handy to have and look...       5          1   \n",
       "183527  This product rocks!  It is a great blend of fu...       5          1   \n",
       "183528  This item looks great and cool for my kids.......       5          1   \n",
       "183529  I am extremely happy with this product. I have...       5          1   \n",
       "183530  I love this product very mush . I have bought ...       5          1   \n",
       "\n",
       "                                                sequences  \n",
       "0       [42, 457, 23, 615, 17, 12, 10, 21, 220, 690, 4...  \n",
       "1       [3, 262, 2, 16, 21, 447, 4, 52, 367, 2, 78, 10...  \n",
       "2       [28, 157, 2, 207, 2, 828, 73, 3, 216, 114, 1, ...  \n",
       "3       [8, 7, 6, 66, 59, 220, 1, 236, 4, 18, 21, 227,...  \n",
       "4       [41, 11, 10, 211, 18, 953, 897, 29, 4, 214, 5,...  \n",
       "...                                                   ...  \n",
       "183526  [423, 6, 31, 463, 28, 709, 5, 18, 2, 242, 64, ...  \n",
       "183527  [8, 66, 3, 7, 6, 31, 11, 2, 58, 1, 11, 240, 20...  \n",
       "183528  [8, 241, 216, 31, 2, 811, 9, 10, 211, 4, 203, ...  \n",
       "183529  [4, 102, 605, 195, 15, 8, 66, 4, 18, 109, 9, 6...  \n",
       "183530  [4, 52, 8, 66, 28, 4, 18, 70, 210, 97, 17, 27,...  \n",
       "\n",
       "[182384 rows x 5 columns]"
      ]
     },
     "execution_count": 23,
     "metadata": {},
     "output_type": "execute_result"
    }
   ],
   "source": [
    "from tensorflow.keras.preprocessing.sequence import pad_sequences\n",
    "\n",
    "## Transform training reviews into sequences:  \n",
    "sequences = tokenizer.texts_to_sequences(df[\"review\"].astype(str).to_list())\n",
    "padded = pad_sequences(sequences, maxlen=50, padding='post', truncating='post')\n",
    "df[\"sequences\"] = list(padded)\n",
    "df"
   ]
  },
  {
   "cell_type": "markdown",
   "metadata": {},
   "source": [
    "We now create the train and test split, as before:"
   ]
  },
  {
   "cell_type": "code",
   "execution_count": 24,
   "metadata": {},
   "outputs": [],
   "source": [
    "import numpy as np\n",
    "\n",
    "# Convert to list and then to numpy array (otherwise does not work)\n",
    "X = np.array(df[\"sequences\"].to_list())\n",
    "y = np.array(df['sentiment'].to_list())\n",
    "\n",
    "# Use the train_test_split from the sklearn library\n",
    "X_train, X_test, y_train, y_test = train_test_split(X, y, test_size=0.2, random_state=28)"
   ]
  },
  {
   "cell_type": "markdown",
   "metadata": {},
   "source": [
    "Because we now have integers representing words with different meanings, we also need to add a couple of extra layers in our ANN accounting for this kind of input. Typically in NPL we use an input [Embedding layer](https://medium.com/analytics-vidhya/understanding-embedding-layer-in-keras-bbe3ff1327ce) that helps to deal with this integer based representation. The first argument in the `layers.Embedding()` is the vocabulary, which in our case we have already define it in the tokenizer. The second argument is the dimension of the layer output, the higher the dimension the more parameters to fit. Finally, `input_length` indicates the length of the vector input, which we have already defined in the `pad_sequence()` function. The Embedding layer output is 2D, so if we want to connect it with the previous ANN structure, we first need to convert it to 1D vector using the `layers.Flatten()`. The rest of the structure remains exactly the same.  "
   ]
  },
  {
   "cell_type": "code",
   "execution_count": 25,
   "metadata": {},
   "outputs": [
    {
     "name": "stdout",
     "output_type": "stream",
     "text": [
      "Model: \"sequential\"\n",
      "_________________________________________________________________\n",
      "Layer (type)                 Output Shape              Param #   \n",
      "=================================================================\n",
      "embedding (Embedding)        (None, 50, 32)            32000     \n",
      "_________________________________________________________________\n",
      "flatten (Flatten)            (None, 1600)              0         \n",
      "_________________________________________________________________\n",
      "dense (Dense)                (None, 6)                 9606      \n",
      "_________________________________________________________________\n",
      "dense_1 (Dense)              (None, 1)                 7         \n",
      "=================================================================\n",
      "Total params: 41,613\n",
      "Trainable params: 41,613\n",
      "Non-trainable params: 0\n",
      "_________________________________________________________________\n"
     ]
    }
   ],
   "source": [
    "from tensorflow.keras.layers import Embedding\n",
    "\n",
    "# Clear the session of previous ANN\n",
    "clear_session()\n",
    "\n",
    "# 1. Definition\n",
    "model = Sequential()\n",
    "model.add(layers.Embedding(1000, 32, input_length=X_train.shape[1]))\n",
    "model.add(layers.Flatten())\n",
    "model.add(layers.Dense(6, activation='relu'))\n",
    "model.add(layers.Dense(1, activation='sigmoid'))\n",
    "\n",
    "model.compile(loss='binary_crossentropy', optimizer='adam', metrics=['accuracy'])\n",
    "model.summary()"
   ]
  },
  {
   "cell_type": "markdown",
   "metadata": {},
   "source": [
    "As you see the number of parameters to fit has increased substantially due to the embedding layer. Again, if the training takes very long, consider running this within [Google's Colab](https://colab.research.google.com). "
   ]
  },
  {
   "cell_type": "code",
   "execution_count": 26,
   "metadata": {},
   "outputs": [
    {
     "name": "stdout",
     "output_type": "stream",
     "text": [
      "Epoch 1/12\n",
      "234/234 [==============================] - 2s 8ms/step - loss: 0.5317 - accuracy: 0.7499 - val_loss: 0.3487 - val_accuracy: 0.8462\n",
      "Epoch 2/12\n",
      "234/234 [==============================] - 2s 8ms/step - loss: 0.3302 - accuracy: 0.8538 - val_loss: 0.3355 - val_accuracy: 0.8524\n",
      "Epoch 3/12\n",
      "234/234 [==============================] - 2s 7ms/step - loss: 0.3109 - accuracy: 0.8652 - val_loss: 0.3326 - val_accuracy: 0.8552\n",
      "Epoch 4/12\n",
      "234/234 [==============================] - 2s 7ms/step - loss: 0.3032 - accuracy: 0.8679 - val_loss: 0.3331 - val_accuracy: 0.8551\n",
      "Epoch 5/12\n",
      "234/234 [==============================] - 2s 7ms/step - loss: 0.2907 - accuracy: 0.8755 - val_loss: 0.3389 - val_accuracy: 0.8527\n",
      "Epoch 6/12\n",
      "234/234 [==============================] - 2s 7ms/step - loss: 0.2791 - accuracy: 0.8842 - val_loss: 0.3438 - val_accuracy: 0.8508\n",
      "Epoch 7/12\n",
      "234/234 [==============================] - 2s 6ms/step - loss: 0.2658 - accuracy: 0.8915 - val_loss: 0.3539 - val_accuracy: 0.8480\n",
      "Epoch 8/12\n",
      "234/234 [==============================] - 2s 7ms/step - loss: 0.2504 - accuracy: 0.8984 - val_loss: 0.3630 - val_accuracy: 0.8452\n",
      "Epoch 9/12\n",
      "234/234 [==============================] - 1s 6ms/step - loss: 0.2372 - accuracy: 0.9065 - val_loss: 0.3776 - val_accuracy: 0.8411\n",
      "Epoch 10/12\n",
      "234/234 [==============================] - 2s 8ms/step - loss: 0.2235 - accuracy: 0.9137 - val_loss: 0.3925 - val_accuracy: 0.8384\n",
      "Epoch 11/12\n",
      "234/234 [==============================] - 2s 7ms/step - loss: 0.2133 - accuracy: 0.9181 - val_loss: 0.4092 - val_accuracy: 0.8349\n",
      "Epoch 12/12\n",
      "234/234 [==============================] - 2s 8ms/step - loss: 0.2025 - accuracy: 0.9230 - val_loss: 0.4264 - val_accuracy: 0.8339\n",
      "Training Accuracy: 0.9126\n",
      "Testing Accuracy:  0.8324\n"
     ]
    },
    {
     "data": {
      "image/png": "[encoded data removed]",
      "text/plain": [
       "<Figure size 864x360 with 2 Axes>"
      ]
     },
     "metadata": {
      "needs_background": "light"
     },
     "output_type": "display_data"
    }
   ],
   "source": [
    "# 2. Training\n",
    "history = model.fit(X_train, y_train, epochs=12, verbose=True, validation_split=0.2, batch_size=500)\n",
    "plot_history(history)\n",
    "# 3. Evaluation\n",
    "loss, accuracy = model.evaluate(X_train, y_train, verbose=False)\n",
    "print(\"Training Accuracy: {:.4f}\".format(accuracy))\n",
    "loss, accuracy = model.evaluate(X_test, y_test, verbose=False)\n",
    "print(\"Testing Accuracy:  {:.4f}\".format(accuracy))"
   ]
  },
  {
   "cell_type": "markdown",
   "metadata": {},
   "source": [
    "The results now show a very different picture. On one hand we have a testing accuracy that has increased substantially with respect to the previous ANN, and is also higher than the 76.39% of the null model (all predictions are positive). This is great news and a clear sign that using more words and a slightly more complex structure make the Artificial Neural Networks a good model for sentiment analysis. On the other hand, we can appreciate from the plots that our model suffers from overfitting. Thus, the training dataset curve keeps increasing as the epochs go on but the validation dataset saturates after few epochs, it even decreases towards the end. The same conclusion can be drawn looking at the loss functions. This means that the our model is more and more specialising to improve predictions in the training dataset, but at expense of the accuracy in the test data. In fact, we can see how there is 5% difference in the evaluation of train and test datasets. The results are still quite good but it is clear that there is still room for [reducing the overfitting](https://www.youtube.com/watch?v=DEMmkFC6IGM) and improving our model."
   ]
  },
  {
   "cell_type": "markdown",
   "metadata": {},
   "source": [
    "<div class=\"alert alert-block alert-info\"><b>Exercise 3:</b><br>Try changing some parts of the model to see whether you can further improve its prediction accuracy. Some modifications can include:<ul>\n",
    "  <li>Change the length of the sequences (maxlen parameter)</li>\n",
    "  <li>Add more dense layers in the network</li>\n",
    "  <li>Change the number of neurons in the dense layers</li>\n",
    "  <li>Try with other activation functions (hyperbpolic tangent)</li>\n",
    "  <li>Replace the Flatten() layer by <a href=\"https://keras.io/api/layers/pooling_layers/global_average_pooling1d/\">GlobalAveragePooling1D()</a> to reduce the number of parameters</li>\n",
    "</ul></div>"
   ]
  },
  {
   "cell_type": "code",
   "execution_count": 44,
   "metadata": {},
   "outputs": [],
   "source": [
    "### EXERCISE 3 SOLUTION ####\n",
    "\n"
   ]
  },
  {
   "cell_type": "markdown",
   "metadata": {},
   "source": [
    "<div class=\"alert alert-block alert-info\"><b>Exercise 4:</b><br>Write your own collection of made up reviews and use the Artificial Neural Network to predict their sentiment. </div>"
   ]
  },
  {
   "cell_type": "code",
   "execution_count": 43,
   "metadata": {},
   "outputs": [],
   "source": [
    "### EXERCISE 4 SOLUTION ####\n",
    "\n"
   ]
  },
  {
   "cell_type": "markdown",
   "metadata": {},
   "source": [
    "---\n",
    "<div style=\"text-align: right ;font-size: small; color: gray\"> Notebook by <a href=\"http://mariogutierrezroig.net\">Mario Gutiérrez-Roig</a>, Lecturer in Data Science and Statistics at the University of Essex <a href=\"http://creativecommons.org/licenses/by-sa/4.0/\" rel=\"license\"><img src=\"https://i.creativecommons.org/l/by-sa/4.0/88x31.png\" alt=\"Licencia de Creative Commons\" hspace=\"10\" align=\"right\"></a></div>"
   ]
  }
 ],
 "metadata": {
  "kernelspec": {
   "display_name": "Python 3 (ipykernel)",
   "language": "python",
   "name": "python3"
  },
  "language_info": {
   "codemirror_mode": {
    "name": "ipython",
    "version": 3
   },
   "file_extension": ".py",
   "mimetype": "text/x-python",
   "name": "python",
   "nbconvert_exporter": "python",
   "pygments_lexer": "ipython3",
   "version": "3.8.13"
  }
 },
 "nbformat": 4,
 "nbformat_minor": 4
}
