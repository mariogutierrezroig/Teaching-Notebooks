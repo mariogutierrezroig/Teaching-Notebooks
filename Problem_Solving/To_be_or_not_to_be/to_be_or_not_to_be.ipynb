{
 "cells": [
  {
   "cell_type": "markdown",
   "metadata": {},
   "source": [
    "# __Problem Solving: To be or not to be__\n",
    "---\n",
    "\n",
    "The [Infinite Monkey Theorem](https://en.wikipedia.org/wiki/Infinite_monkey_theorem) states the following:\n",
    ">A monkey hitting keys at random on a typewriter keyboard for an infinite amount of time will almost surely type any given text, such as the complete works of William Shakespeare.\n",
    "\n",
    "In other words, finite sequence of letters can sooner or leater will appear if we generate pieces of text of the same length for long enough.\n",
    "\n",
    "In this notebook we will explore how to implement a set of search algorithms and evolutionary algorithms for coming up with the famous finite sequence of letters \"to be or not to be\" from the Shakespeare's play [Hamlet](https://en.wikipedia.org/wiki/Hamlet).\n",
    "\n",
    "![title](img/infinite_monkey.png)"
   ]
  },
  {
   "cell_type": "markdown",
   "metadata": {},
   "source": [
    "## Problem Formulation\n",
    "---\n",
    "\n",
    "The first thing to do is clearly defining the goal state of the problem, which is the string of characters \"TO BE OR NOT TO BE\", all in capitals and with spaces."
   ]
  },
  {
   "cell_type": "code",
   "execution_count": 1,
   "metadata": {},
   "outputs": [],
   "source": [
    "# Defining the target as string of characters\n",
    "target = \"TO BE OR NOT TO BE\""
   ]
  },
  {
   "cell_type": "markdown",
   "metadata": {},
   "source": [
    "In Python text is also a vector with characters, which we can refer to pointing at their positions."
   ]
  },
  {
   "cell_type": "code",
   "execution_count": 2,
   "metadata": {},
   "outputs": [
    {
     "data": {
      "text/plain": [
       "'E'"
      ]
     },
     "execution_count": 2,
     "metadata": {},
     "output_type": "execute_result"
    }
   ],
   "source": [
    "#Showing the first element\n",
    "target[4]"
   ]
  },
  {
   "cell_type": "markdown",
   "metadata": {},
   "source": [
    "All values that can go in each of the positions is the 26 letters in standard english, plus the space character."
   ]
  },
  {
   "cell_type": "code",
   "execution_count": 3,
   "metadata": {},
   "outputs": [],
   "source": [
    "# Define all possible values\n",
    "charlist = [\"A\",\"B\",\"C\",\"D\",\"E\",\"F\",\"G\",\"H\",\"I\",\"J\",\"K\",\"L\",\"M\",\"N\",\"O\",\"P\",\"Q\",\"R\",\"S\",\"T\",\"U\",\"V\",\"W\",\"X\",\"Y\",\"Z\",\" \"]"
   ]
  },
  {
   "cell_type": "markdown",
   "metadata": {},
   "source": [
    "So we can build candidates by attaching elements from that `charlist`."
   ]
  },
  {
   "cell_type": "code",
   "execution_count": 4,
   "metadata": {},
   "outputs": [
    {
     "data": {
      "text/plain": [
       "'GBOX'"
      ]
     },
     "execution_count": 4,
     "metadata": {},
     "output_type": "execute_result"
    }
   ],
   "source": [
    "# Concatenating elements of charlist using + symbol (only works for character format)\n",
    "candidate = charlist[6] + charlist[1] + charlist[14] + charlist[23]\n",
    "candidate"
   ]
  },
  {
   "cell_type": "markdown",
   "metadata": {},
   "source": [
    "or we e can also use the `sample()` function from the `random` library to generate random combinations: "
   ]
  },
  {
   "cell_type": "code",
   "execution_count": 5,
   "metadata": {},
   "outputs": [
    {
     "data": {
      "text/plain": [
       "['I',\n",
       " 'E',\n",
       " 'S',\n",
       " 'F',\n",
       " 'U',\n",
       " 'D',\n",
       " 'K',\n",
       " 'A',\n",
       " 'M',\n",
       " 'T',\n",
       " 'H',\n",
       " 'B',\n",
       " 'Y',\n",
       " 'V',\n",
       " 'P',\n",
       " 'O',\n",
       " 'W',\n",
       " 'L']"
      ]
     },
     "execution_count": 5,
     "metadata": {},
     "output_type": "execute_result"
    }
   ],
   "source": [
    "import random\n",
    "\n",
    "candidate = random.sample(charlist,18)\n",
    "candidate"
   ]
  },
  {
   "cell_type": "markdown",
   "metadata": {},
   "source": [
    "If we want to see it as text, we can use the `join()` attribute, that allows to stick several characters using a ."
   ]
  },
  {
   "cell_type": "code",
   "execution_count": 6,
   "metadata": {},
   "outputs": [
    {
     "data": {
      "text/plain": [
       "'IESFUDKAMTHBYVPOWL'"
      ]
     },
     "execution_count": 6,
     "metadata": {},
     "output_type": "execute_result"
    }
   ],
   "source": [
    "# Create a string of characters\n",
    "''.join(candidate)"
   ]
  },
  {
   "cell_type": "markdown",
   "metadata": {},
   "source": [
    "Finally, we need to create a function `check` that checks how many characters match the target."
   ]
  },
  {
   "cell_type": "code",
   "execution_count": 7,
   "metadata": {},
   "outputs": [
    {
     "data": {
      "text/plain": [
       "9"
      ]
     },
     "execution_count": 7,
     "metadata": {},
     "output_type": "execute_result"
    }
   ],
   "source": [
    "def check(candidate,target):\n",
    "    # Initialise counter\n",
    "    count = 0\n",
    "    # loop through all positions of both vectors\n",
    "    for c,t in zip(candidate,target):\n",
    "        if c == t:\n",
    "            # Add one to count if the two characters match\n",
    "            count += 1\n",
    "    # returnt the count\n",
    "    return(count)\n",
    "\n",
    "#list(zip(candidate,target))\n",
    "candidate = \"TO BE OR WFCNGTIAQ\"\n",
    "check(candidate,target)"
   ]
  },
  {
   "cell_type": "markdown",
   "metadata": {},
   "source": [
    "## Breadth-first search\n",
    "---\n",
    "\n",
    "Breadth-first search takes a lot of memory and will freeze our computer if we try with the whole target. Will show the algorithm with a short target version. "
   ]
  },
  {
   "cell_type": "code",
   "execution_count": 8,
   "metadata": {},
   "outputs": [],
   "source": [
    "# Short target\n",
    "targetshort = \"TO BE\""
   ]
  },
  {
   "cell_type": "markdown",
   "metadata": {},
   "source": [
    "With breadth-first search need to build all candidates at once exploring all possibilities for subsequent positions. Let's start with the first."
   ]
  },
  {
   "cell_type": "code",
   "execution_count": 9,
   "metadata": {},
   "outputs": [
    {
     "name": "stdout",
     "output_type": "stream",
     "text": [
      "['A', 'B', 'C', 'D', 'E', 'F', 'G', 'H', 'I', 'J', 'K', 'L', 'M', 'N', 'O', 'P', 'Q', 'R', 'S', 'T', 'U', 'V', 'W', 'X', 'Y', 'Z', ' ']\n"
     ]
    }
   ],
   "source": [
    "import numpy as np\n",
    "\n",
    "# List for all candidates\n",
    "allcand = []\n",
    "\n",
    "for char in charlist:\n",
    "    allcand.append(char)\n",
    "    \n",
    "print(allcand)"
   ]
  },
  {
   "cell_type": "markdown",
   "metadata": {},
   "source": [
    "For each value in `allcand` we now generate all possibilities for two-letter string."
   ]
  },
  {
   "cell_type": "code",
   "execution_count": 10,
   "metadata": {
    "tags": []
   },
   "outputs": [
    {
     "name": "stdout",
     "output_type": "stream",
     "text": [
      "['AA', 'AB', 'AC', 'AD', 'AE', 'AF', 'AG', 'AH', 'AI', 'AJ', 'AK', 'AL', 'AM', 'AN', 'AO', 'AP', 'AQ', 'AR', 'AS', 'AT', 'AU', 'AV', 'AW', 'AX', 'AY', 'AZ', 'A ', 'BA', 'BB', 'BC', 'BD', 'BE', 'BF', 'BG', 'BH', 'BI', 'BJ', 'BK', 'BL', 'BM', 'BN', 'BO', 'BP', 'BQ', 'BR', 'BS', 'BT', 'BU', 'BV', 'BW', 'BX', 'BY', 'BZ', 'B ', 'CA', 'CB', 'CC', 'CD', 'CE', 'CF', 'CG', 'CH', 'CI', 'CJ', 'CK', 'CL', 'CM', 'CN', 'CO', 'CP', 'CQ', 'CR', 'CS', 'CT', 'CU', 'CV', 'CW', 'CX', 'CY', 'CZ', 'C ', 'DA', 'DB', 'DC', 'DD', 'DE', 'DF', 'DG', 'DH', 'DI', 'DJ', 'DK', 'DL', 'DM', 'DN', 'DO', 'DP', 'DQ', 'DR', 'DS', 'DT', 'DU', 'DV', 'DW', 'DX', 'DY', 'DZ', 'D ', 'EA', 'EB', 'EC', 'ED', 'EE', 'EF', 'EG', 'EH', 'EI', 'EJ', 'EK', 'EL', 'EM', 'EN', 'EO', 'EP', 'EQ', 'ER', 'ES', 'ET', 'EU', 'EV', 'EW', 'EX', 'EY', 'EZ', 'E ', 'FA', 'FB', 'FC', 'FD', 'FE', 'FF', 'FG', 'FH', 'FI', 'FJ', 'FK', 'FL', 'FM', 'FN', 'FO', 'FP', 'FQ', 'FR', 'FS', 'FT', 'FU', 'FV', 'FW', 'FX', 'FY', 'FZ', 'F ', 'GA', 'GB', 'GC', 'GD', 'GE', 'GF', 'GG', 'GH', 'GI', 'GJ', 'GK', 'GL', 'GM', 'GN', 'GO', 'GP', 'GQ', 'GR', 'GS', 'GT', 'GU', 'GV', 'GW', 'GX', 'GY', 'GZ', 'G ', 'HA', 'HB', 'HC', 'HD', 'HE', 'HF', 'HG', 'HH', 'HI', 'HJ', 'HK', 'HL', 'HM', 'HN', 'HO', 'HP', 'HQ', 'HR', 'HS', 'HT', 'HU', 'HV', 'HW', 'HX', 'HY', 'HZ', 'H ', 'IA', 'IB', 'IC', 'ID', 'IE', 'IF', 'IG', 'IH', 'II', 'IJ', 'IK', 'IL', 'IM', 'IN', 'IO', 'IP', 'IQ', 'IR', 'IS', 'IT', 'IU', 'IV', 'IW', 'IX', 'IY', 'IZ', 'I ', 'JA', 'JB', 'JC', 'JD', 'JE', 'JF', 'JG', 'JH', 'JI', 'JJ', 'JK', 'JL', 'JM', 'JN', 'JO', 'JP', 'JQ', 'JR', 'JS', 'JT', 'JU', 'JV', 'JW', 'JX', 'JY', 'JZ', 'J ', 'KA', 'KB', 'KC', 'KD', 'KE', 'KF', 'KG', 'KH', 'KI', 'KJ', 'KK', 'KL', 'KM', 'KN', 'KO', 'KP', 'KQ', 'KR', 'KS', 'KT', 'KU', 'KV', 'KW', 'KX', 'KY', 'KZ', 'K ', 'LA', 'LB', 'LC', 'LD', 'LE', 'LF', 'LG', 'LH', 'LI', 'LJ', 'LK', 'LL', 'LM', 'LN', 'LO', 'LP', 'LQ', 'LR', 'LS', 'LT', 'LU', 'LV', 'LW', 'LX', 'LY', 'LZ', 'L ', 'MA', 'MB', 'MC', 'MD', 'ME', 'MF', 'MG', 'MH', 'MI', 'MJ', 'MK', 'ML', 'MM', 'MN', 'MO', 'MP', 'MQ', 'MR', 'MS', 'MT', 'MU', 'MV', 'MW', 'MX', 'MY', 'MZ', 'M ', 'NA', 'NB', 'NC', 'ND', 'NE', 'NF', 'NG', 'NH', 'NI', 'NJ', 'NK', 'NL', 'NM', 'NN', 'NO', 'NP', 'NQ', 'NR', 'NS', 'NT', 'NU', 'NV', 'NW', 'NX', 'NY', 'NZ', 'N ', 'OA', 'OB', 'OC', 'OD', 'OE', 'OF', 'OG', 'OH', 'OI', 'OJ', 'OK', 'OL', 'OM', 'ON', 'OO', 'OP', 'OQ', 'OR', 'OS', 'OT', 'OU', 'OV', 'OW', 'OX', 'OY', 'OZ', 'O ', 'PA', 'PB', 'PC', 'PD', 'PE', 'PF', 'PG', 'PH', 'PI', 'PJ', 'PK', 'PL', 'PM', 'PN', 'PO', 'PP', 'PQ', 'PR', 'PS', 'PT', 'PU', 'PV', 'PW', 'PX', 'PY', 'PZ', 'P ', 'QA', 'QB', 'QC', 'QD', 'QE', 'QF', 'QG', 'QH', 'QI', 'QJ', 'QK', 'QL', 'QM', 'QN', 'QO', 'QP', 'QQ', 'QR', 'QS', 'QT', 'QU', 'QV', 'QW', 'QX', 'QY', 'QZ', 'Q ', 'RA', 'RB', 'RC', 'RD', 'RE', 'RF', 'RG', 'RH', 'RI', 'RJ', 'RK', 'RL', 'RM', 'RN', 'RO', 'RP', 'RQ', 'RR', 'RS', 'RT', 'RU', 'RV', 'RW', 'RX', 'RY', 'RZ', 'R ', 'SA', 'SB', 'SC', 'SD', 'SE', 'SF', 'SG', 'SH', 'SI', 'SJ', 'SK', 'SL', 'SM', 'SN', 'SO', 'SP', 'SQ', 'SR', 'SS', 'ST', 'SU', 'SV', 'SW', 'SX', 'SY', 'SZ', 'S ', 'TA', 'TB', 'TC', 'TD', 'TE', 'TF', 'TG', 'TH', 'TI', 'TJ', 'TK', 'TL', 'TM', 'TN', 'TO', 'TP', 'TQ', 'TR', 'TS', 'TT', 'TU', 'TV', 'TW', 'TX', 'TY', 'TZ', 'T ', 'UA', 'UB', 'UC', 'UD', 'UE', 'UF', 'UG', 'UH', 'UI', 'UJ', 'UK', 'UL', 'UM', 'UN', 'UO', 'UP', 'UQ', 'UR', 'US', 'UT', 'UU', 'UV', 'UW', 'UX', 'UY', 'UZ', 'U ', 'VA', 'VB', 'VC', 'VD', 'VE', 'VF', 'VG', 'VH', 'VI', 'VJ', 'VK', 'VL', 'VM', 'VN', 'VO', 'VP', 'VQ', 'VR', 'VS', 'VT', 'VU', 'VV', 'VW', 'VX', 'VY', 'VZ', 'V ', 'WA', 'WB', 'WC', 'WD', 'WE', 'WF', 'WG', 'WH', 'WI', 'WJ', 'WK', 'WL', 'WM', 'WN', 'WO', 'WP', 'WQ', 'WR', 'WS', 'WT', 'WU', 'WV', 'WW', 'WX', 'WY', 'WZ', 'W ', 'XA', 'XB', 'XC', 'XD', 'XE', 'XF', 'XG', 'XH', 'XI', 'XJ', 'XK', 'XL', 'XM', 'XN', 'XO', 'XP', 'XQ', 'XR', 'XS', 'XT', 'XU', 'XV', 'XW', 'XX', 'XY', 'XZ', 'X ', 'YA', 'YB', 'YC', 'YD', 'YE', 'YF', 'YG', 'YH', 'YI', 'YJ', 'YK', 'YL', 'YM', 'YN', 'YO', 'YP', 'YQ', 'YR', 'YS', 'YT', 'YU', 'YV', 'YW', 'YX', 'YY', 'YZ', 'Y ', 'ZA', 'ZB', 'ZC', 'ZD', 'ZE', 'ZF', 'ZG', 'ZH', 'ZI', 'ZJ', 'ZK', 'ZL', 'ZM', 'ZN', 'ZO', 'ZP', 'ZQ', 'ZR', 'ZS', 'ZT', 'ZU', 'ZV', 'ZW', 'ZX', 'ZY', 'ZZ', 'Z ', ' A', ' B', ' C', ' D', ' E', ' F', ' G', ' H', ' I', ' J', ' K', ' L', ' M', ' N', ' O', ' P', ' Q', ' R', ' S', ' T', ' U', ' V', ' W', ' X', ' Y', ' Z', '  ']\n"
     ]
    }
   ],
   "source": [
    "newcand = []\n",
    "for x in allcand:\n",
    "    for c in charlist:\n",
    "        newcand.append(''.join(x+c))\n",
    "allcand = newcand\n",
    "print(allcand)\n",
    "#print(newcand[:20])\n",
    "#print(newcand[100:120])\n",
    "#print(newcand[-20:])"
   ]
  },
  {
   "cell_type": "markdown",
   "metadata": {},
   "source": [
    "We repeat the same thing for the position..."
   ]
  },
  {
   "cell_type": "code",
   "execution_count": 11,
   "metadata": {},
   "outputs": [
    {
     "name": "stdout",
     "output_type": "stream",
     "text": [
      "['AAA', 'AAB', 'AAC', 'AAD', 'AAE', 'AAF', 'AAG', 'AAH', 'AAI', 'AAJ', 'AAK', 'AAL', 'AAM', 'AAN', 'AAO']\n",
      "['ADT', 'ADU', 'ADV', 'ADW', 'ADX', 'ADY', 'ADZ', 'AD ', 'AEA', 'AEB', 'AEC', 'AED', 'AEE', 'AEF', 'AEG']\n",
      "...\n",
      "['  M', '  N', '  O', '  P', '  Q', '  R', '  S', '  T', '  U', '  V', '  W', '  X', '  Y', '  Z', '   ']\n"
     ]
    }
   ],
   "source": [
    "newcand = []\n",
    "for x in allcand:\n",
    "    for c in charlist:\n",
    "        newcand.append(''.join(x+c))\n",
    "allcand = newcand\n",
    "#print(allcand)\n",
    "print(newcand[:15])\n",
    "print(newcand[100:115])\n",
    "print(\"...\")\n",
    "print(newcand[-15:])"
   ]
  },
  {
   "cell_type": "markdown",
   "metadata": {},
   "source": [
    "You now see that we need to apply this code as many times as positions wanted"
   ]
  },
  {
   "cell_type": "code",
   "execution_count": 12,
   "metadata": {},
   "outputs": [
    {
     "name": "stdout",
     "output_type": "stream",
     "text": [
      "['AAAAA', 'AAAAB', 'AAAAC', 'AAAAD', 'AAAAE', 'AAAAF', 'AAAAG', 'AAAAH', 'AAAAI', 'AAAAJ', 'AAAAK', 'AAAAL', 'AAAAM', 'AAAAN', 'AAAAO']\n",
      "['AAADT', 'AAADU', 'AAADV', 'AAADW', 'AAADX', 'AAADY', 'AAADZ', 'AAAD ', 'AAAEA', 'AAAEB', 'AAAEC', 'AAAED', 'AAAEE', 'AAAEF', 'AAAEG']\n",
      "...\n",
      "['    M', '    N', '    O', '    P', '    Q', '    R', '    S', '    T', '    U', '    V', '    W', '    X', '    Y', '    Z', '     ']\n",
      "Total number of combinations: 14348907\n"
     ]
    }
   ],
   "source": [
    "#Number of positions (character length of the target)\n",
    "Npos = 5\n",
    "\n",
    "# Manually do the first position\n",
    "allcand = charlist\n",
    "\n",
    "# We iterate over Npos-1 because we already did manually 1st level \n",
    "for i in range(Npos-1):\n",
    "    newcand = []\n",
    "    for x in allcand:\n",
    "        for c in charlist:\n",
    "            newcand.append(''.join(x+c))\n",
    "    allcand = newcand\n",
    "\n",
    "print(allcand[:15])\n",
    "print(allcand[100:115])\n",
    "print(\"...\")\n",
    "print(allcand[-15:])\n",
    "print(\"Total number of combinations: \"+ str(len(allcand)))"
   ]
  },
  {
   "cell_type": "markdown",
   "metadata": {},
   "source": [
    "We now check the letters for each one."
   ]
  },
  {
   "cell_type": "code",
   "execution_count": 13,
   "metadata": {},
   "outputs": [
    {
     "name": "stdout",
     "output_type": "stream",
     "text": [
      "[('AAAAA', 0), ('AAAAB', 0), ('AAAAC', 0), ('AAAAD', 0), ('AAAAE', 1), ('AAAAF', 0), ('AAAAG', 0), ('AAAAH', 0), ('AAAAI', 0), ('AAAAJ', 0)]\n",
      "[('AAADT', 0), ('AAADU', 0), ('AAADV', 0), ('AAADW', 0), ('AAADX', 0), ('AAADY', 0), ('AAADZ', 0), ('AAAD ', 0), ('AAAEA', 0), ('AAAEB', 0)]\n",
      "...\n",
      "[('    R', 1), ('    S', 1), ('    T', 1), ('    U', 1), ('    V', 1), ('    W', 1), ('    X', 1), ('    Y', 1), ('    Z', 1), ('     ', 1)]\n"
     ]
    }
   ],
   "source": [
    "scores = [check(x,targetshort) for x in allcand]\n",
    "# Put candidates and scores side by side\n",
    "both = list(zip(allcand,scores))\n",
    "print(both[:10])\n",
    "print(both[100:110])\n",
    "print(\"...\")\n",
    "print(both[-10:])"
   ]
  },
  {
   "cell_type": "markdown",
   "metadata": {},
   "source": [
    "And put everything in a data frame."
   ]
  },
  {
   "cell_type": "code",
   "execution_count": 14,
   "metadata": {},
   "outputs": [
    {
     "data": {
      "text/html": [
       "<div>\n",
       "<style scoped>\n",
       "    .dataframe tbody tr th:only-of-type {\n",
       "        vertical-align: middle;\n",
       "    }\n",
       "\n",
       "    .dataframe tbody tr th {\n",
       "        vertical-align: top;\n",
       "    }\n",
       "\n",
       "    .dataframe thead th {\n",
       "        text-align: right;\n",
       "    }\n",
       "</style>\n",
       "<table border=\"1\" class=\"dataframe\">\n",
       "  <thead>\n",
       "    <tr style=\"text-align: right;\">\n",
       "      <th></th>\n",
       "      <th>Candidate</th>\n",
       "      <th>Score</th>\n",
       "    </tr>\n",
       "  </thead>\n",
       "  <tbody>\n",
       "    <tr>\n",
       "      <th>10391926</th>\n",
       "      <td>TO BE</td>\n",
       "      <td>5</td>\n",
       "    </tr>\n",
       "    <tr>\n",
       "      <th>10293511</th>\n",
       "      <td>TJ BE</td>\n",
       "      <td>4</td>\n",
       "    </tr>\n",
       "    <tr>\n",
       "      <th>10391925</th>\n",
       "      <td>TO BD</td>\n",
       "      <td>4</td>\n",
       "    </tr>\n",
       "    <tr>\n",
       "      <th>10391924</th>\n",
       "      <td>TO BC</td>\n",
       "      <td>4</td>\n",
       "    </tr>\n",
       "    <tr>\n",
       "      <th>3483193</th>\n",
       "      <td>GO BE</td>\n",
       "      <td>4</td>\n",
       "    </tr>\n",
       "    <tr>\n",
       "      <th>10234462</th>\n",
       "      <td>TG BE</td>\n",
       "      <td>4</td>\n",
       "    </tr>\n",
       "    <tr>\n",
       "      <th>10392223</th>\n",
       "      <td>TO ME</td>\n",
       "      <td>4</td>\n",
       "    </tr>\n",
       "    <tr>\n",
       "      <th>10392115</th>\n",
       "      <td>TO IE</td>\n",
       "      <td>4</td>\n",
       "    </tr>\n",
       "    <tr>\n",
       "      <th>12517690</th>\n",
       "      <td>XO BE</td>\n",
       "      <td>4</td>\n",
       "    </tr>\n",
       "    <tr>\n",
       "      <th>14112013</th>\n",
       "      <td>O BE</td>\n",
       "      <td>4</td>\n",
       "    </tr>\n",
       "  </tbody>\n",
       "</table>\n",
       "</div>"
      ],
      "text/plain": [
       "         Candidate  Score\n",
       "10391926     TO BE      5\n",
       "10293511     TJ BE      4\n",
       "10391925     TO BD      4\n",
       "10391924     TO BC      4\n",
       "3483193      GO BE      4\n",
       "10234462     TG BE      4\n",
       "10392223     TO ME      4\n",
       "10392115     TO IE      4\n",
       "12517690     XO BE      4\n",
       "14112013      O BE      4"
      ]
     },
     "execution_count": 14,
     "metadata": {},
     "output_type": "execute_result"
    }
   ],
   "source": [
    "import pandas as pd\n",
    "\n",
    "df = pd.DataFrame(zip(allcand,scores), columns=[\"Candidate\", \"Score\"])\n",
    "df.sort_values(by=\"Score\", inplace=True, ascending=False)\n",
    "df.head(10)"
   ]
  },
  {
   "cell_type": "markdown",
   "metadata": {},
   "source": [
    "## Depth-first search\n",
    "---"
   ]
  },
  {
   "cell_type": "markdown",
   "metadata": {},
   "source": [
    "For depth first search we will not build the string position by position, but rather use the `product()` function and check after each combination."
   ]
  },
  {
   "cell_type": "code",
   "execution_count": 15,
   "metadata": {},
   "outputs": [
    {
     "data": {
      "text/plain": [
       "[('A', 'A', 'A', 'A', 'A'),\n",
       " ('A', 'A', 'A', 'A', 'B'),\n",
       " ('A', 'A', 'A', 'A', 'C'),\n",
       " ('A', 'A', 'A', 'A', 'D'),\n",
       " ('A', 'A', 'A', 'A', 'E'),\n",
       " ('A', 'A', 'A', 'A', 'F'),\n",
       " ('A', 'A', 'A', 'A', 'G'),\n",
       " ('A', 'A', 'A', 'A', 'H'),\n",
       " ('A', 'A', 'A', 'A', 'I'),\n",
       " ('A', 'A', 'A', 'A', 'J')]"
      ]
     },
     "execution_count": 15,
     "metadata": {},
     "output_type": "execute_result"
    }
   ],
   "source": [
    "import itertools\n",
    "\n",
    "list(itertools.product(charlist, repeat=5))[:10]"
   ]
  },
  {
   "cell_type": "markdown",
   "metadata": {},
   "source": [
    "This allows to stop the algorithm when the score is 5."
   ]
  },
  {
   "cell_type": "code",
   "execution_count": 16,
   "metadata": {},
   "outputs": [
    {
     "name": "stdout",
     "output_type": "stream",
     "text": [
      "[10391927, 'TO BE', 5]\n"
     ]
    }
   ],
   "source": [
    "max_score = 5\n",
    "i = 0\n",
    "for comb in itertools.product(charlist, repeat=5):\n",
    "    i += 1\n",
    "    candidate = ''.join(comb)\n",
    "    score = check(candidate,targetshort)\n",
    "    if score == max_score:\n",
    "        break\n",
    "        \n",
    "print([i,candidate,score])"
   ]
  },
  {
   "cell_type": "markdown",
   "metadata": {},
   "source": [
    "## Greedy search\n",
    "---\n",
    "\n",
    "We follow the same apporach than breadth-first search, but before ending each loop we only keep one candidate in the `allcand` list. The one with highest score. "
   ]
  },
  {
   "cell_type": "code",
   "execution_count": 17,
   "metadata": {},
   "outputs": [
    {
     "name": "stdout",
     "output_type": "stream",
     "text": [
      "['A', 'B', 'C', 'D', 'E', 'F', 'G', 'H', 'I', 'J', 'K', 'L', 'M', 'N', 'O', 'P', 'Q', 'R', 'S', 'T', 'U', 'V', 'W', 'X', 'Y', 'Z', ' ']\n",
      "[0, 0, 0, 0, 0, 0, 0, 0, 0, 0, 0, 0, 0, 0, 0, 0, 0, 0, 0, 1, 0, 0, 0, 0, 0, 0, 0]\n",
      "['T']\n",
      "['TO']\n",
      "['TO ']\n",
      "['TO B']\n",
      "['TO BE']\n",
      "['TO BE ']\n",
      "['TO BE O']\n",
      "['TO BE OR']\n",
      "['TO BE OR ']\n",
      "['TO BE OR N']\n",
      "['TO BE OR NO']\n",
      "['TO BE OR NOT']\n",
      "['TO BE OR NOT ']\n",
      "['TO BE OR NOT T']\n",
      "['TO BE OR NOT TO']\n",
      "['TO BE OR NOT TO ']\n",
      "['TO BE OR NOT TO B']\n",
      "['TO BE OR NOT TO BE']\n"
     ]
    }
   ],
   "source": [
    "# Number of target positions (character length)\n",
    "Npos = 18\n",
    "\n",
    "# Manually do the first position\n",
    "allcand = charlist\n",
    "print(allcand)\n",
    "# Check scores with target of equivalent length\n",
    "scores = [check(x,target[:len(x)]) for x in allcand]\n",
    "print(scores)\n",
    "# Find the index with max score\n",
    "maxidx = np.argmax(scores)\n",
    "# New allcand is only a list of one element of max score\n",
    "allcand = [allcand[maxidx]]\n",
    "print(allcand)\n",
    "\n",
    "for i in range(Npos-1):\n",
    "    newcand = []\n",
    "    for x in allcand:\n",
    "        for c in charlist:\n",
    "            newcand.append(''.join(x+c))\n",
    "    allcand = newcand\n",
    "    # Check scores with target of equivalent length\n",
    "    scores = [check(x,target[:len(x)]) for x in allcand]\n",
    "    # Find the index with max score\n",
    "    maxidx = np.argmax(scores)\n",
    "    # New allcand is only a list of one element of max score\n",
    "    allcand = [allcand[maxidx]]\n",
    "    print(allcand)"
   ]
  },
  {
   "cell_type": "markdown",
   "metadata": {},
   "source": [
    "## Hill Climbing\n",
    "---\n",
    "\n",
    "For this algorithm we need to first create a function that mutates a string of characters."
   ]
  },
  {
   "cell_type": "code",
   "execution_count": 18,
   "metadata": {},
   "outputs": [
    {
     "data": {
      "text/plain": [
       "'AAAAAEAAAAAA'"
      ]
     },
     "execution_count": 18,
     "metadata": {},
     "output_type": "execute_result"
    }
   ],
   "source": [
    "def mutation(string,values):\n",
    "    \"\"\"\n",
    "    Creates a random mutation in a character string.\n",
    "    \n",
    "    Inputs\n",
    "    ======\n",
    "    string: Character string to mutate\n",
    "    values: List of possible values to be used in the mutation.\n",
    "    \n",
    "    Output\n",
    "    ======\n",
    "    String of characters with the random mutation.\n",
    "    \n",
    "    \"\"\"\n",
    "    newstring = string\n",
    "    \n",
    "    # Select a random index from string\n",
    "    idx = random.randint(0,len(newstring))\n",
    "    \n",
    "    # Select a random value from values\n",
    "    newstring = string[:idx] + random.choices(values)[0] + string[idx + 1:]\n",
    "    \n",
    "    return(newstring)\n",
    "\n",
    "mutant = mutation(\"AAAAAAAAAAAA\",charlist)\n",
    "mutant"
   ]
  },
  {
   "cell_type": "markdown",
   "metadata": {},
   "source": [
    "We now we need to start with a random candidate and generate mutations. We will keep the mutations if they improve the score and discard them otherwise."
   ]
  },
  {
   "cell_type": "code",
   "execution_count": 19,
   "metadata": {},
   "outputs": [
    {
     "name": "stdout",
     "output_type": "stream",
     "text": [
      "1 IZCSWOAGFTVLEYMPXD 0\n",
      "7 IZCSWOAGFTVLETMPXD 1\n",
      "22 IZCSWOAG TVLETMPXD 2\n",
      "43 IZCSWOAR TVLETMPXD 3\n",
      "77 IZCSEOAR TVLETMPXD 4\n",
      "80 IZCSEOAR TVTETMPXD 5\n",
      "165 IOCSEOAR TVTETMPXD 6\n",
      "188 IOCSEOAR TOTETMPXD 7\n",
      "194 TOCSEOAR TOTETMPXD 8\n",
      "243 TOCSEOAR TOTETOPXD 9\n",
      "280 TOCSEOAR TOTETOPBD 10\n",
      "281 TOCSEOAR TOT TOPBD 11\n",
      "310 TO SEOAR TOT TOPBD 12\n",
      "513 TO SEOAR TOT TO BD 13\n",
      "537 TO SEOOR TOT TO BD 14\n",
      "987 TO SEOOR NOT TO BD 15\n",
      "1078 TO SEOOR NOT TO BE 16\n",
      "1409 TO BEOOR NOT TO BE 17\n",
      "2720 TO BE OR NOT TO BE 18\n"
     ]
    }
   ],
   "source": [
    "# Generate the first candidate at random\n",
    "best = ''.join(random.sample(charlist,18))\n",
    "score = check(best,target)\n",
    "i = 1\n",
    "print(i,best,score)\n",
    "\n",
    "maxit = 10000\n",
    "for i in range(maxit):\n",
    "    i += 1\n",
    "    \n",
    "    new = mutation(best,charlist)\n",
    "    newscore = check(new,target)\n",
    "    \n",
    "    # Show some information if the score has increased\n",
    "    if newscore > score:\n",
    "        best = new\n",
    "        score = newscore\n",
    "        print(i,best,score)\n",
    "    \n",
    "    # Stop if the score reaches the maximum\n",
    "    if score >= len(target):\n",
    "        break"
   ]
  },
  {
   "cell_type": "markdown",
   "metadata": {},
   "source": [
    "## Genetic Algorithm\n",
    "---\n",
    "\n",
    "We start by creating a function that generates a set of candidates, rather than just one, with their corresponding scores."
   ]
  },
  {
   "cell_type": "code",
   "execution_count": 20,
   "metadata": {},
   "outputs": [
    {
     "name": "stdout",
     "output_type": "stream",
     "text": [
      "[('DMSGIJ QWLYXTOUNVH', 0), ('EIBSUNYRQZF TGCWKD', 1), ('CBQAMJUH NGZKYDFEV', 2), ('OPT ZDGYHNXBIFMRCQ', 1), ('EQMPZBHLCDXIWUYKTV', 0), ('GXQL BTDNICZPUVYOW', 0), ('EONADQGJIUXWVLY MS', 2), ('GAL SWHCMOENFPVBKU', 0), ('MKARS ZTWNEVIFBDLY', 2), ('CPKBUQD ZHGRYJTIOL', 1)]\n"
     ]
    }
   ],
   "source": [
    "def new_pop(Npop, values):\n",
    "    \"\"\"\n",
    "    Creates a new population.\n",
    "    \"\"\"\n",
    "    pop=[]\n",
    "    for i in range(Npop):\n",
    "        new = ''.join(random.sample(charlist,18))\n",
    "        pop.append(new)\n",
    "    return(pop)\n",
    "\n",
    "Npop = 10\n",
    "# Create new population\n",
    "pop = new_pop(Npop,charlist)\n",
    "# Check the scores\n",
    "scores = [check(x,target) for x in pop]\n",
    "print(list(zip(pop,scores)))"
   ]
  },
  {
   "cell_type": "markdown",
   "metadata": {},
   "source": [
    "We now create a `selection()` function that selects two parents with a probability that is proportional to the score."
   ]
  },
  {
   "cell_type": "code",
   "execution_count": 21,
   "metadata": {},
   "outputs": [
    {
     "name": "stdout",
     "output_type": "stream",
     "text": [
      "1st selected organism: DMSGIJ QWLYXTOUNVH\n",
      "2nd selected organism: CBQAMJUH NGZKYDFEV\n"
     ]
    }
   ],
   "source": [
    "def selection(pop, scores):\n",
    "    \"\"\"\n",
    "    Returns two elements from pop with weighted probability.    \n",
    "    \"\"\"\n",
    "    \n",
    "    # Compute weights (we add one to scores first avoid 0 weights)\n",
    "    weights = np.array(scores) + 1\n",
    "    # Normalise weights\n",
    "    weights = weights / weights.sum()\n",
    "    \n",
    "    # Select indices with weight probability\n",
    "    p1ix,p2ix = np.random.choice(np.arange(len(weights)), size=2, p=weights, replace=False)\n",
    "\n",
    "    parent1 = pop[p1ix]\n",
    "    parent2 = pop[p2ix]\n",
    "    \n",
    "    return(parent1, parent2)\n",
    "\n",
    "p1,p2 = selection(pop,scores)\n",
    "print(\"1st selected organism: \" + p1)\n",
    "print(\"2nd selected organism: \" + p2)"
   ]
  },
  {
   "cell_type": "markdown",
   "metadata": {},
   "source": [
    "We create a function to perform the crossover between these two parents. This function also introductes a mutations to the offsprings with a certain probability `pmut`."
   ]
  },
  {
   "cell_type": "code",
   "execution_count": 22,
   "metadata": {},
   "outputs": [
    {
     "name": "stdout",
     "output_type": "stream",
     "text": [
      "1st offspring: DMSGIJUH NGZKYDFEV\n",
      "2nd offspring: CBQAMJ QWLYXTOUNVH\n"
     ]
    }
   ],
   "source": [
    "def crossover(parent1, parent2, values, pmut=0.1):\n",
    "    \"\"\"\n",
    "    Performs the crossover between two parents.\n",
    "    \n",
    "    Returns two offspring with mutation.\n",
    "    \"\"\"\n",
    "    \n",
    "    # define crossover point (excluding both ends)\n",
    "    cp = np.random.randint(1,len(parent1) - 1)\n",
    "    \n",
    "    # Cut parent1 DNA in halves \n",
    "    dna_11 = parent1[:cp]\n",
    "    dna_12 = parent1[cp:]\n",
    "    \n",
    "    dna_21 = parent2[:cp]\n",
    "    dna_22 = parent2[cp:]\n",
    "    \n",
    "    # merge the pieces of dna\n",
    "    offspring1 = dna_11 + dna_22\n",
    "    offspring2 = dna_21 + dna_12\n",
    "    \n",
    "    # mutate childrens' dna with certain probability\n",
    "    if np.random.uniform(0, 1) < pmut:\n",
    "        child1 = mutation(offspring1,values)\n",
    "\n",
    "    if np.random.uniform(0, 1) < pmut:\n",
    "        child2 = mutation(offspring2,values)\n",
    "    \n",
    "    return(offspring1,offspring2)\n",
    "\n",
    "o1, o2 = crossover(p1, p2, charlist, pmut=0.1)\n",
    "print(\"1st offspring: \" + o1)\n",
    "print(\"2nd offspring: \" + o2)"
   ]
  },
  {
   "cell_type": "markdown",
   "metadata": {},
   "source": [
    "Put everything together in the same piece of code."
   ]
  },
  {
   "cell_type": "code",
   "execution_count": 23,
   "metadata": {},
   "outputs": [
    {
     "name": "stdout",
     "output_type": "stream",
     "text": [
      "NYEQR JCZKFTUXGWBL 3\n",
      "NXWVEQOVHXEM TFPUR 4\n",
      "TI KR JR JUC TDHME 8\n",
      "TO BE NR JUC TWPBL 11\n",
      "TO BE OR NOTUTFOJ  13\n",
      "TO BE OR XOT TUWBW 14\n",
      "TO BE OR NOT TDWBL 15\n",
      "TO BE OR NOT TFWBL 15\n",
      "TO BE OR NOT TWWBL 15\n",
      "TO BE OR NOT TFWBL 15\n",
      "TO BE OR NOT TFPBL 15\n",
      "TO BE OR NOT TFPBL 15\n",
      "TO BE OR NOT TFOBL 15\n",
      "TO BE OR NOT TFWBL 15\n",
      "TO BE OR NOT TUPBL 15\n",
      "TO BE OR NOT TFPBL 15\n",
      "TO BE OR NOT TFWBL 15\n",
      "TO BE OR NOT TFPBL 15\n",
      "TO BE OR NOT TFPBL 15\n",
      "TO BE OR NOT TFPBL 15\n",
      "TO BE OR NOT TFPBL 15\n"
     ]
    }
   ],
   "source": [
    "Ngen = 200 # Number of generations (rounds)\n",
    "Npop = 200 # Number of population (even number)\n",
    "pmut = 0.1 # Probability to mutate\n",
    "\n",
    "# Create new population\n",
    "pop = new_pop(Npop,charlist)\n",
    "# Check the scores\n",
    "scores = [check(x,target) for x in pop]\n",
    "# Print initial status\n",
    "imax = np.argmax(scores) \n",
    "print(pop[imax],scores[imax])\n",
    "\n",
    "for gen in range(Ngen):\n",
    "    newpop = []\n",
    "    # Loop through Npop/2 to get same number of pop\n",
    "    for i in range(int(Npop/2)):\n",
    "        p1,p2 = selection(pop,scores)\n",
    "        o1, o2 = crossover(p1, p2, charlist, pmut=pmut)\n",
    "        newpop.append(o1)\n",
    "        newpop.append(o2)\n",
    "    \n",
    "    pop = newpop\n",
    "    # Recalculate the scores\n",
    "    scores = [check(x,target) for x in pop]\n",
    "    \n",
    "    # Print best candidate every 10 rounds\n",
    "    if gen%10 == 0:\n",
    "        imax = np.argmax(scores) \n",
    "        print(pop[imax],scores[imax])    "
   ]
  },
  {
   "cell_type": "markdown",
   "metadata": {},
   "source": [
    "---\n",
    "<div style=\"text-align: right ;font-size: small; color: gray\"> Notebook by <a href=\"http://mariogutierrezroig.net\">Mario Gutiérrez-Roig</a>, Lecturer in Data Science and Statistics at the University of Essex <a href=\"http://creativecommons.org/licenses/by-sa/4.0/\" rel=\"license\"><img src=\"https://i.creativecommons.org/l/by-sa/4.0/88x31.png\" alt=\"Licencia de Creative Commons\" hspace=\"10\" align=\"right\"></a></div>"
   ]
  }
 ],
 "metadata": {
  "kernelspec": {
   "display_name": "Python 3 (ipykernel)",
   "language": "python",
   "name": "python3"
  },
  "language_info": {
   "codemirror_mode": {
    "name": "ipython",
    "version": 3
   },
   "file_extension": ".py",
   "mimetype": "text/x-python",
   "name": "python",
   "nbconvert_exporter": "python",
   "pygments_lexer": "ipython3",
   "version": "3.8.13"
  }
 },
 "nbformat": 4,
 "nbformat_minor": 4
}
