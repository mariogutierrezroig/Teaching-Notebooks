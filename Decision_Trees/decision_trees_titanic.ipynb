{
 "cells": [
  {
   "cell_type": "markdown",
   "metadata": {},
   "source": [
    "# Decision Trees and Random Forests: The Titanic Disaster\n",
    "\n",
    "On 10th April 1912 RMS Titanic began her maiden voyage across the Atlantic Ocean from Southampton in England to New York City. Just four days into the crossing and 375 miles South of Newfoundland the ship hit an iceberg that tore into its hull. Less than 3 hours later the titanic broke apart and sank. Tragically, the number of lifeboats on deck was insufficient to carry all the passengers on board and over half drowned as the ship sank below the icy surface. A disproportionate number of men were left aboard  because of the \"women and children first\" policy for loading lifeboats. But there may be other passenger features that can also be attributed to the chances of survival. \n",
    "\n",
    "Our task today is to create a machine learning model that will accurately predict who did and who didn't survive the Titanic disaster. We will use the dataset [here](https://moodle.essex.ac.uk/course/view.php?id=15076&section=10). Please download train.csv to your computer. The dataset is taken from the [Kaggle \"Titanic - Machine Learning from Disaster\"](https://www.kaggle.com/c/titanic/overview) competition. If you choose to download the data from the Kaggle website then please download the [train.csv](https://www.kaggle.com/c/titanic/data?select=train.csv) file. We will use the training data to both train and test our algorithms. The test.csv file provided on the website is used to enter the competition (which you are welcome to do!) \n",
    "\n",
    "We will begin by implementing a Decision Trees algorithm and then see if this can be improved using a Random Forest.\n",
    "\n",
    "But first, let's take a look at our data and perform an exploratory data analysis."
   ]
  },
  {
   "cell_type": "markdown",
   "metadata": {},
   "source": [
    "## Load the titanic dataset"
   ]
  },
  {
   "cell_type": "code",
   "execution_count": 1,
   "metadata": {},
   "outputs": [
    {
     "name": "stdout",
     "output_type": "stream",
     "text": [
      "<class 'pandas.core.frame.DataFrame'>\n",
      "RangeIndex: 891 entries, 0 to 890\n",
      "Data columns (total 12 columns):\n",
      " #   Column       Non-Null Count  Dtype  \n",
      "---  ------       --------------  -----  \n",
      " 0   PassengerId  891 non-null    int64  \n",
      " 1   Survived     891 non-null    int64  \n",
      " 2   Pclass       891 non-null    int64  \n",
      " 3   Name         891 non-null    object \n",
      " 4   Sex          891 non-null    object \n",
      " 5   Age          714 non-null    float64\n",
      " 6   SibSp        891 non-null    int64  \n",
      " 7   Parch        891 non-null    int64  \n",
      " 8   Ticket       891 non-null    object \n",
      " 9   Fare         891 non-null    float64\n",
      " 10  Cabin        204 non-null    object \n",
      " 11  Embarked     889 non-null    object \n",
      "dtypes: float64(2), int64(5), object(5)\n",
      "memory usage: 83.7+ KB\n"
     ]
    }
   ],
   "source": [
    "import pandas as pd\n",
    "import numpy as np\n",
    "# Load the training dataset used in the Kaggle \"Titanic - Machine Learning from Disaster\" competition.\n",
    "# This dataset will be used here both for training and testing our algorithms. \n",
    "# The test set on the Kaggle site is used to enter the competition - have a go!\n",
    "path = 'yourpath' # Path to train.csv on your computer\n",
    "titanic = pd.read_csv(path+\"train.csv\")\n",
    "# Print out information about the titanic dataframe\n",
    "titanic.info()"
   ]
  },
  {
   "cell_type": "markdown",
   "metadata": {},
   "source": [
    "The dataset contains 891 observations (i.e. passengers), 11 features and the target variable *Survived*."
   ]
  },
  {
   "cell_type": "markdown",
   "metadata": {},
   "source": [
    "Let's calculate the probability of surviving without using any feature information:"
   ]
  },
  {
   "cell_type": "code",
   "execution_count": 2,
   "metadata": {},
   "outputs": [
    {
     "name": "stdout",
     "output_type": "stream",
     "text": [
      "Probability of surviving is: 0.38\n"
     ]
    }
   ],
   "source": [
    "survive_prob = sum(titanic.Survived) / len(titanic)\n",
    "print('Probability of surviving is:', np.round(survive_prob,2))"
   ]
  },
  {
   "cell_type": "markdown",
   "metadata": {},
   "source": [
    "Thus we could label every passenger *Died* and achieve an accuracy of: "
   ]
  },
  {
   "cell_type": "code",
   "execution_count": 3,
   "metadata": {},
   "outputs": [
    {
     "name": "stdout",
     "output_type": "stream",
     "text": [
      "0.62\n"
     ]
    }
   ],
   "source": [
    "print(round(1-survive_prob,2))"
   ]
  },
  {
   "cell_type": "markdown",
   "metadata": {},
   "source": [
    "This is the accuracy we need to beat!\n",
    "Discuss class imbalance. (mild 20-40%, moderate 1-20%, extreme <1%)"
   ]
  },
  {
   "cell_type": "code",
   "execution_count": 4,
   "metadata": {},
   "outputs": [
    {
     "data": {
      "text/html": [
       "<div>\n",
       "<style scoped>\n",
       "    .dataframe tbody tr th:only-of-type {\n",
       "        vertical-align: middle;\n",
       "    }\n",
       "\n",
       "    .dataframe tbody tr th {\n",
       "        vertical-align: top;\n",
       "    }\n",
       "\n",
       "    .dataframe thead th {\n",
       "        text-align: right;\n",
       "    }\n",
       "</style>\n",
       "<table border=\"1\" class=\"dataframe\">\n",
       "  <thead>\n",
       "    <tr style=\"text-align: right;\">\n",
       "      <th></th>\n",
       "      <th>PassengerId</th>\n",
       "      <th>Survived</th>\n",
       "      <th>Pclass</th>\n",
       "      <th>Name</th>\n",
       "      <th>Sex</th>\n",
       "      <th>Age</th>\n",
       "      <th>SibSp</th>\n",
       "      <th>Parch</th>\n",
       "      <th>Ticket</th>\n",
       "      <th>Fare</th>\n",
       "      <th>Cabin</th>\n",
       "      <th>Embarked</th>\n",
       "    </tr>\n",
       "  </thead>\n",
       "  <tbody>\n",
       "    <tr>\n",
       "      <th>0</th>\n",
       "      <td>1</td>\n",
       "      <td>0</td>\n",
       "      <td>3</td>\n",
       "      <td>Braund, Mr. Owen Harris</td>\n",
       "      <td>male</td>\n",
       "      <td>22.0</td>\n",
       "      <td>1</td>\n",
       "      <td>0</td>\n",
       "      <td>A/5 21171</td>\n",
       "      <td>7.2500</td>\n",
       "      <td>NaN</td>\n",
       "      <td>S</td>\n",
       "    </tr>\n",
       "    <tr>\n",
       "      <th>1</th>\n",
       "      <td>2</td>\n",
       "      <td>1</td>\n",
       "      <td>1</td>\n",
       "      <td>Cumings, Mrs. John Bradley (Florence Briggs Th...</td>\n",
       "      <td>female</td>\n",
       "      <td>38.0</td>\n",
       "      <td>1</td>\n",
       "      <td>0</td>\n",
       "      <td>PC 17599</td>\n",
       "      <td>71.2833</td>\n",
       "      <td>C85</td>\n",
       "      <td>C</td>\n",
       "    </tr>\n",
       "    <tr>\n",
       "      <th>2</th>\n",
       "      <td>3</td>\n",
       "      <td>1</td>\n",
       "      <td>3</td>\n",
       "      <td>Heikkinen, Miss. Laina</td>\n",
       "      <td>female</td>\n",
       "      <td>26.0</td>\n",
       "      <td>0</td>\n",
       "      <td>0</td>\n",
       "      <td>STON/O2. 3101282</td>\n",
       "      <td>7.9250</td>\n",
       "      <td>NaN</td>\n",
       "      <td>S</td>\n",
       "    </tr>\n",
       "    <tr>\n",
       "      <th>3</th>\n",
       "      <td>4</td>\n",
       "      <td>1</td>\n",
       "      <td>1</td>\n",
       "      <td>Futrelle, Mrs. Jacques Heath (Lily May Peel)</td>\n",
       "      <td>female</td>\n",
       "      <td>35.0</td>\n",
       "      <td>1</td>\n",
       "      <td>0</td>\n",
       "      <td>113803</td>\n",
       "      <td>53.1000</td>\n",
       "      <td>C123</td>\n",
       "      <td>S</td>\n",
       "    </tr>\n",
       "    <tr>\n",
       "      <th>4</th>\n",
       "      <td>5</td>\n",
       "      <td>0</td>\n",
       "      <td>3</td>\n",
       "      <td>Allen, Mr. William Henry</td>\n",
       "      <td>male</td>\n",
       "      <td>35.0</td>\n",
       "      <td>0</td>\n",
       "      <td>0</td>\n",
       "      <td>373450</td>\n",
       "      <td>8.0500</td>\n",
       "      <td>NaN</td>\n",
       "      <td>S</td>\n",
       "    </tr>\n",
       "    <tr>\n",
       "      <th>5</th>\n",
       "      <td>6</td>\n",
       "      <td>0</td>\n",
       "      <td>3</td>\n",
       "      <td>Moran, Mr. James</td>\n",
       "      <td>male</td>\n",
       "      <td>NaN</td>\n",
       "      <td>0</td>\n",
       "      <td>0</td>\n",
       "      <td>330877</td>\n",
       "      <td>8.4583</td>\n",
       "      <td>NaN</td>\n",
       "      <td>Q</td>\n",
       "    </tr>\n",
       "    <tr>\n",
       "      <th>6</th>\n",
       "      <td>7</td>\n",
       "      <td>0</td>\n",
       "      <td>1</td>\n",
       "      <td>McCarthy, Mr. Timothy J</td>\n",
       "      <td>male</td>\n",
       "      <td>54.0</td>\n",
       "      <td>0</td>\n",
       "      <td>0</td>\n",
       "      <td>17463</td>\n",
       "      <td>51.8625</td>\n",
       "      <td>E46</td>\n",
       "      <td>S</td>\n",
       "    </tr>\n",
       "    <tr>\n",
       "      <th>7</th>\n",
       "      <td>8</td>\n",
       "      <td>0</td>\n",
       "      <td>3</td>\n",
       "      <td>Palsson, Master. Gosta Leonard</td>\n",
       "      <td>male</td>\n",
       "      <td>2.0</td>\n",
       "      <td>3</td>\n",
       "      <td>1</td>\n",
       "      <td>349909</td>\n",
       "      <td>21.0750</td>\n",
       "      <td>NaN</td>\n",
       "      <td>S</td>\n",
       "    </tr>\n",
       "    <tr>\n",
       "      <th>8</th>\n",
       "      <td>9</td>\n",
       "      <td>1</td>\n",
       "      <td>3</td>\n",
       "      <td>Johnson, Mrs. Oscar W (Elisabeth Vilhelmina Berg)</td>\n",
       "      <td>female</td>\n",
       "      <td>27.0</td>\n",
       "      <td>0</td>\n",
       "      <td>2</td>\n",
       "      <td>347742</td>\n",
       "      <td>11.1333</td>\n",
       "      <td>NaN</td>\n",
       "      <td>S</td>\n",
       "    </tr>\n",
       "    <tr>\n",
       "      <th>9</th>\n",
       "      <td>10</td>\n",
       "      <td>1</td>\n",
       "      <td>2</td>\n",
       "      <td>Nasser, Mrs. Nicholas (Adele Achem)</td>\n",
       "      <td>female</td>\n",
       "      <td>14.0</td>\n",
       "      <td>1</td>\n",
       "      <td>0</td>\n",
       "      <td>237736</td>\n",
       "      <td>30.0708</td>\n",
       "      <td>NaN</td>\n",
       "      <td>C</td>\n",
       "    </tr>\n",
       "  </tbody>\n",
       "</table>\n",
       "</div>"
      ],
      "text/plain": [
       "   PassengerId  Survived  Pclass  \\\n",
       "0            1         0       3   \n",
       "1            2         1       1   \n",
       "2            3         1       3   \n",
       "3            4         1       1   \n",
       "4            5         0       3   \n",
       "5            6         0       3   \n",
       "6            7         0       1   \n",
       "7            8         0       3   \n",
       "8            9         1       3   \n",
       "9           10         1       2   \n",
       "\n",
       "                                                Name     Sex   Age  SibSp  \\\n",
       "0                            Braund, Mr. Owen Harris    male  22.0      1   \n",
       "1  Cumings, Mrs. John Bradley (Florence Briggs Th...  female  38.0      1   \n",
       "2                             Heikkinen, Miss. Laina  female  26.0      0   \n",
       "3       Futrelle, Mrs. Jacques Heath (Lily May Peel)  female  35.0      1   \n",
       "4                           Allen, Mr. William Henry    male  35.0      0   \n",
       "5                                   Moran, Mr. James    male   NaN      0   \n",
       "6                            McCarthy, Mr. Timothy J    male  54.0      0   \n",
       "7                     Palsson, Master. Gosta Leonard    male   2.0      3   \n",
       "8  Johnson, Mrs. Oscar W (Elisabeth Vilhelmina Berg)  female  27.0      0   \n",
       "9                Nasser, Mrs. Nicholas (Adele Achem)  female  14.0      1   \n",
       "\n",
       "   Parch            Ticket     Fare Cabin Embarked  \n",
       "0      0         A/5 21171   7.2500   NaN        S  \n",
       "1      0          PC 17599  71.2833   C85        C  \n",
       "2      0  STON/O2. 3101282   7.9250   NaN        S  \n",
       "3      0            113803  53.1000  C123        S  \n",
       "4      0            373450   8.0500   NaN        S  \n",
       "5      0            330877   8.4583   NaN        Q  \n",
       "6      0             17463  51.8625   E46        S  \n",
       "7      1            349909  21.0750   NaN        S  \n",
       "8      2            347742  11.1333   NaN        S  \n",
       "9      0            237736  30.0708   NaN        C  "
      ]
     },
     "execution_count": 4,
     "metadata": {},
     "output_type": "execute_result"
    }
   ],
   "source": [
    "# Look at the first 10 rows of the dataframe\n",
    "titanic.head(10)"
   ]
  },
  {
   "cell_type": "markdown",
   "metadata": {},
   "source": [
    "The dataframe is displayed in a tidy format with observations in rows and with features and the target variable in columns. The features are as follows:\n",
    "\n",
    "*Passengerid*: Passenger ID\n",
    "\n",
    "*Survived*: Survival (0 = 'Died', 1 = 'Survived')\n",
    "\n",
    "*Pclass*: Ticket class (1 = 1st, 2 = 2nd, 3 = 3rd)\n",
    "\n",
    "*Name*: Passenger name, including title.\n",
    "\n",
    "*Sex*: Gender ('male' or 'female')\n",
    "\n",
    "*Age*: Passenger age in years\n",
    "\n",
    "*SibSp*: Number of siblings/spouse on board\n",
    "\n",
    "*Parch*: Number of parents/children on board\n",
    "\n",
    "*Ticket*: Ticket number\n",
    "\n",
    "*Fare*: Passenger ticket fare\n",
    "\n",
    "*Cabin*: Cabin numbers (NaN if no cabin; letter denotes the deck)\n",
    "\n",
    "*Embarked*: Embarkation port ('S' = Southampton, 'C' = Cherbourg, 'Q' = Queenstown)\n",
    "\n",
    "We assume that the variable *Passengerid* is randomly assigned and contains no information about whether or not a passenger survived. Similarly for *Ticket*.\n",
    "\n",
    "The attribute *Pclass* is an indicator of socio-economic status and is likely to be correlated with *Fare*. Other passenger features may also be correlated with each other.\n",
    "\n",
    "We can print out the information given above from the dataframe using, for example, the following commands:"
   ]
  },
  {
   "cell_type": "code",
   "execution_count": 5,
   "metadata": {},
   "outputs": [
    {
     "name": "stdout",
     "output_type": "stream",
     "text": [
      "Embarked categories are: ['S' 'C' 'Q' nan]\n",
      "Pclass categories are: [3 1 2]\n"
     ]
    }
   ],
   "source": [
    "# \"Embarked\" categories\n",
    "print('Embarked categories are:', titanic.Embarked.unique())\n",
    "# \"Pclass\" categories\n",
    "print('Pclass categories are:', titanic.Pclass.unique())"
   ]
  },
  {
   "cell_type": "markdown",
   "metadata": {},
   "source": [
    "## Exploratory Data Analysis (EDA)\n",
    "\n",
    "It is useful before building any machine learning model to perform an EDA on the dataset. This enables us to get to know the data, remove any irrelevant or redundant features and see where [\"Feature Engineering\"](https://en.wikipedia.org/wiki/Feature_engineering) may be helpful.\n",
    "\n",
    "(Notes: \n",
    "Feature extraction, PCA etc. \n",
    "Feature crosses - sythetic features - show example of feature cross from Google Developers on a zoom whiteboard) \n",
    "\n",
    "\n",
    "Let's start by seeing if the \"women and child first\" policy is apparent in the data.\n",
    "\n",
    "We can plot the number of male and female passengers on board using a bar chart, splitting by 'Survived' and 'Died':"
   ]
  },
  {
   "cell_type": "code",
   "execution_count": 6,
   "metadata": {
    "scrolled": true
   },
   "outputs": [
    {
     "data": {
      "image/png": "[encoded data removed]",
      "text/plain": [
       "<Figure size 432x288 with 1 Axes>"
      ]
     },
     "metadata": {
      "needs_background": "light"
     },
     "output_type": "display_data"
    }
   ],
   "source": [
    "import matplotlib.pyplot as plt\n",
    "# Plot a bar chart showing the number who survived and died by gender\n",
    "labels_Sex = ['male', 'female'] \n",
    "# Survived by gender\n",
    "male_survived = sum(titanic.loc[titanic['Sex']=='male'].Survived) # Sum 'Survived' variable for rows where 'Sex'='male'\n",
    "female_survived = sum(titanic.loc[titanic['Sex']=='female'].Survived) # Sum 'Survived' variable for rows where 'Sex'='female'\n",
    "Sex_survived = [male_survived, female_survived]\n",
    "# Died by gender\n",
    "total_males = len(titanic.loc[titanic['Sex']=='male'].Survived) # Number of males on board (try changing 'Survived' to a different variable - this should work too!)\n",
    "total_females = len(titanic.loc[titanic['Sex']=='female'].Survived) # Number of females on board \n",
    "male_died = total_males - male_survived \n",
    "female_died = total_females - female_survived\n",
    "Sex_died = [male_died, female_died]\n",
    "\n",
    "# Make the plot\n",
    "fig, ax = plt.subplots(1,1)\n",
    "width = 0.3\n",
    "ax.bar(labels_Sex, Sex_survived, width, label='Survived',color='tab:blue')\n",
    "ax.bar(labels_Sex, Sex_died, width, bottom=Sex_survived,label='Died',color='orange')\n",
    "ax.set_xlabel('Sex')\n",
    "ax.set_ylabel('Passengers')\n",
    "ax.set_title('Passengers by Sex and Survival')\n",
    "ax.legend()\n",
    "plt.show()"
   ]
  },
  {
   "cell_type": "markdown",
   "metadata": {},
   "source": [
    "We can see that there were many more male than female passengers on board the Titanic and that the proportion of women who survived was far greater than for men. We can calculate the percentages:"
   ]
  },
  {
   "cell_type": "code",
   "execution_count": 7,
   "metadata": {},
   "outputs": [
    {
     "name": "stdout",
     "output_type": "stream",
     "text": [
      "Proportion of male passengers who survived: 18.9 %\n",
      "Proportion of female passengers who survived: 74.2 %\n"
     ]
    }
   ],
   "source": [
    "# Print out the number of male (female) passengers who survived as a percentage of the total nummber of \n",
    "# males (females) on board\n",
    "print('Proportion of male passengers who survived:',round(male_survived*100/(male_survived+male_died),1),'%')\n",
    "print('Proportion of female passengers who survived:',round(female_survived*100/(female_survived+female_died),1),'%')"
   ]
  },
  {
   "cell_type": "markdown",
   "metadata": {},
   "source": [
    "Now we can look at the effect of age by plotting histograms of the age distributions for the two target classes 'Survived' and 'Died':"
   ]
  },
  {
   "cell_type": "code",
   "execution_count": 8,
   "metadata": {},
   "outputs": [
    {
     "data": {
      "image/png": "[encoded data removed]",
      "text/plain": [
       "<Figure size 432x288 with 2 Axes>"
      ]
     },
     "metadata": {
      "needs_background": "light"
     },
     "output_type": "display_data"
    }
   ],
   "source": [
    "fig, (ax1, ax2) = plt.subplots(1, 2)\n",
    "ax1.hist(titanic.loc[titanic['Survived']==1].Age,color='tab:blue')\n",
    "ax1.set_xlabel('Age')\n",
    "ax1.set_ylabel('Passengers')\n",
    "ax1.set_title('Survived')\n",
    "ax2.hist(titanic.loc[titanic['Survived']==0].Age,color='orange')\n",
    "ax2.set_xlabel('Age')\n",
    "ax2.set_title('Died')\n",
    "# Set the axis limits to be the same for both both plots\n",
    "xlimits = [min(titanic.Age), max(titanic.Age)]\n",
    "ylimits = [0, 120]\n",
    "ax1.set_xlim(xlimits)\n",
    "ax1.set_ylim(ylimits)\n",
    "ax2.set_xlim(xlimits)\n",
    "ax2.set_ylim(ylimits)\n",
    "plt.show()"
   ]
  },
  {
   "cell_type": "markdown",
   "metadata": {},
   "source": [
    "To see the effect of age more clearly we can plot the histograms overlaid on each other:"
   ]
  },
  {
   "cell_type": "code",
   "execution_count": 9,
   "metadata": {},
   "outputs": [
    {
     "data": {
      "image/png": "[encoded data removed]",
      "text/plain": [
       "<Figure size 432x288 with 1 Axes>"
      ]
     },
     "metadata": {
      "needs_background": "light"
     },
     "output_type": "display_data"
    }
   ],
   "source": [
    "# Use the same bins for both plots\n",
    "bins_age = [0,10,20,30,40,50,60,70,80]\n",
    "\n",
    "fig, ax = plt.subplots(1, 1)\n",
    "ax.hist(titanic.loc[titanic['Survived']==0].Age,bins=bins_age,color='orange',label='Died')\n",
    "ax.hist(titanic.loc[titanic['Survived']==1].Age,bins=bins_age,facecolor='none',edgecolor='tab:blue',linewidth=2,label='Survived')\n",
    "ax.set_xlabel('Age')\n",
    "ax.set_ylabel('Passengers')\n",
    "ax.legend()\n",
    "plt.show()"
   ]
  },
  {
   "cell_type": "markdown",
   "metadata": {},
   "source": [
    "The plot above shows that the 0-10 years age group is the only group for which more passengers survived than died, consistent with the \"women and child first\" policy. Passengers in the 20-30 years age group had the lowest chance of survival. "
   ]
  },
  {
   "cell_type": "markdown",
   "metadata": {},
   "source": [
    "<div class=\"alert alert-block alert-info\"><b>Exercise 1:</b><br> \n",
    "    \n",
    "It is rumoured that passengers in third class were kept behind locked gates below deck and prevented from boarding lifeboats. Although this conjecture is generally considered to be false, it seems likely there was some direct effect of socio-economic status on the chances of survival. Plot bar charts depicting how *Pclass* and *Embarked* (categorical variables) relate to survival, as was done for gender. "
   ]
  },
  {
   "cell_type": "code",
   "execution_count": null,
   "metadata": {},
   "outputs": [],
   "source": [
    "### Exercise 1: Solution ###\n",
    "\n"
   ]
  },
  {
   "cell_type": "markdown",
   "metadata": {},
   "source": [
    "<div class=\"alert alert-block alert-info\"><b>Exercise 2:</b><br> \n",
    "    \n",
    "Show the correlation between *Fare* (a continuous variable) and *Survival* using a histogram plot similar to the one used for *Age*. "
   ]
  },
  {
   "cell_type": "code",
   "execution_count": null,
   "metadata": {},
   "outputs": [],
   "source": [
    "### Exercise 2: Solution ###\n",
    "\n"
   ]
  },
  {
   "cell_type": "markdown",
   "metadata": {},
   "source": [
    "Lastly, let's have a look at the effect of travelling with family members on survival. Were passengers more likely to survive if they had parents or children on board? Did more passengers survive if they were travelling with a spouse or siblings?"
   ]
  },
  {
   "cell_type": "code",
   "execution_count": 14,
   "metadata": {},
   "outputs": [
    {
     "data": {
      "image/png": "[encoded data removed]",
      "text/plain": [
       "<Figure size 432x288 with 2 Axes>"
      ]
     },
     "metadata": {
      "needs_background": "light"
     },
     "output_type": "display_data"
    }
   ],
   "source": [
    "# Look at Parch and SibSp\n",
    "#print(titanic.SibSp.value_counts())\n",
    "#print(titanic.Parch.value_counts())\n",
    "\n",
    "# SibSp\n",
    "unique_SibSp = sorted(titanic.SibSp.unique()) # Sorts into ascending order\n",
    "#print(unique_SibSp)\n",
    "SibSp_survived = [] # List for number who survived for each Sibsp\n",
    "SibSp_died = [] # List for number who died for each Sibsp\n",
    "for SibSp in unique_SibSp:\n",
    "    tmp_survived = sum(titanic.loc[titanic['SibSp']==SibSp].Survived) # Write over number who survived\n",
    "    SibSp_survived.append(tmp_survived)\n",
    "    tmp_died = len(titanic.loc[titanic['SibSp']==SibSp].Survived)- tmp_survived\n",
    "    SibSp_died.append(tmp_died)\n",
    "labels_SibSp = [str(x) for x in unique_SibSp] # Convert each value in SibSp to a string for plot labels\n",
    "\n",
    "# Parch\n",
    "unique_Parch = sorted(titanic.Parch.unique())\n",
    "Parch_survived = [] # List for number who survived for each Parch\n",
    "Parch_died = [] # List for number who died for each Parch\n",
    "for Parch in unique_Parch:\n",
    "    tmp_survived = sum(titanic.loc[titanic['Parch']==Parch].Survived) # Write over number who survived\n",
    "    Parch_survived.append(tmp_survived)\n",
    "    tmp_died = len(titanic.loc[titanic['Parch']==Parch].Survived)- tmp_survived\n",
    "    Parch_died.append(tmp_died)\n",
    "labels_Parch = [str(x) for x in unique_Parch]\n",
    "\n",
    "# Make the plots\n",
    "fig, (ax1, ax2) = plt.subplots(1,2)\n",
    "width = 0.5\n",
    "\n",
    "# SibSp\n",
    "ax1.bar(labels_SibSp, SibSp_survived, width, label='Survived',color='tab:blue')\n",
    "ax1.bar(labels_SibSp, SibSp_died, width, bottom=SibSp_survived,label='Died',color='orange')\n",
    "ax1.set_xlabel('SibSp')\n",
    "ax1.set_ylabel('Passengers')\n",
    "\n",
    "# Parch\n",
    "ax2.bar(labels_Parch, Parch_survived, width, label='Survived',color='tab:blue')\n",
    "ax2.bar(labels_Parch, Parch_died, width, bottom=Parch_survived,label='Died',color='orange')\n",
    "ax2.set_xlabel('Parch')\n",
    " \n",
    "\n",
    "plt.show()"
   ]
  },
  {
   "cell_type": "markdown",
   "metadata": {},
   "source": [
    "The chances of survival were less for passengers travelling without any siblings/spouse or without children/parents. How does the picture look if we add these variables together to make an engineered feature *Family*? "
   ]
  },
  {
   "cell_type": "code",
   "execution_count": 15,
   "metadata": {},
   "outputs": [
    {
     "data": {
      "text/html": [
       "<div>\n",
       "<style scoped>\n",
       "    .dataframe tbody tr th:only-of-type {\n",
       "        vertical-align: middle;\n",
       "    }\n",
       "\n",
       "    .dataframe tbody tr th {\n",
       "        vertical-align: top;\n",
       "    }\n",
       "\n",
       "    .dataframe thead th {\n",
       "        text-align: right;\n",
       "    }\n",
       "</style>\n",
       "<table border=\"1\" class=\"dataframe\">\n",
       "  <thead>\n",
       "    <tr style=\"text-align: right;\">\n",
       "      <th></th>\n",
       "      <th>PassengerId</th>\n",
       "      <th>Survived</th>\n",
       "      <th>Pclass</th>\n",
       "      <th>Name</th>\n",
       "      <th>Sex</th>\n",
       "      <th>Age</th>\n",
       "      <th>SibSp</th>\n",
       "      <th>Parch</th>\n",
       "      <th>Ticket</th>\n",
       "      <th>Fare</th>\n",
       "      <th>Cabin</th>\n",
       "      <th>Embarked</th>\n",
       "      <th>Family</th>\n",
       "    </tr>\n",
       "  </thead>\n",
       "  <tbody>\n",
       "    <tr>\n",
       "      <th>0</th>\n",
       "      <td>1</td>\n",
       "      <td>0</td>\n",
       "      <td>3</td>\n",
       "      <td>Braund, Mr. Owen Harris</td>\n",
       "      <td>male</td>\n",
       "      <td>22.0</td>\n",
       "      <td>1</td>\n",
       "      <td>0</td>\n",
       "      <td>A/5 21171</td>\n",
       "      <td>7.2500</td>\n",
       "      <td>NaN</td>\n",
       "      <td>S</td>\n",
       "      <td>1</td>\n",
       "    </tr>\n",
       "    <tr>\n",
       "      <th>1</th>\n",
       "      <td>2</td>\n",
       "      <td>1</td>\n",
       "      <td>1</td>\n",
       "      <td>Cumings, Mrs. John Bradley (Florence Briggs Th...</td>\n",
       "      <td>female</td>\n",
       "      <td>38.0</td>\n",
       "      <td>1</td>\n",
       "      <td>0</td>\n",
       "      <td>PC 17599</td>\n",
       "      <td>71.2833</td>\n",
       "      <td>C85</td>\n",
       "      <td>C</td>\n",
       "      <td>1</td>\n",
       "    </tr>\n",
       "    <tr>\n",
       "      <th>2</th>\n",
       "      <td>3</td>\n",
       "      <td>1</td>\n",
       "      <td>3</td>\n",
       "      <td>Heikkinen, Miss. Laina</td>\n",
       "      <td>female</td>\n",
       "      <td>26.0</td>\n",
       "      <td>0</td>\n",
       "      <td>0</td>\n",
       "      <td>STON/O2. 3101282</td>\n",
       "      <td>7.9250</td>\n",
       "      <td>NaN</td>\n",
       "      <td>S</td>\n",
       "      <td>0</td>\n",
       "    </tr>\n",
       "    <tr>\n",
       "      <th>3</th>\n",
       "      <td>4</td>\n",
       "      <td>1</td>\n",
       "      <td>1</td>\n",
       "      <td>Futrelle, Mrs. Jacques Heath (Lily May Peel)</td>\n",
       "      <td>female</td>\n",
       "      <td>35.0</td>\n",
       "      <td>1</td>\n",
       "      <td>0</td>\n",
       "      <td>113803</td>\n",
       "      <td>53.1000</td>\n",
       "      <td>C123</td>\n",
       "      <td>S</td>\n",
       "      <td>1</td>\n",
       "    </tr>\n",
       "    <tr>\n",
       "      <th>4</th>\n",
       "      <td>5</td>\n",
       "      <td>0</td>\n",
       "      <td>3</td>\n",
       "      <td>Allen, Mr. William Henry</td>\n",
       "      <td>male</td>\n",
       "      <td>35.0</td>\n",
       "      <td>0</td>\n",
       "      <td>0</td>\n",
       "      <td>373450</td>\n",
       "      <td>8.0500</td>\n",
       "      <td>NaN</td>\n",
       "      <td>S</td>\n",
       "      <td>0</td>\n",
       "    </tr>\n",
       "    <tr>\n",
       "      <th>5</th>\n",
       "      <td>6</td>\n",
       "      <td>0</td>\n",
       "      <td>3</td>\n",
       "      <td>Moran, Mr. James</td>\n",
       "      <td>male</td>\n",
       "      <td>NaN</td>\n",
       "      <td>0</td>\n",
       "      <td>0</td>\n",
       "      <td>330877</td>\n",
       "      <td>8.4583</td>\n",
       "      <td>NaN</td>\n",
       "      <td>Q</td>\n",
       "      <td>0</td>\n",
       "    </tr>\n",
       "    <tr>\n",
       "      <th>6</th>\n",
       "      <td>7</td>\n",
       "      <td>0</td>\n",
       "      <td>1</td>\n",
       "      <td>McCarthy, Mr. Timothy J</td>\n",
       "      <td>male</td>\n",
       "      <td>54.0</td>\n",
       "      <td>0</td>\n",
       "      <td>0</td>\n",
       "      <td>17463</td>\n",
       "      <td>51.8625</td>\n",
       "      <td>E46</td>\n",
       "      <td>S</td>\n",
       "      <td>0</td>\n",
       "    </tr>\n",
       "    <tr>\n",
       "      <th>7</th>\n",
       "      <td>8</td>\n",
       "      <td>0</td>\n",
       "      <td>3</td>\n",
       "      <td>Palsson, Master. Gosta Leonard</td>\n",
       "      <td>male</td>\n",
       "      <td>2.0</td>\n",
       "      <td>3</td>\n",
       "      <td>1</td>\n",
       "      <td>349909</td>\n",
       "      <td>21.0750</td>\n",
       "      <td>NaN</td>\n",
       "      <td>S</td>\n",
       "      <td>4</td>\n",
       "    </tr>\n",
       "    <tr>\n",
       "      <th>8</th>\n",
       "      <td>9</td>\n",
       "      <td>1</td>\n",
       "      <td>3</td>\n",
       "      <td>Johnson, Mrs. Oscar W (Elisabeth Vilhelmina Berg)</td>\n",
       "      <td>female</td>\n",
       "      <td>27.0</td>\n",
       "      <td>0</td>\n",
       "      <td>2</td>\n",
       "      <td>347742</td>\n",
       "      <td>11.1333</td>\n",
       "      <td>NaN</td>\n",
       "      <td>S</td>\n",
       "      <td>2</td>\n",
       "    </tr>\n",
       "    <tr>\n",
       "      <th>9</th>\n",
       "      <td>10</td>\n",
       "      <td>1</td>\n",
       "      <td>2</td>\n",
       "      <td>Nasser, Mrs. Nicholas (Adele Achem)</td>\n",
       "      <td>female</td>\n",
       "      <td>14.0</td>\n",
       "      <td>1</td>\n",
       "      <td>0</td>\n",
       "      <td>237736</td>\n",
       "      <td>30.0708</td>\n",
       "      <td>NaN</td>\n",
       "      <td>C</td>\n",
       "      <td>1</td>\n",
       "    </tr>\n",
       "  </tbody>\n",
       "</table>\n",
       "</div>"
      ],
      "text/plain": [
       "   PassengerId  Survived  Pclass  \\\n",
       "0            1         0       3   \n",
       "1            2         1       1   \n",
       "2            3         1       3   \n",
       "3            4         1       1   \n",
       "4            5         0       3   \n",
       "5            6         0       3   \n",
       "6            7         0       1   \n",
       "7            8         0       3   \n",
       "8            9         1       3   \n",
       "9           10         1       2   \n",
       "\n",
       "                                                Name     Sex   Age  SibSp  \\\n",
       "0                            Braund, Mr. Owen Harris    male  22.0      1   \n",
       "1  Cumings, Mrs. John Bradley (Florence Briggs Th...  female  38.0      1   \n",
       "2                             Heikkinen, Miss. Laina  female  26.0      0   \n",
       "3       Futrelle, Mrs. Jacques Heath (Lily May Peel)  female  35.0      1   \n",
       "4                           Allen, Mr. William Henry    male  35.0      0   \n",
       "5                                   Moran, Mr. James    male   NaN      0   \n",
       "6                            McCarthy, Mr. Timothy J    male  54.0      0   \n",
       "7                     Palsson, Master. Gosta Leonard    male   2.0      3   \n",
       "8  Johnson, Mrs. Oscar W (Elisabeth Vilhelmina Berg)  female  27.0      0   \n",
       "9                Nasser, Mrs. Nicholas (Adele Achem)  female  14.0      1   \n",
       "\n",
       "   Parch            Ticket     Fare Cabin Embarked  Family  \n",
       "0      0         A/5 21171   7.2500   NaN        S       1  \n",
       "1      0          PC 17599  71.2833   C85        C       1  \n",
       "2      0  STON/O2. 3101282   7.9250   NaN        S       0  \n",
       "3      0            113803  53.1000  C123        S       1  \n",
       "4      0            373450   8.0500   NaN        S       0  \n",
       "5      0            330877   8.4583   NaN        Q       0  \n",
       "6      0             17463  51.8625   E46        S       0  \n",
       "7      1            349909  21.0750   NaN        S       4  \n",
       "8      2            347742  11.1333   NaN        S       2  \n",
       "9      0            237736  30.0708   NaN        C       1  "
      ]
     },
     "execution_count": 15,
     "metadata": {},
     "output_type": "execute_result"
    }
   ],
   "source": [
    "Family = titanic.Parch + titanic.SibSp\n",
    "titanic['Family'] = Family\n",
    "titanic.head(10)"
   ]
  },
  {
   "cell_type": "code",
   "execution_count": 16,
   "metadata": {},
   "outputs": [
    {
     "data": {
      "image/png": "[encoded data removed]",
      "text/plain": [
       "<Figure size 432x288 with 1 Axes>"
      ]
     },
     "metadata": {
      "needs_background": "light"
     },
     "output_type": "display_data"
    }
   ],
   "source": [
    "# Make a plot by survival for \"Family\"\n",
    "unique_Family = sorted(titanic.Family.unique())\n",
    "Family_survived = [] # List for number who survived for each Family size\n",
    "Family_died = [] # List for number who died for each Family size\n",
    "for Family in unique_Family:\n",
    "    tmp_survived = sum(titanic.loc[titanic['Family']==Family].Survived) # Write over number who survived\n",
    "    Family_survived.append(tmp_survived)\n",
    "    tmp_died = len(titanic.loc[titanic['Family']==Family].Survived)- tmp_survived\n",
    "    Family_died.append(tmp_died)\n",
    "labels_Family = [str(x) for x in unique_Family]\n",
    "\n",
    "# Make the plot\n",
    "fig, ax = plt.subplots(1,1)\n",
    "width = 0.5\n",
    "\n",
    "ax.bar(labels_Family, Family_survived, width, label='Survived',color='tab:blue')\n",
    "ax.bar(labels_Family, Family_died, width, bottom=Family_survived,label='Died',color='orange')\n",
    "ax.set_xlabel('Family')\n",
    "ax.set_ylabel('Passengers')\n",
    "ax.legend()\n",
    "plt.show()"
   ]
  },
  {
   "cell_type": "markdown",
   "metadata": {},
   "source": [
    "We can see that passengers travelling alone were far more likely to die than to survive. Passenegers travelling with 1-3 other family members had a better than even chance of survival, but belonging to a family with 4 or more members appeared to be detrimental.\n",
    "\n",
    "How about *Name*? This variable may be useful for various reasons. If a passenger has a title other than \"Mr\" or \"Mrs\" then this may indicate class or profession and could be a predictor of survival. *Name* may also be useful to fill in missing data. For example, the name may indicate gender or port of embarkation, and the title will give a clue to age (e.g. a female with title \"Miss\" is likely to be younger than a passenger with title \"Mrs\"). For simplicity we will omit *Name* in this model, but check [here](https://triangleinequality.wordpress.com/2013/09/08/basic-feature-engineering-with-the-titanic-data/) to see an example of using the engineered feature *Title*. \n",
    "\n",
    "For now, we will perform a simple feature selection using the results from our EDA. Let's remove *PassengerID*, *Ticket* and *Name* and replace *Parch* and *SibSp* with the engineered feature *Family*. (Note that it may be that *Parch* and *SibSp* contain useful information beyond that provided by *Family*. I will leave you to look into this further.)"
   ]
  },
  {
   "cell_type": "code",
   "execution_count": 17,
   "metadata": {},
   "outputs": [
    {
     "data": {
      "text/html": [
       "<div>\n",
       "<style scoped>\n",
       "    .dataframe tbody tr th:only-of-type {\n",
       "        vertical-align: middle;\n",
       "    }\n",
       "\n",
       "    .dataframe tbody tr th {\n",
       "        vertical-align: top;\n",
       "    }\n",
       "\n",
       "    .dataframe thead th {\n",
       "        text-align: right;\n",
       "    }\n",
       "</style>\n",
       "<table border=\"1\" class=\"dataframe\">\n",
       "  <thead>\n",
       "    <tr style=\"text-align: right;\">\n",
       "      <th></th>\n",
       "      <th>Survived</th>\n",
       "      <th>Pclass</th>\n",
       "      <th>Sex</th>\n",
       "      <th>Age</th>\n",
       "      <th>Fare</th>\n",
       "      <th>Cabin</th>\n",
       "      <th>Embarked</th>\n",
       "      <th>Family</th>\n",
       "    </tr>\n",
       "  </thead>\n",
       "  <tbody>\n",
       "    <tr>\n",
       "      <th>0</th>\n",
       "      <td>0</td>\n",
       "      <td>3</td>\n",
       "      <td>male</td>\n",
       "      <td>22.0</td>\n",
       "      <td>7.2500</td>\n",
       "      <td>NaN</td>\n",
       "      <td>S</td>\n",
       "      <td>1</td>\n",
       "    </tr>\n",
       "    <tr>\n",
       "      <th>1</th>\n",
       "      <td>1</td>\n",
       "      <td>1</td>\n",
       "      <td>female</td>\n",
       "      <td>38.0</td>\n",
       "      <td>71.2833</td>\n",
       "      <td>C85</td>\n",
       "      <td>C</td>\n",
       "      <td>1</td>\n",
       "    </tr>\n",
       "    <tr>\n",
       "      <th>2</th>\n",
       "      <td>1</td>\n",
       "      <td>3</td>\n",
       "      <td>female</td>\n",
       "      <td>26.0</td>\n",
       "      <td>7.9250</td>\n",
       "      <td>NaN</td>\n",
       "      <td>S</td>\n",
       "      <td>0</td>\n",
       "    </tr>\n",
       "    <tr>\n",
       "      <th>3</th>\n",
       "      <td>1</td>\n",
       "      <td>1</td>\n",
       "      <td>female</td>\n",
       "      <td>35.0</td>\n",
       "      <td>53.1000</td>\n",
       "      <td>C123</td>\n",
       "      <td>S</td>\n",
       "      <td>1</td>\n",
       "    </tr>\n",
       "    <tr>\n",
       "      <th>4</th>\n",
       "      <td>0</td>\n",
       "      <td>3</td>\n",
       "      <td>male</td>\n",
       "      <td>35.0</td>\n",
       "      <td>8.0500</td>\n",
       "      <td>NaN</td>\n",
       "      <td>S</td>\n",
       "      <td>0</td>\n",
       "    </tr>\n",
       "  </tbody>\n",
       "</table>\n",
       "</div>"
      ],
      "text/plain": [
       "   Survived  Pclass     Sex   Age     Fare Cabin Embarked  Family\n",
       "0         0       3    male  22.0   7.2500   NaN        S       1\n",
       "1         1       1  female  38.0  71.2833   C85        C       1\n",
       "2         1       3  female  26.0   7.9250   NaN        S       0\n",
       "3         1       1  female  35.0  53.1000  C123        S       1\n",
       "4         0       3    male  35.0   8.0500   NaN        S       0"
      ]
     },
     "execution_count": 17,
     "metadata": {},
     "output_type": "execute_result"
    }
   ],
   "source": [
    "titanic = titanic.drop(['PassengerId','Name','Ticket','SibSp','Parch'],axis=1)\n",
    "titanic.head()"
   ]
  },
  {
   "cell_type": "markdown",
   "metadata": {},
   "source": [
    "## Cleaning the data\n",
    "\n",
    "Before running our data through our machine learning algorithm we must clean it: we need to decide what to do with missing data (i.e. NaNs) and convert categorical variables to numbers. \n",
    "\n",
    "Let's start by looking at where we have NaNs in the dataframe:"
   ]
  },
  {
   "cell_type": "code",
   "execution_count": 18,
   "metadata": {},
   "outputs": [
    {
     "name": "stdout",
     "output_type": "stream",
     "text": [
      "['Survived', 'Pclass', 'Sex', 'Age', 'Fare', 'Cabin', 'Embarked', 'Family']\n",
      "NaNs for Survived is 0\n",
      "NaNs for Pclass is 0\n",
      "NaNs for Sex is 0\n",
      "NaNs for Age is 177\n",
      "NaNs for Fare is 0\n",
      "NaNs for Cabin is 687\n",
      "NaNs for Embarked is 2\n",
      "NaNs for Family is 0\n"
     ]
    }
   ],
   "source": [
    "import pandas as pd\n",
    "# Go through each input feature checking if there are any (and how many) NaNs \n",
    "Features = titanic.columns.tolist() # Make a list of the feature names\n",
    "print(Features)\n",
    "for feature in Features:\n",
    "    num = 0\n",
    "    for i in range(0,len(titanic)):\n",
    "        if pd.isnull(titanic.iloc[i][feature]) == True:\n",
    "            num = num + 1\n",
    "    print('NaNs for', feature ,'is', num)"
   ]
  },
  {
   "cell_type": "markdown",
   "metadata": {},
   "source": [
    "*Age*, *Cabin* and *Embarked* all contain entries with NaNs. \n",
    "\n",
    "*Cabin* is the most straight-forward to deal with, so we'll do that first. Print out all unique *Cabin* entries:"
   ]
  },
  {
   "cell_type": "code",
   "execution_count": 19,
   "metadata": {},
   "outputs": [
    {
     "name": "stdout",
     "output_type": "stream",
     "text": [
      "Cabins are: [nan 'C85' 'C123' 'E46' 'G6' 'C103' 'D56' 'A6' 'C23 C25 C27' 'B78' 'D33'\n",
      " 'B30' 'C52' 'B28' 'C83' 'F33' 'F G73' 'E31' 'A5' 'D10 D12' 'D26' 'C110'\n",
      " 'B58 B60' 'E101' 'F E69' 'D47' 'B86' 'F2' 'C2' 'E33' 'B19' 'A7' 'C49'\n",
      " 'F4' 'A32' 'B4' 'B80' 'A31' 'D36' 'D15' 'C93' 'C78' 'D35' 'C87' 'B77'\n",
      " 'E67' 'B94' 'C125' 'C99' 'C118' 'D7' 'A19' 'B49' 'D' 'C22 C26' 'C106'\n",
      " 'C65' 'E36' 'C54' 'B57 B59 B63 B66' 'C7' 'E34' 'C32' 'B18' 'C124' 'C91'\n",
      " 'E40' 'T' 'C128' 'D37' 'B35' 'E50' 'C82' 'B96 B98' 'E10' 'E44' 'A34'\n",
      " 'C104' 'C111' 'C92' 'E38' 'D21' 'E12' 'E63' 'A14' 'B37' 'C30' 'D20' 'B79'\n",
      " 'E25' 'D46' 'B73' 'C95' 'B38' 'B39' 'B22' 'C86' 'C70' 'A16' 'C101' 'C68'\n",
      " 'A10' 'E68' 'B41' 'A20' 'D19' 'D50' 'D9' 'A23' 'B50' 'A26' 'D48' 'E58'\n",
      " 'C126' 'B71' 'B51 B53 B55' 'D49' 'B5' 'B20' 'F G63' 'C62 C64' 'E24' 'C90'\n",
      " 'C45' 'E8' 'B101' 'D45' 'C46' 'D30' 'E121' 'D11' 'E77' 'F38' 'B3' 'D6'\n",
      " 'B82 B84' 'D17' 'A36' 'B102' 'B69' 'E49' 'C47' 'D28' 'E17' 'A24' 'C50'\n",
      " 'B42' 'C148']\n"
     ]
    }
   ],
   "source": [
    "print('Cabins are:', titanic.Cabin.unique())"
   ]
  },
  {
   "cell_type": "markdown",
   "metadata": {},
   "source": [
    "Let's assign a '1' to those passengers with a cabin and '0' to those without a cabin (i.e. all those with NaN entries). I will leave it to you to investigate whether or not the deck location of the cabin is a useful predictor of survival - look [here](https://triangleinequality.wordpress.com/2013/09/08/basic-feature-engineering-with-the-titanic-data/) to see how to strip the numbers from the cabin name."
   ]
  },
  {
   "cell_type": "code",
   "execution_count": 20,
   "metadata": {},
   "outputs": [
    {
     "name": "stdout",
     "output_type": "stream",
     "text": [
      "Number of passengers with a cabin: 204\n"
     ]
    }
   ],
   "source": [
    "# Loop over passengers and assign '0' for no cabin and '1' for cabin\n",
    "import math\n",
    "Cabin_binary = [] \n",
    "for cabin in titanic.Cabin:\n",
    "    if str(cabin) == 'nan': # Convert cabin to str and check if nan\n",
    "        Cabin_binary.append(0)\n",
    "    else:\n",
    "        Cabin_binary.append(1)\n",
    "print('Number of passengers with a cabin:',sum(Cabin_binary))"
   ]
  },
  {
   "cell_type": "markdown",
   "metadata": {},
   "source": [
    "Replace *Cabin* with *Cabin_binary* in the dataframe."
   ]
  },
  {
   "cell_type": "code",
   "execution_count": 21,
   "metadata": {},
   "outputs": [
    {
     "data": {
      "text/html": [
       "<div>\n",
       "<style scoped>\n",
       "    .dataframe tbody tr th:only-of-type {\n",
       "        vertical-align: middle;\n",
       "    }\n",
       "\n",
       "    .dataframe tbody tr th {\n",
       "        vertical-align: top;\n",
       "    }\n",
       "\n",
       "    .dataframe thead th {\n",
       "        text-align: right;\n",
       "    }\n",
       "</style>\n",
       "<table border=\"1\" class=\"dataframe\">\n",
       "  <thead>\n",
       "    <tr style=\"text-align: right;\">\n",
       "      <th></th>\n",
       "      <th>Survived</th>\n",
       "      <th>Pclass</th>\n",
       "      <th>Sex</th>\n",
       "      <th>Age</th>\n",
       "      <th>Fare</th>\n",
       "      <th>Cabin</th>\n",
       "      <th>Embarked</th>\n",
       "      <th>Family</th>\n",
       "    </tr>\n",
       "  </thead>\n",
       "  <tbody>\n",
       "    <tr>\n",
       "      <th>0</th>\n",
       "      <td>0</td>\n",
       "      <td>3</td>\n",
       "      <td>male</td>\n",
       "      <td>22.0</td>\n",
       "      <td>7.2500</td>\n",
       "      <td>0</td>\n",
       "      <td>S</td>\n",
       "      <td>1</td>\n",
       "    </tr>\n",
       "    <tr>\n",
       "      <th>1</th>\n",
       "      <td>1</td>\n",
       "      <td>1</td>\n",
       "      <td>female</td>\n",
       "      <td>38.0</td>\n",
       "      <td>71.2833</td>\n",
       "      <td>1</td>\n",
       "      <td>C</td>\n",
       "      <td>1</td>\n",
       "    </tr>\n",
       "    <tr>\n",
       "      <th>2</th>\n",
       "      <td>1</td>\n",
       "      <td>3</td>\n",
       "      <td>female</td>\n",
       "      <td>26.0</td>\n",
       "      <td>7.9250</td>\n",
       "      <td>0</td>\n",
       "      <td>S</td>\n",
       "      <td>0</td>\n",
       "    </tr>\n",
       "    <tr>\n",
       "      <th>3</th>\n",
       "      <td>1</td>\n",
       "      <td>1</td>\n",
       "      <td>female</td>\n",
       "      <td>35.0</td>\n",
       "      <td>53.1000</td>\n",
       "      <td>1</td>\n",
       "      <td>S</td>\n",
       "      <td>1</td>\n",
       "    </tr>\n",
       "    <tr>\n",
       "      <th>4</th>\n",
       "      <td>0</td>\n",
       "      <td>3</td>\n",
       "      <td>male</td>\n",
       "      <td>35.0</td>\n",
       "      <td>8.0500</td>\n",
       "      <td>0</td>\n",
       "      <td>S</td>\n",
       "      <td>0</td>\n",
       "    </tr>\n",
       "  </tbody>\n",
       "</table>\n",
       "</div>"
      ],
      "text/plain": [
       "   Survived  Pclass     Sex   Age     Fare  Cabin Embarked  Family\n",
       "0         0       3    male  22.0   7.2500      0        S       1\n",
       "1         1       1  female  38.0  71.2833      1        C       1\n",
       "2         1       3  female  26.0   7.9250      0        S       0\n",
       "3         1       1  female  35.0  53.1000      1        S       1\n",
       "4         0       3    male  35.0   8.0500      0        S       0"
      ]
     },
     "execution_count": 21,
     "metadata": {},
     "output_type": "execute_result"
    }
   ],
   "source": [
    "# Replace 'Cabin' with Cabin_binary (but still named 'Cabin')\n",
    "titanic['Cabin'] = Cabin_binary\n",
    "titanic.head()"
   ]
  },
  {
   "cell_type": "markdown",
   "metadata": {},
   "source": [
    "There are various ways to proceed in order to deal with missing data for *Age* and *Embarked*. Bear in mind that if you are planning to enter the Kaggle 'Titanic - Machine Learning from Disaster' competition then you will need a method for dealing with NaNs in the Kaggle test.csv file [here](https://www.kaggle.com/c/titanic/data?select=test.csv) used to submit results.\n",
    "\n",
    "For example, we could:\n",
    "\n",
    "1. Remove all rows containing missing data to train our model and for each passenger in the test set with an NaN entry simply assign *Survive* according to the probability of survival from the training set.\n",
    "2. Replace each NaN entry in the dataframe with the mean for that feature (for continuous varibles) or the mode (for categorical variables).\n",
    "3. Replace each NaN using a more sophisticated method that takes into account clues from the other variables (e.g. different distibutions of *Age* for men and women, *Name* may indicate age group etc).\n",
    "\n",
    "For now we will proceed with route (2). However, note that this method may bias our predictions and it is worth trying other ways to better deal with missing data."
   ]
  },
  {
   "cell_type": "code",
   "execution_count": 22,
   "metadata": {},
   "outputs": [
    {
     "name": "stdout",
     "output_type": "stream",
     "text": [
      "Mean age over all passengers is: 29.7 years\n"
     ]
    }
   ],
   "source": [
    "# Replace NaNs in \"Age\" with the mean value over all passengers (improve on this later!)\n",
    "import numpy as np\n",
    "mean_age = titanic.Age.mean()\n",
    "print('Mean age over all passengers is:', np.round(mean_age,2), 'years')\n",
    "#titanic = titanic\n",
    "titanic['Age'] = titanic['Age'].fillna(mean_age)"
   ]
  },
  {
   "cell_type": "markdown",
   "metadata": {},
   "source": [
    "Replace NaNs in *Embarked* by the mode, 'S'. (Perhaps we could inprove on this later by using the information in *Name* to indicate nationality?)"
   ]
  },
  {
   "cell_type": "code",
   "execution_count": 23,
   "metadata": {},
   "outputs": [
    {
     "data": {
      "text/html": [
       "<div>\n",
       "<style scoped>\n",
       "    .dataframe tbody tr th:only-of-type {\n",
       "        vertical-align: middle;\n",
       "    }\n",
       "\n",
       "    .dataframe tbody tr th {\n",
       "        vertical-align: top;\n",
       "    }\n",
       "\n",
       "    .dataframe thead th {\n",
       "        text-align: right;\n",
       "    }\n",
       "</style>\n",
       "<table border=\"1\" class=\"dataframe\">\n",
       "  <thead>\n",
       "    <tr style=\"text-align: right;\">\n",
       "      <th></th>\n",
       "      <th>Survived</th>\n",
       "      <th>Pclass</th>\n",
       "      <th>Sex</th>\n",
       "      <th>Age</th>\n",
       "      <th>Fare</th>\n",
       "      <th>Cabin</th>\n",
       "      <th>Embarked</th>\n",
       "      <th>Family</th>\n",
       "    </tr>\n",
       "  </thead>\n",
       "  <tbody>\n",
       "    <tr>\n",
       "      <th>0</th>\n",
       "      <td>0</td>\n",
       "      <td>3</td>\n",
       "      <td>male</td>\n",
       "      <td>22.0</td>\n",
       "      <td>7.2500</td>\n",
       "      <td>0</td>\n",
       "      <td>S</td>\n",
       "      <td>1</td>\n",
       "    </tr>\n",
       "    <tr>\n",
       "      <th>1</th>\n",
       "      <td>1</td>\n",
       "      <td>1</td>\n",
       "      <td>female</td>\n",
       "      <td>38.0</td>\n",
       "      <td>71.2833</td>\n",
       "      <td>1</td>\n",
       "      <td>C</td>\n",
       "      <td>1</td>\n",
       "    </tr>\n",
       "    <tr>\n",
       "      <th>2</th>\n",
       "      <td>1</td>\n",
       "      <td>3</td>\n",
       "      <td>female</td>\n",
       "      <td>26.0</td>\n",
       "      <td>7.9250</td>\n",
       "      <td>0</td>\n",
       "      <td>S</td>\n",
       "      <td>0</td>\n",
       "    </tr>\n",
       "    <tr>\n",
       "      <th>3</th>\n",
       "      <td>1</td>\n",
       "      <td>1</td>\n",
       "      <td>female</td>\n",
       "      <td>35.0</td>\n",
       "      <td>53.1000</td>\n",
       "      <td>1</td>\n",
       "      <td>S</td>\n",
       "      <td>1</td>\n",
       "    </tr>\n",
       "    <tr>\n",
       "      <th>4</th>\n",
       "      <td>0</td>\n",
       "      <td>3</td>\n",
       "      <td>male</td>\n",
       "      <td>35.0</td>\n",
       "      <td>8.0500</td>\n",
       "      <td>0</td>\n",
       "      <td>S</td>\n",
       "      <td>0</td>\n",
       "    </tr>\n",
       "  </tbody>\n",
       "</table>\n",
       "</div>"
      ],
      "text/plain": [
       "   Survived  Pclass     Sex   Age     Fare  Cabin Embarked  Family\n",
       "0         0       3    male  22.0   7.2500      0        S       1\n",
       "1         1       1  female  38.0  71.2833      1        C       1\n",
       "2         1       3  female  26.0   7.9250      0        S       0\n",
       "3         1       1  female  35.0  53.1000      1        S       1\n",
       "4         0       3    male  35.0   8.0500      0        S       0"
      ]
     },
     "execution_count": 23,
     "metadata": {},
     "output_type": "execute_result"
    }
   ],
   "source": [
    "titanic['Embarked'] = titanic['Embarked'].fillna('S')\n",
    "titanic.head()"
   ]
  },
  {
   "cell_type": "markdown",
   "metadata": {},
   "source": [
    "Finally, we need to convert categorical data to numerical. The categorical features have Dtype \"object\".\n",
    "\n",
    "*Sex* is given as male or female, so lets change this to 0 (male) and 1 (female). *Embarked* will be given outputs 0, 1 and 2 for 'S', 'C' and 'Q', respectively."
   ]
  },
  {
   "cell_type": "code",
   "execution_count": 24,
   "metadata": {},
   "outputs": [
    {
     "data": {
      "text/html": [
       "<div>\n",
       "<style scoped>\n",
       "    .dataframe tbody tr th:only-of-type {\n",
       "        vertical-align: middle;\n",
       "    }\n",
       "\n",
       "    .dataframe tbody tr th {\n",
       "        vertical-align: top;\n",
       "    }\n",
       "\n",
       "    .dataframe thead th {\n",
       "        text-align: right;\n",
       "    }\n",
       "</style>\n",
       "<table border=\"1\" class=\"dataframe\">\n",
       "  <thead>\n",
       "    <tr style=\"text-align: right;\">\n",
       "      <th></th>\n",
       "      <th>Survived</th>\n",
       "      <th>Pclass</th>\n",
       "      <th>Sex</th>\n",
       "      <th>Age</th>\n",
       "      <th>Fare</th>\n",
       "      <th>Cabin</th>\n",
       "      <th>Embarked</th>\n",
       "      <th>Family</th>\n",
       "    </tr>\n",
       "  </thead>\n",
       "  <tbody>\n",
       "    <tr>\n",
       "      <th>0</th>\n",
       "      <td>0</td>\n",
       "      <td>3</td>\n",
       "      <td>0</td>\n",
       "      <td>22.0</td>\n",
       "      <td>7.2500</td>\n",
       "      <td>0</td>\n",
       "      <td>0</td>\n",
       "      <td>1</td>\n",
       "    </tr>\n",
       "    <tr>\n",
       "      <th>1</th>\n",
       "      <td>1</td>\n",
       "      <td>1</td>\n",
       "      <td>1</td>\n",
       "      <td>38.0</td>\n",
       "      <td>71.2833</td>\n",
       "      <td>1</td>\n",
       "      <td>1</td>\n",
       "      <td>1</td>\n",
       "    </tr>\n",
       "    <tr>\n",
       "      <th>2</th>\n",
       "      <td>1</td>\n",
       "      <td>3</td>\n",
       "      <td>1</td>\n",
       "      <td>26.0</td>\n",
       "      <td>7.9250</td>\n",
       "      <td>0</td>\n",
       "      <td>0</td>\n",
       "      <td>0</td>\n",
       "    </tr>\n",
       "    <tr>\n",
       "      <th>3</th>\n",
       "      <td>1</td>\n",
       "      <td>1</td>\n",
       "      <td>1</td>\n",
       "      <td>35.0</td>\n",
       "      <td>53.1000</td>\n",
       "      <td>1</td>\n",
       "      <td>0</td>\n",
       "      <td>1</td>\n",
       "    </tr>\n",
       "    <tr>\n",
       "      <th>4</th>\n",
       "      <td>0</td>\n",
       "      <td>3</td>\n",
       "      <td>0</td>\n",
       "      <td>35.0</td>\n",
       "      <td>8.0500</td>\n",
       "      <td>0</td>\n",
       "      <td>0</td>\n",
       "      <td>0</td>\n",
       "    </tr>\n",
       "  </tbody>\n",
       "</table>\n",
       "</div>"
      ],
      "text/plain": [
       "   Survived  Pclass  Sex   Age     Fare  Cabin  Embarked  Family\n",
       "0         0       3    0  22.0   7.2500      0         0       1\n",
       "1         1       1    1  38.0  71.2833      1         1       1\n",
       "2         1       3    1  26.0   7.9250      0         0       0\n",
       "3         1       1    1  35.0  53.1000      1         0       1\n",
       "4         0       3    0  35.0   8.0500      0         0       0"
      ]
     },
     "execution_count": 24,
     "metadata": {},
     "output_type": "execute_result"
    }
   ],
   "source": [
    "# Convert object types to numerical\n",
    "if titanic.Sex[0] == 'male' or titanic.Sex[0] == 'female':\n",
    "    titanic['Sex']=titanic['Sex'].map({'male' : 0, 'female' : 1})\n",
    "    titanic['Embarked']=titanic['Embarked'].map({'S' : 0, 'C' : 1, 'Q' : 2})\n",
    "\n",
    "titanic.head()"
   ]
  },
  {
   "cell_type": "markdown",
   "metadata": {},
   "source": [
    "The cleaned dataframe contains 7 features and 891 observations."
   ]
  },
  {
   "cell_type": "code",
   "execution_count": 25,
   "metadata": {},
   "outputs": [
    {
     "name": "stdout",
     "output_type": "stream",
     "text": [
      "<class 'pandas.core.frame.DataFrame'>\n",
      "RangeIndex: 891 entries, 0 to 890\n",
      "Data columns (total 8 columns):\n",
      " #   Column    Non-Null Count  Dtype  \n",
      "---  ------    --------------  -----  \n",
      " 0   Survived  891 non-null    int64  \n",
      " 1   Pclass    891 non-null    int64  \n",
      " 2   Sex       891 non-null    int64  \n",
      " 3   Age       891 non-null    float64\n",
      " 4   Fare      891 non-null    float64\n",
      " 5   Cabin     891 non-null    int64  \n",
      " 6   Embarked  891 non-null    int64  \n",
      " 7   Family    891 non-null    int64  \n",
      "dtypes: float64(2), int64(6)\n",
      "memory usage: 55.8 KB\n"
     ]
    }
   ],
   "source": [
    "titanic.info()"
   ]
  },
  {
   "cell_type": "markdown",
   "metadata": {},
   "source": [
    "## Decision Tree Classifier"
   ]
  },
  {
   "cell_type": "code",
   "execution_count": 26,
   "metadata": {},
   "outputs": [
    {
     "name": "stdout",
     "output_type": "stream",
     "text": [
      "Accuracy on test set: 0.81\n",
      "Features in order of importance:\n",
      "Sex\n",
      "Pclass\n",
      "Cabin\n",
      "Age\n",
      "Fare\n",
      "Embarked\n",
      "Family\n"
     ]
    }
   ],
   "source": [
    "# Now run the ML decision tree algorithm\n",
    "\n",
    "# Begin by separating into training and test datasets so we can test our algorithm's performance\n",
    "from sklearn.model_selection import train_test_split\n",
    "X=titanic.drop(['Survived'],axis=1) # Input variables\n",
    "X_names = Features[1:] # Remove 'Survived' from feature names\n",
    "y=titanic['Survived'] # Target variable\n",
    "y_names=['Died','Survived'] # Target labels\n",
    "X_train, X_test, y_train, y_test = train_test_split(X, y, test_size=0.25, random_state=2, stratify=y)  \n",
    "\n",
    "from sklearn import tree\n",
    "decision_tree = tree.DecisionTreeClassifier(max_depth = 3, random_state=7) # Choose tree depth\n",
    "decision_tree.fit(X_train,y_train)\n",
    "y_pred=decision_tree.predict(X_test)\n",
    "\n",
    "from sklearn import metrics\n",
    "# Print the model accuracy (how often is the classifier correct?)\n",
    "print(\"Accuracy on test set:\",np.round(metrics.accuracy_score(y_test, y_pred),2))\n",
    "\n",
    "# Print out the feature importances\n",
    "feature_importances_dict = {}\n",
    "for i, name in enumerate(X_names): feature_importances_dict.update({name : decision_tree.feature_importances_[i]})\n",
    "\n",
    "# Sort features in descending order of importance (need to use reverse=True for descending)  \n",
    "feature_importances_sorted = dict(sorted(feature_importances_dict.items(), key=lambda x:x[1], reverse=True)) \n",
    "# items() method returns (key,value) tuple\n",
    "print('Features in order of importance:')   \n",
    "for key in feature_importances_sorted:\n",
    "    print(key)\n",
    "    \n",
    "# Run the above code with different random_state seeds and max_depth values to see the effect on feature importance."
   ]
  },
  {
   "cell_type": "markdown",
   "metadata": {},
   "source": [
    "## Visualise the Decision Tree\n",
    "\n",
    "Visualise the model using the plot_tree function (note that it will be difficult to see if you have used max_depth > 3)."
   ]
  },
  {
   "cell_type": "code",
   "execution_count": 27,
   "metadata": {},
   "outputs": [
    {
     "data": {
      "image/png": "[encoded data removed]",
      "text/plain": [
       "<Figure size 1440x720 with 1 Axes>"
      ]
     },
     "metadata": {
      "needs_background": "light"
     },
     "output_type": "display_data"
    }
   ],
   "source": [
    "from matplotlib import pyplot as plt\n",
    "fig = plt.figure(figsize=(20,10))\n",
    "_ = tree.plot_tree(decision_tree,feature_names=X_names,class_names=y_names,filled=True) # _ stops annotations print-out"
   ]
  },
  {
   "cell_type": "markdown",
   "metadata": {},
   "source": [
    "Look at the nodes and try to understand what is written in each one. At the top of each node is the decision rule used for the split into the two child nodes e.g. in the root node the data is divided by *Sex* with male passengers (*Sex* = 0 <= 0.5) put in the left-hand child node and female passengers in the right-hand child node. The 'gini' value is the Gini Impurity for that node (see these [lecture slides](https://moodle.essex.ac.uk/pluginfile.php/1771417/mod_resource/content/1/MA336_ML_Lectures2and3.pdf) for a description of the Gini Impurity). The higher the Gini Impurity, the greater the mixing between classes. The 'samples' value is the total number of observations in that node (which for the root node is all of the training data - check this is correct using the command len(X_train)). The 'value' list is the number of samples in each class, in this case ['Died', 'Survived']. The class of the node is assigned according to which class has the greater number of samples. This is helpful to see how the classifier would perform if the tree was terminated at that depth. The leaf nodes give the final classification of each sample.\n",
    "\n",
    "We can calculate the model performance using an accuracy metric by adding up all the correct classifications from the leaf nodes and dividing by the total number of samples. Check you get the same accuracy as output by the accuracy_score() function from sklearn."
   ]
  },
  {
   "cell_type": "markdown",
   "metadata": {},
   "source": [
    "## Plot accuracy against tree depth (hold-out method)"
   ]
  },
  {
   "cell_type": "markdown",
   "metadata": {},
   "source": [
    "<div class=\"alert alert-block alert-info\"><b>Exercise 3:</b><br>\n",
    "    \n",
    "Now that you have played with different tree depths it's time to make a plot. Create a list of tree depths and loop over this list to obtain a corresponding accuracy for each depth for both the training and the test datasets. Try running your code for different train/test splits i.e. with different random_state values in the train_test_split() funtion."
   ]
  },
  {
   "cell_type": "code",
   "execution_count": 3,
   "metadata": {},
   "outputs": [],
   "source": [
    "### Exercise 3: Solution ###\n",
    "\n"
   ]
  },
  {
   "cell_type": "markdown",
   "metadata": {},
   "source": [
    "## Accuracy using k-fold cross-validation"
   ]
  },
  {
   "cell_type": "code",
   "execution_count": 29,
   "metadata": {},
   "outputs": [
    {
     "name": "stdout",
     "output_type": "stream",
     "text": [
      "Cross-validation scores are: [0.75977654 0.82022472 0.80898876 0.78651685 0.85393258]\n",
      "Average performance for a tree depth of 4 is: 80.6 +/- 3.5 %\n"
     ]
    }
   ],
   "source": [
    "# Use 5-fold cross-validation to compute the mean accuracy at a tree depth of 4\n",
    "from sklearn.model_selection import cross_val_score\n",
    "maxDepth = 4\n",
    "k=5\n",
    "decision_tree = tree.DecisionTreeClassifier(max_depth=maxDepth, random_state=2)\n",
    "cv_scores = cross_val_score(decision_tree, X, y, cv=k)\n",
    "print('Cross-validation scores are:',cv_scores)\n",
    "avg = sum(cv_scores)/len(cv_scores)\n",
    "sd = math.sqrt(sum((cv_scores-avg)**2)/(len(cv_scores)-1))\n",
    "print('Average performance for a tree depth of',maxDepth,'is:',np.round(avg*100,1),'+/-',np.round(sd*100,1),'%')"
   ]
  },
  {
   "cell_type": "markdown",
   "metadata": {},
   "source": [
    "<div class=\"alert alert-block alert-info\"><b>Exercise 4:</b><br>\n",
    "    \n",
    "Plot accuracy against tree depth using k-fold cross-validation to replace the simple Hold-out method used in the previous plot."
   ]
  },
  {
   "cell_type": "code",
   "execution_count": 4,
   "metadata": {},
   "outputs": [],
   "source": [
    "### Exercise 4: Solution ###\n",
    "\n"
   ]
  },
  {
   "cell_type": "markdown",
   "metadata": {},
   "source": [
    "The accuracy on the test set peaks at a depth of around 5-7 (although the error bars are large).\n",
    "\n"
   ]
  },
  {
   "cell_type": "markdown",
   "metadata": {},
   "source": [
    "## Feature Importances"
   ]
  },
  {
   "cell_type": "code",
   "execution_count": 31,
   "metadata": {},
   "outputs": [
    {
     "data": {
      "image/png": "[encoded data removed]",
      "text/plain": [
       "<Figure size 432x288 with 1 Axes>"
      ]
     },
     "metadata": {
      "needs_background": "light"
     },
     "output_type": "display_data"
    }
   ],
   "source": [
    "# Plot a histogram of feature importances using a fixed tree depth\n",
    "\n",
    "def get_feature_importances(X,y,randomState,maxDepth):\n",
    "    from sklearn import tree, model_selection\n",
    "    X_train, X_test, y_train, y_test = model_selection.train_test_split(X, y, test_size=0.25, \n",
    "                                                                        random_state=randomState, stratify=y)  \n",
    "    decision_tree = tree.DecisionTreeClassifier(max_depth = maxDepth, random_state=randomState)\n",
    "    decision_tree.fit(X_train,y_train)\n",
    "    return decision_tree.feature_importances_\n",
    "\n",
    "maxDepth = 6\n",
    "\n",
    "# Get feature importances for different train/test splits (by changing random_state in train_test_split()) and compute the average importance for each feature.\n",
    "import random\n",
    "random.seed(2)\n",
    "feature_importances_summed = np.zeros(len(X_names))\n",
    "n=100\n",
    "for i in range(0,n):\n",
    "    randomState = random.randint(0,1000)\n",
    "    feature_importances = get_feature_importances(X,y,randomState,maxDepth)\n",
    "    # Commented out the below 2 lines and replaced with 1 (better to use less lines of code!)\n",
    "    #tmp = zip(feature_importances_summed,feature_importances)\n",
    "    #feature_importances_summed = [(x + y) for (x, y) in tmp]\n",
    "    feature_importances_summed = feature_importances_summed + feature_importances\n",
    "feature_importances_mean = [number / n for number in feature_importances_summed]\n",
    "\n",
    "fig, ax = plt.subplots(1,1)\n",
    "ax.bar(X_names, feature_importances_mean,color='tab:green')\n",
    "ax.set_ylabel('Feature importance')    \n",
    "plt.show()"
   ]
  },
  {
   "cell_type": "markdown",
   "metadata": {},
   "source": [
    "## Random Forest Classifier"
   ]
  },
  {
   "cell_type": "markdown",
   "metadata": {},
   "source": [
    "Individual decision trees are prone to overfitting, especically if they are grown too deep. Random Forests allow trees to be grown deeper as they rely on \"majority vote\" and so are less exposed to the peculiarities of the training set. Below we run a Random Forest classifier."
   ]
  },
  {
   "cell_type": "code",
   "execution_count": 32,
   "metadata": {},
   "outputs": [
    {
     "name": "stdout",
     "output_type": "stream",
     "text": [
      "Accuracy on training set: 0.99\n",
      "Accuracy on test set: 0.83\n",
      "OOB score: 0.8\n"
     ]
    }
   ],
   "source": [
    "from sklearn.ensemble import RandomForestClassifier\n",
    "forest = RandomForestClassifier(n_estimators=100,bootstrap=True,max_features='auto',criterion='gini',max_depth=None,random_state=3,oob_score=True)\n",
    "forest.fit(X_train,y_train)\n",
    "y_train_pred = forest.predict(X_train)\n",
    "print(\"Accuracy on training set:\",round(metrics.accuracy_score(y_train, y_train_pred),2))\n",
    "y_test_pred = forest.predict(X_test)\n",
    "print(\"Accuracy on test set:\",round(metrics.accuracy_score(y_test, y_test_pred),2))\n",
    "print(\"OOB score:\",round(forest.oob_score_,2)) # Alternative to test set validation method "
   ]
  },
  {
   "cell_type": "markdown",
   "metadata": {},
   "source": [
    "[Out-of-bag error](https://en.wikipedia.org/wiki/Out-of-bag_error) can be computed when bootstrap aggregating (bagging) it is used. This adds an extra layer of validation as described in the [documentation](https://scikit-learn.org/stable/auto_examples/ensemble/plot_ensemble_oob.html)."
   ]
  },
  {
   "cell_type": "markdown",
   "metadata": {},
   "source": [
    "<div class=\"alert alert-block alert-info\"><b>Exercise 5:</b><br>\n",
    "    \n",
    "Plot the mean performance of the Random Forest algorithm as a function of tree depth using different numbers of trees. Show that each individual tree can be grown deeper when an ensemble method is used and a greater accuracy achieved overall. Also show on the plot the results from cross-validation using a single decision tree for comparison. (Note that you should not set n_estimators=1 in the Random Forest algorithm to represent a single decision tree unless max_features is set equal to the total number of features in the dataframe and bootStrap=False)."
   ]
  },
  {
   "cell_type": "code",
   "execution_count": 5,
   "metadata": {},
   "outputs": [],
   "source": [
    "### Exercise 5: Solution ###\n",
    "\n"
   ]
  },
  {
   "cell_type": "markdown",
   "metadata": {},
   "source": [
    "---\n",
    "<div style=\"text-align: right ;font-size: small; color: gray\"> Notebook by <a href=\"http://mariogutierrezroig.net\">Mario Gutiérrez-Roig</a> and <a href=\"https://www.essex.ac.uk/people/voigt40704/lisa-voigt\">Lisa Voigt</a>, Lecturers in Data Science and Statistics at the University of Essex <a href=\"http://creativecommons.org/licenses/by-sa/4.0/\" rel=\"license\"><img src=\"https://i.creativecommons.org/l/by-sa/4.0/88x31.png\" alt=\"Licencia de Creative Commons\" hspace=\"10\" align=\"right\"></a></div>"
   ]
  }
 ],
 "metadata": {
  "kernelspec": {
   "display_name": "Python 3 (ipykernel)",
   "language": "python",
   "name": "python3"
  },
  "language_info": {
   "codemirror_mode": {
    "name": "ipython",
    "version": 3
   },
   "file_extension": ".py",
   "mimetype": "text/x-python",
   "name": "python",
   "nbconvert_exporter": "python",
   "pygments_lexer": "ipython3",
   "version": "3.8.13"
  }
 },
 "nbformat": 4,
 "nbformat_minor": 4
}
